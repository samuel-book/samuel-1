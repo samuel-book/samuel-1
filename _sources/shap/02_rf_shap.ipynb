{
 "cells": [
  {
   "cell_type": "markdown",
   "id": "3201efca",
   "metadata": {},
   "source": [
    "# Explaining random forest model predictions with Shapley values\n",
    "\n",
    "Shapley values provide an estimate of how much any particular feature influences the model decision. When Shapley values are averaged they provide a measure of the overall influence of a feature.\n",
    "\n",
    "Shapley values may be used across model types, and so provide a model-agnostic measure of a feature’s influence. This means that the influence of features may be compared across model types, and it allows black box models like neural networks to be explained, at least in part.\n",
    "\n",
    "For more on Shapley values in general see Chris Molner’s excellent book chapter:\n",
    "\n",
    "https://christophm.github.io/interpretable-ml-book/shapley.html\n",
    "\n",
    "\n",
    "More information on the shap library, inclusiong lots of useful examples may be found at: https://shap.readthedocs.io/en/latest/index.html\n",
    "\n",
    "Here we provide an example of using shap with random forests."
   ]
  },
  {
   "cell_type": "markdown",
   "id": "b4981adb-1981-4516-8410-f034ef262eb0",
   "metadata": {},
   "source": [
    "## Note on shap version 0.40:\n",
    "\n",
    "There is a bug in the waterfall plot where `show=False` (required to save plot) fails. To correct this find the `_waterfall.py` file in the shap library (e.g. in `anaconda/envs/samuel2/lib/python3.8/site-packages/shap/plots`, and search/replace all `pl.` to `.plt`."
   ]
  },
  {
   "cell_type": "markdown",
   "id": "64835541",
   "metadata": {},
   "source": [
    "## Load packages"
   ]
  },
  {
   "cell_type": "code",
   "execution_count": 1,
   "id": "54b1a9b2",
   "metadata": {},
   "outputs": [],
   "source": [
    "# Turn warnings off to keep notebook tidy\n",
    "import warnings\n",
    "warnings.filterwarnings(\"ignore\")\n",
    "\n",
    "import matplotlib.pyplot as plt\n",
    "import numpy as np\n",
    "import pandas as pd\n",
    "import pickle\n",
    "import shap\n",
    "\n",
    "from sklearn.ensemble import RandomForestClassifier"
   ]
  },
  {
   "cell_type": "markdown",
   "id": "af52db97",
   "metadata": {},
   "source": [
    "## Load data\n",
    "\n",
    "We will use the first train/test split."
   ]
  },
  {
   "cell_type": "code",
   "execution_count": 2,
   "id": "65281d80",
   "metadata": {},
   "outputs": [],
   "source": [
    "data_loc = '../../data/sam_1/kfold_5fold/'\n",
    "\n",
    "train = pd.read_csv(data_loc + 'train_0.csv')\n",
    "test = pd.read_csv(data_loc + 'test_0.csv')"
   ]
  },
  {
   "cell_type": "markdown",
   "id": "7f2fcacb",
   "metadata": {},
   "source": [
    "## Fit random forest model\n",
    "\n",
    "Fit model and get feature importances."
   ]
  },
  {
   "cell_type": "code",
   "execution_count": 3,
   "id": "ea32bce5",
   "metadata": {},
   "outputs": [
    {
     "name": "stdout",
     "output_type": "stream",
     "text": [
      "Accuracy: 0.845\n"
     ]
    }
   ],
   "source": [
    "# Get X and y\n",
    "X_train = train.drop('S2Thrombolysis', axis=1)\n",
    "X_test = test.drop('S2Thrombolysis', axis=1)\n",
    "y_train = train['S2Thrombolysis']\n",
    "y_test = test['S2Thrombolysis']\n",
    "\n",
    "# One hot encode hospitals\n",
    "X_train_hosp = pd.get_dummies(X_train['StrokeTeam'], prefix = 'team')\n",
    "X_train = pd.concat([X_train, X_train_hosp], axis=1)\n",
    "X_train.drop('StrokeTeam', axis=1, inplace=True)\n",
    "X_test_hosp = pd.get_dummies(X_test['StrokeTeam'], prefix = 'team')\n",
    "X_test = pd.concat([X_test, X_test_hosp], axis=1)\n",
    "X_test.drop('StrokeTeam', axis=1, inplace=True)\n",
    "\n",
    "# Define and Fit model\n",
    "model = RandomForestClassifier(\n",
    "    n_estimators=100, n_jobs=-1, class_weight='balanced', random_state=42)\n",
    "model.fit(X_train, y_train)\n",
    "\n",
    "# Get feature weights\n",
    "features = list(X_train)\n",
    "feature_importances = model.feature_importances_\n",
    "importances = pd.DataFrame(index=features)\n",
    "importances['importance'] = feature_importances\n",
    "importances['rank'] = importances['importance'].rank(ascending=False).values\n",
    "\n",
    "# Get predicted class and ptrobability\n",
    "y_pred = model.predict(X_test)\n",
    "y_prob = model.predict_proba(X_test)[:, 1]\n",
    "\n",
    "# Measure accuracy\n",
    "accuracy = np.mean(y_pred == y_test)\n",
    "print(f'Accuracy: {accuracy:0.3f}')"
   ]
  },
  {
   "cell_type": "markdown",
   "id": "e386af08",
   "metadata": {},
   "source": [
    "## Shap values\n",
    "\n",
    "### Get Shap values\n",
    "\n",
    "We will get the Shap values for the test set. Can chose to calculate shap and save, or load shap explainer."
   ]
  },
  {
   "cell_type": "code",
   "execution_count": null,
   "id": "30c7d455",
   "metadata": {},
   "outputs": [
    {
     "name": "stderr",
     "output_type": "stream",
     "text": [
      " 44%|=========           | 15525/35518 [42:27<54:40]       "
     ]
    }
   ],
   "source": [
    "calculate_shap_values = True\n",
    "\n",
    "if calculate_shap_values:\n",
    "\n",
    "    # Set up explainer using typical feature values from training set\n",
    "    # Note: Use a sample of 100-1000 for this if explainer too slow\n",
    "    explainer = shap.TreeExplainer(\n",
    "        model, X_train.sample(100), model_output=\"probability\")\n",
    "\n",
    "    # Get Shapley values along with base and features\n",
    "    shap_values_extended = explainer(X_test)\n",
    "    # Shap values exist for each classification in a Tree; 1=give thrombolysis\n",
    "    shap_values = shap_values_extended.values[:,:,1]\n",
    "    \n",
    "    # Save using pickle\n",
    "    filename = './output/shap_values_extended_rf1.p'\n",
    "    with open(filename, 'wb') as filehandler:\n",
    "        pickle.dump(shap_values_extended, filehandler)\n",
    "        \n",
    "else:\n",
    "    # Load preloaded explainer\n",
    "    filename = './output/shap_values_extended_rf1.p'\n",
    "    with open(filename, 'rb') as filehandler: \n",
    "        shap_values_extended = pickle.load(filehandler)\n",
    "        shap_values = shap_values_extended.values[:,:,1]"
   ]
  },
  {
   "cell_type": "code",
   "execution_count": null,
   "id": "f409aa78",
   "metadata": {},
   "outputs": [],
   "source": [
    "# Get mean Shap values for each feature\n",
    "shap_values_mean = pd.DataFrame(index=features)\n",
    "shap_values_mean['mean_shap'] = np.mean(shap_values, axis=0)\n",
    "shap_values_mean['abs_mean_shap'] = np.abs(shap_values_mean)\n",
    "shap_values_mean['mean_abs_shap'] = np.mean(np.abs(shap_values), axis=0)\n",
    "shap_values_mean['rank'] = shap_values_mean['mean_abs_shap'].rank(\n",
    "    ascending=False).values"
   ]
  },
  {
   "cell_type": "markdown",
   "id": "d26f9078",
   "metadata": {},
   "source": [
    "### Compare top 10 weights and Shap values"
   ]
  },
  {
   "cell_type": "code",
   "execution_count": null,
   "id": "0e5f0023",
   "metadata": {},
   "outputs": [],
   "source": [
    "top_10_importances = \\\n",
    "    importances.sort_values('importance', ascending=False).head(10)\n",
    "top_10_importances"
   ]
  },
  {
   "cell_type": "markdown",
   "id": "a18e8f8e",
   "metadata": {},
   "source": [
    "When looking for the most influential Shap values we use the mean of the absolute Shap values for each feature."
   ]
  },
  {
   "cell_type": "code",
   "execution_count": null,
   "id": "154c56df",
   "metadata": {},
   "outputs": [],
   "source": [
    "top_10_shap = shap_values_mean.sort_values(\n",
    "    'mean_abs_shap', ascending=False).head(10)\n",
    "top_10_shap"
   ]
  },
  {
   "cell_type": "markdown",
   "id": "13347d07",
   "metadata": {},
   "source": [
    "Get intersection between top 10 weights and top 10 Shap values."
   ]
  },
  {
   "cell_type": "code",
   "execution_count": null,
   "id": "b0d82dd8",
   "metadata": {},
   "outputs": [],
   "source": [
    "intersection = list(top_10_importances.index.intersection(top_10_shap.index))\n",
    "print(f'Number of intersection values = {len(intersection)}')\n",
    "print('\\nIntersecting values:')\n",
    "intersection"
   ]
  },
  {
   "cell_type": "markdown",
   "id": "b9fbe0c5",
   "metadata": {},
   "source": [
    "### Plot average Shap values against average weights"
   ]
  },
  {
   "cell_type": "code",
   "execution_count": null,
   "id": "de4d04c8",
   "metadata": {},
   "outputs": [],
   "source": [
    "fig = plt.figure(figsize=(6,6))\n",
    "ax = fig.add_subplot(111)\n",
    "ax.scatter(importances['importance'], shap_values_mean['mean_abs_shap'])\n",
    "ax.grid()\n",
    "ax.set_xlabel('Feature importance')\n",
    "ax.set_ylabel('Feature shap')\n",
    "plt.show()"
   ]
  },
  {
   "cell_type": "markdown",
   "id": "7df149dc",
   "metadata": {},
   "source": [
    "### Plot most influential features\n",
    "\n",
    "This is a plot of the mean absolute Shap values."
   ]
  },
  {
   "cell_type": "code",
   "execution_count": null,
   "id": "bcf24185",
   "metadata": {},
   "outputs": [],
   "source": [
    "fig = shap.summary_plot(shap_values, X_test, plot_type='bar', max_display=12, show=False)\n",
    "plt.savefig('output/shap_rf.jpg', dpi=300, bbox_inches='tight', pad_inches=0.2)\n",
    "plt.show()"
   ]
  },
  {
   "cell_type": "markdown",
   "id": "9f119c77",
   "metadata": {},
   "source": [
    "### Beeswarm plot\n",
    "\n",
    "A Beeswarm plot shows all points. The feature value for each point is shown by the colour, and its position indicates the Shap value for that instance."
   ]
  },
  {
   "cell_type": "code",
   "execution_count": null,
   "id": "1605df67",
   "metadata": {},
   "outputs": [],
   "source": [
    "fig = plt.figure(figsize=(6,6))\n",
    "\n",
    "shap.summary_plot(shap_values=shap_values, \n",
    "                  features=X_test,\n",
    "                  feature_names=features,\n",
    "                  max_display=12,\n",
    "                  cmap=plt.get_cmap('nipy_spectral'), show=False)\n",
    "plt.savefig('output/rf_beeswarm.jpg', dpi=300, bbox_inches='tight', \n",
    "            pad_inches=0.2)\n",
    "plt.show()"
   ]
  },
  {
   "cell_type": "markdown",
   "id": "277f8403",
   "metadata": {},
   "source": [
    "### Plot Waterfall and decision plot plots for instances with low or high probability of receiving thrombolysis\n",
    "\n",
    "Waterfall plot and decision plots are alternative ways of plotting the influence of features for individual cases."
   ]
  },
  {
   "cell_type": "code",
   "execution_count": null,
   "id": "8ff1bc0c",
   "metadata": {},
   "outputs": [],
   "source": [
    "# Get the location of an example each where probability of giving thrombolysis\n",
    "# is <0.1 or >0.9\n",
    "\n",
    "location_low_probability = np.where(y_prob < 0.1)[0][0]\n",
    "location_high_probability = np.where(y_prob > 0.9)[0][0]"
   ]
  },
  {
   "cell_type": "markdown",
   "id": "8340074f",
   "metadata": {},
   "source": [
    "An example with low probability of receiving thrombolysis."
   ]
  },
  {
   "cell_type": "code",
   "execution_count": null,
   "id": "ec66bf58",
   "metadata": {},
   "outputs": [],
   "source": [
    "fig = shap.plots.waterfall(shap_values_extended[location_low_probability][:,1],\n",
    "                           show=False, max_display=12)\n",
    "plt.savefig('output/rf_waterfall_low.jpg', dpi=300, bbox_inches='tight',\n",
    "            pad_inches=0.2)\n",
    "plt.show()"
   ]
  },
  {
   "cell_type": "code",
   "execution_count": null,
   "id": "242ac4d1",
   "metadata": {},
   "outputs": [],
   "source": [
    "instance = location_low_probability\n",
    "\n",
    "chosen_instance = X_test.iloc[instance]\n",
    "shap_values_instance = shap_values[instance]\n",
    "expected_value = shap_values_extended.base_values[0][1]#explainer.expected_value\n",
    "print(f\"The base value is {expected_value:0.2f}\")\n",
    "\n",
    "shap.decision_plot(expected_value, shap_values_instance, chosen_instance)"
   ]
  },
  {
   "cell_type": "markdown",
   "id": "d9f85b29",
   "metadata": {},
   "source": [
    "An example with high probability of receiving thrombolysis."
   ]
  },
  {
   "cell_type": "code",
   "execution_count": null,
   "id": "06f1a4c1",
   "metadata": {},
   "outputs": [],
   "source": [
    "fig = shap.plots.waterfall(shap_values_extended[location_high_probability][:,1],\n",
    "                           show=False, max_display=12)\n",
    "plt.savefig('output/rf_waterfall_high.jpg', dpi=300, bbox_inches='tight',\n",
    "            pad_inches=0.2)\n",
    "plt.show()"
   ]
  },
  {
   "cell_type": "code",
   "execution_count": null,
   "id": "42c27755",
   "metadata": {},
   "outputs": [],
   "source": [
    "instance = location_high_probability\n",
    "\n",
    "chosen_instance = X_test.iloc[instance]\n",
    "shap_values_instance = shap_values[instance]\n",
    "expected_value = shap_values_extended.base_values[0][1]#explainer.expected_value\n",
    "print(f\"The base value is {expected_value:0.2f}\")\n",
    "\n",
    "shap.decision_plot(expected_value, shap_values_instance, chosen_instance)"
   ]
  },
  {
   "cell_type": "markdown",
   "id": "98d37c78",
   "metadata": {},
   "source": [
    "### Show the relationship between feature value and Shap value for top 5 influential features."
   ]
  },
  {
   "cell_type": "code",
   "execution_count": null,
   "id": "b8194752",
   "metadata": {},
   "outputs": [],
   "source": [
    "feat_to_show = top_10_shap.index[0:5]\n",
    "\n",
    "for feat in feat_to_show:\n",
    "    shap.plots.scatter(shap_values_extended[:, feat][:,1], x_jitter=0)"
   ]
  },
  {
   "cell_type": "markdown",
   "id": "5d0f5d0f",
   "metadata": {},
   "source": [
    "Examine `S2BrainImagingTime_min` in range 0-400 minutes."
   ]
  },
  {
   "cell_type": "code",
   "execution_count": null,
   "id": "7a767b06",
   "metadata": {},
   "outputs": [],
   "source": [
    "fig = plt.figure(figsize=(6,6))\n",
    "ax = fig.add_subplot(111)\n",
    "shap.plots.scatter(shap_values_extended[:, 'S2BrainImagingTime_min'][:,1], \n",
    "                   x_jitter=0, ax=ax, show=False)\n",
    "ax.set_xlim(0,400)"
   ]
  }
 ],
 "metadata": {
  "kernelspec": {
   "display_name": "Python 3 (ipykernel)",
   "language": "python",
   "name": "python3"
  },
  "language_info": {
   "codemirror_mode": {
    "name": "ipython",
    "version": 3
   },
   "file_extension": ".py",
   "mimetype": "text/x-python",
   "name": "python",
   "nbconvert_exporter": "python",
   "pygments_lexer": "ipython3",
   "version": "3.9.12"
  }
 },
 "nbformat": 4,
 "nbformat_minor": 5
}
