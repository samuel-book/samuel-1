{
 "cells": [
  {
   "cell_type": "markdown",
   "id": "042e1a48",
   "metadata": {},
   "source": [
    "# Ensemble combine with random forests\n",
    "\n",
    "Aim: To combine output from logistic regression, random forests, and neural network models in a single random forests model, with or without original features."
   ]
  },
  {
   "cell_type": "markdown",
   "id": "ea974811",
   "metadata": {},
   "source": [
    "## Import libraries"
   ]
  },
  {
   "cell_type": "code",
   "execution_count": 1,
   "id": "6ba3cc3d",
   "metadata": {},
   "outputs": [],
   "source": [
    "# Turn warnings off to keep notebook tidy\n",
    "import warnings\n",
    "warnings.filterwarnings(\"ignore\")\n",
    "\n",
    "import pandas as pd\n",
    "import numpy as np\n",
    "import matplotlib.pyplot as plt\n",
    "\n",
    "from sklearn.ensemble import RandomForestClassifier"
   ]
  },
  {
   "cell_type": "markdown",
   "id": "c7aa4368",
   "metadata": {},
   "source": [
    "## Load data"
   ]
  },
  {
   "cell_type": "code",
   "execution_count": 2,
   "id": "49611682",
   "metadata": {},
   "outputs": [],
   "source": [
    "train = pd.read_csv('./../data/10k_training_test/cohort_10000_train.csv')\n",
    "test = pd.read_csv('./../data/10k_training_test/cohort_10000_test.csv')\n",
    "model_probs_train = pd.read_csv(\n",
    "    './individual_model_output/probabilities_train.csv')\n",
    "model_probs_test = pd.read_csv(\n",
    "    './individual_model_output/probabilities_test.csv')"
   ]
  },
  {
   "cell_type": "markdown",
   "id": "a7a749af",
   "metadata": {},
   "source": [
    "## Fit a model using original training data only"
   ]
  },
  {
   "cell_type": "code",
   "execution_count": 3,
   "id": "d9fcedde",
   "metadata": {},
   "outputs": [
    {
     "name": "stdout",
     "output_type": "stream",
     "text": [
      "Training accuracy: 1.000\n",
      "Test accuracy: 0.842\n"
     ]
    }
   ],
   "source": [
    "# Set up train and test data\n",
    "X_train = train.drop('S2Thrombolysis', axis=1)\n",
    "X_test = test.drop('S2Thrombolysis', axis=1)\n",
    "y_train = train['S2Thrombolysis']\n",
    "y_test = test['S2Thrombolysis']\n",
    "\n",
    "# One hot encode hospitals\n",
    "X_train_hosp = pd.get_dummies(X_train['StrokeTeam'], prefix = 'team')\n",
    "X_train = pd.concat([X_train, X_train_hosp], axis=1)\n",
    "X_train.drop('StrokeTeam', axis=1, inplace=True)\n",
    "X_test_hosp = pd.get_dummies(X_test['StrokeTeam'], prefix = 'team')\n",
    "X_test = pd.concat([X_test, X_test_hosp], axis=1)\n",
    "X_test.drop('StrokeTeam', axis=1, inplace=True)\n",
    "\n",
    "# Define model\n",
    "model = RandomForestClassifier(\n",
    "    n_estimators=100, n_jobs=-1, class_weight='balanced', random_state=42)\n",
    "\n",
    "# Fit model\n",
    "model.fit(X_train, y_train)\n",
    "\n",
    "# Get predicted probabilities\n",
    "y_train_probs = model.predict_proba(X_train)[:,1]\n",
    "y_test_probs = model.predict_proba(X_test)[:,1]\n",
    "                                    \n",
    "# Show accuracy\n",
    "train_class = y_train_probs >= 0.5\n",
    "test_class = y_test_probs >= 0.5\n",
    "accuracy_train = np.mean(y_train == train_class)\n",
    "accuracy_test = np.mean(y_test == test_class)\n",
    "print (f'Training accuracy: {accuracy_train:0.3f}')\n",
    "print (f'Test accuracy: {accuracy_test:0.3f}')"
   ]
  },
  {
   "cell_type": "markdown",
   "id": "615a44f2",
   "metadata": {},
   "source": [
    "## Fit a model using model probabilities only"
   ]
  },
  {
   "cell_type": "code",
   "execution_count": 4,
   "id": "6fac9d47",
   "metadata": {
    "tags": []
   },
   "outputs": [
    {
     "name": "stdout",
     "output_type": "stream",
     "text": [
      "Training accuracy: 1.000\n",
      "Test accuracy: 0.838\n"
     ]
    }
   ],
   "source": [
    "# Set up train and test data\n",
    "X_train = model_probs_train\n",
    "X_test = model_probs_test\n",
    "y_train = train['S2Thrombolysis']\n",
    "y_test = test['S2Thrombolysis']\n",
    "\n",
    "# Define model\n",
    "model = RandomForestClassifier(\n",
    "    n_estimators=100, n_jobs=-1, class_weight='balanced', random_state=42)\n",
    "\n",
    "# Fit model\n",
    "model.fit(X_train, y_train)\n",
    "\n",
    "# Get predicted probabilities\n",
    "y_train_probs = model.predict_proba(X_train)[:,1]\n",
    "y_test_probs = model.predict_proba(X_test)[:,1]\n",
    "                                    \n",
    "# Show accuracy\n",
    "train_class = y_train_probs >= 0.5\n",
    "test_class = y_test_probs >= 0.5\n",
    "accuracy_train = np.mean(y_train == train_class)\n",
    "accuracy_test = np.mean(y_test == test_class)\n",
    "print (f'Training accuracy: {accuracy_train:0.3f}')\n",
    "print (f'Test accuracy: {accuracy_test:0.3f}')"
   ]
  },
  {
   "cell_type": "markdown",
   "id": "59a81a82",
   "metadata": {},
   "source": [
    "## Fit a model using original features and model probabilities"
   ]
  },
  {
   "cell_type": "code",
   "execution_count": 5,
   "id": "48d39e44",
   "metadata": {},
   "outputs": [
    {
     "name": "stdout",
     "output_type": "stream",
     "text": [
      "Training accuracy: 1.000\n",
      "Test accuracy: 0.842\n"
     ]
    }
   ],
   "source": [
    "X_train = train.drop('S2Thrombolysis', axis=1)\n",
    "X_train = pd.concat([X_train, model_probs_train], axis=1)\n",
    "\n",
    "X_test = test.drop('S2Thrombolysis', axis=1)\n",
    "X_test = pd.concat([X_test, model_probs_test], axis=1)\n",
    "\n",
    "y_train = train['S2Thrombolysis']\n",
    "y_test = test['S2Thrombolysis']\n",
    "\n",
    "# One hot encode hospitals\n",
    "X_train_hosp = pd.get_dummies(X_train['StrokeTeam'], prefix = 'team')\n",
    "X_train = pd.concat([X_train, X_train_hosp], axis=1)\n",
    "X_train.drop('StrokeTeam', axis=1, inplace=True)\n",
    "X_test_hosp = pd.get_dummies(X_test['StrokeTeam'], prefix = 'team')\n",
    "X_test = pd.concat([X_test, X_test_hosp], axis=1)\n",
    "X_test.drop('StrokeTeam', axis=1, inplace=True)\n",
    "\n",
    "# Define model\n",
    "model = RandomForestClassifier(\n",
    "    n_estimators=100, n_jobs=-1, class_weight='balanced', random_state=42)\n",
    "\n",
    "# Fit model\n",
    "model.fit(X_train, y_train)\n",
    "\n",
    "# Get predicted probabilities\n",
    "y_train_probs = model.predict_proba(X_train)[:,1]\n",
    "y_test_probs = model.predict_proba(X_test)[:,1]\n",
    "                                    \n",
    "# Show accuracy\n",
    "train_class = y_train_probs >= 0.5\n",
    "test_class = y_test_probs >= 0.5\n",
    "accuracy_train = np.mean(y_train == train_class)\n",
    "accuracy_test = np.mean(y_test == test_class)\n",
    "print (f'Training accuracy: {accuracy_train:0.3f}')\n",
    "print (f'Test accuracy: {accuracy_test:0.3f}')"
   ]
  },
  {
   "cell_type": "markdown",
   "id": "2b3b4941",
   "metadata": {},
   "source": [
    "## Observations\n",
    "\n",
    "* Including in model probability outputs from previous logistic regression, random forests, and neural networks, did not improve accuracy of the model compared to fitting a random forests model just on the original data."
   ]
  }
 ],
 "metadata": {
  "kernelspec": {
   "display_name": "Python 3",
   "language": "python",
   "name": "python3"
  },
  "language_info": {
   "codemirror_mode": {
    "name": "ipython",
    "version": 3
   },
   "file_extension": ".py",
   "mimetype": "text/x-python",
   "name": "python",
   "nbconvert_exporter": "python",
   "pygments_lexer": "ipython3",
   "version": "3.8.2"
  }
 },
 "nbformat": 4,
 "nbformat_minor": 5
}
