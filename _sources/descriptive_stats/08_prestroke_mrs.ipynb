{
 "cells": [
  {
   "cell_type": "markdown",
   "id": "13da7a02-2a1b-493d-8c29-2008d1801303",
   "metadata": {},
   "source": [
    "# Analysis of pre-stroke modified Rankin Scale\n",
    "\n",
    "Distributions of mRS (modified Rankin Scale) are shown for:\n",
    "* All patients\n",
    "* Ischaemic and haemorrhagic stroke\n",
    "* Ischaemic patients with NIHSS of 0-10 (surrogate for non large vessel occlusions)\n",
    "* Ischaemic patients with NIHSS of 11+ (surrogate for large vessel occlusions)"
   ]
  },
  {
   "cell_type": "code",
   "execution_count": 1,
   "id": "ee72b51f-5ae0-4960-bba2-c297c55642da",
   "metadata": {},
   "outputs": [],
   "source": [
    "# import libraries\n",
    "import matplotlib.pyplot as plt\n",
    "import numpy as np\n",
    "import pandas as pd\n",
    "\n",
    "# Change default colour scheme:\n",
    "plt.style.use('seaborn-colorblind')\n",
    "\n",
    "# import data\n",
    "data = pd.read_csv(\n",
    "    './../data/2019-11-04-HQIP303-Exeter_MA.csv', low_memory=False)"
   ]
  },
  {
   "cell_type": "markdown",
   "id": "3b26feeb-c80a-439e-b67d-1c1f44708853",
   "metadata": {},
   "source": [
    "## Get distribution of mRS before stroke for all patients"
   ]
  },
  {
   "cell_type": "code",
   "execution_count": 2,
   "id": "8566a0dd-edda-46e7-a850-5eef1dde898e",
   "metadata": {},
   "outputs": [
    {
     "data": {
      "text/html": [
       "<div>\n",
       "<style scoped>\n",
       "    .dataframe tbody tr th:only-of-type {\n",
       "        vertical-align: middle;\n",
       "    }\n",
       "\n",
       "    .dataframe tbody tr th {\n",
       "        vertical-align: top;\n",
       "    }\n",
       "\n",
       "    .dataframe thead th {\n",
       "        text-align: right;\n",
       "    }\n",
       "</style>\n",
       "<table border=\"1\" class=\"dataframe\">\n",
       "  <thead>\n",
       "    <tr style=\"text-align: right;\">\n",
       "      <th></th>\n",
       "      <th>all</th>\n",
       "    </tr>\n",
       "    <tr>\n",
       "      <th>mRS</th>\n",
       "      <th></th>\n",
       "    </tr>\n",
       "  </thead>\n",
       "  <tbody>\n",
       "    <tr>\n",
       "      <th>0</th>\n",
       "      <td>0.533043</td>\n",
       "    </tr>\n",
       "    <tr>\n",
       "      <th>1</th>\n",
       "      <td>0.156302</td>\n",
       "    </tr>\n",
       "    <tr>\n",
       "      <th>2</th>\n",
       "      <td>0.107781</td>\n",
       "    </tr>\n",
       "    <tr>\n",
       "      <th>3</th>\n",
       "      <td>0.121422</td>\n",
       "    </tr>\n",
       "    <tr>\n",
       "      <th>4</th>\n",
       "      <td>0.063581</td>\n",
       "    </tr>\n",
       "    <tr>\n",
       "      <th>5</th>\n",
       "      <td>0.017870</td>\n",
       "    </tr>\n",
       "  </tbody>\n",
       "</table>\n",
       "</div>"
      ],
      "text/plain": [
       "          all\n",
       "mRS          \n",
       "0    0.533043\n",
       "1    0.156302\n",
       "2    0.107781\n",
       "3    0.121422\n",
       "4    0.063581\n",
       "5    0.017870"
      ]
     },
     "execution_count": 2,
     "metadata": {},
     "output_type": "execute_result"
    }
   ],
   "source": [
    "count, division = np.histogram(data['S2RankinBeforeStroke'], bins=range(0,7))\n",
    "\n",
    "results = pd.DataFrame()\n",
    "results.index.name='mRS'\n",
    "results['all'] = count / count.sum()\n",
    "results"
   ]
  },
  {
   "cell_type": "markdown",
   "id": "3c62a928-0837-4d0d-892b-91cafae3f660",
   "metadata": {},
   "source": [
    "## Get distribution of mRS before stroke by stroke type"
   ]
  },
  {
   "cell_type": "code",
   "execution_count": 3,
   "id": "4881a9f1-2bec-41bb-b5f1-28cb4cb4770e",
   "metadata": {},
   "outputs": [
    {
     "data": {
      "text/html": [
       "<div>\n",
       "<style scoped>\n",
       "    .dataframe tbody tr th:only-of-type {\n",
       "        vertical-align: middle;\n",
       "    }\n",
       "\n",
       "    .dataframe tbody tr th {\n",
       "        vertical-align: top;\n",
       "    }\n",
       "\n",
       "    .dataframe thead th {\n",
       "        text-align: right;\n",
       "    }\n",
       "</style>\n",
       "<table border=\"1\" class=\"dataframe\">\n",
       "  <thead>\n",
       "    <tr style=\"text-align: right;\">\n",
       "      <th></th>\n",
       "      <th>all</th>\n",
       "      <th>infarction</th>\n",
       "      <th>haemorrhage</th>\n",
       "    </tr>\n",
       "    <tr>\n",
       "      <th>mRS</th>\n",
       "      <th></th>\n",
       "      <th></th>\n",
       "      <th></th>\n",
       "    </tr>\n",
       "  </thead>\n",
       "  <tbody>\n",
       "    <tr>\n",
       "      <th>0</th>\n",
       "      <td>0.533043</td>\n",
       "      <td>0.534923</td>\n",
       "      <td>0.521374</td>\n",
       "    </tr>\n",
       "    <tr>\n",
       "      <th>1</th>\n",
       "      <td>0.156302</td>\n",
       "      <td>0.157958</td>\n",
       "      <td>0.144905</td>\n",
       "    </tr>\n",
       "    <tr>\n",
       "      <th>2</th>\n",
       "      <td>0.107781</td>\n",
       "      <td>0.108075</td>\n",
       "      <td>0.106007</td>\n",
       "    </tr>\n",
       "    <tr>\n",
       "      <th>3</th>\n",
       "      <td>0.121422</td>\n",
       "      <td>0.119199</td>\n",
       "      <td>0.137272</td>\n",
       "    </tr>\n",
       "    <tr>\n",
       "      <th>4</th>\n",
       "      <td>0.063581</td>\n",
       "      <td>0.062649</td>\n",
       "      <td>0.068735</td>\n",
       "    </tr>\n",
       "    <tr>\n",
       "      <th>5</th>\n",
       "      <td>0.017870</td>\n",
       "      <td>0.017196</td>\n",
       "      <td>0.021706</td>\n",
       "    </tr>\n",
       "  </tbody>\n",
       "</table>\n",
       "</div>"
      ],
      "text/plain": [
       "          all  infarction  haemorrhage\n",
       "mRS                                   \n",
       "0    0.533043    0.534923     0.521374\n",
       "1    0.156302    0.157958     0.144905\n",
       "2    0.107781    0.108075     0.106007\n",
       "3    0.121422    0.119199     0.137272\n",
       "4    0.063581    0.062649     0.068735\n",
       "5    0.017870    0.017196     0.021706"
      ]
     },
     "execution_count": 3,
     "metadata": {},
     "output_type": "execute_result"
    }
   ],
   "source": [
    "# Infarction\n",
    "mask = data['S2StrokeType'] == 'Infarction'\n",
    "count, division = np.histogram(\n",
    "    data[mask]['S2RankinBeforeStroke'], bins=range(0,7))\n",
    "results['infarction'] = count / count.sum()\n",
    "\n",
    "# Haemorrhage\n",
    "mask = data['S2StrokeType'] == 'Primary Intracerebral Haemorrhage'\n",
    "count, division = np.histogram(\n",
    "    data[mask]['S2RankinBeforeStroke'], bins=range(0,7))\n",
    "results['haemorrhage'] = count / count.sum()\n",
    "\n",
    "# Show results\n",
    "results"
   ]
  },
  {
   "cell_type": "markdown",
   "id": "e2d87d84-8c3e-46fa-b85f-b1c1375d2579",
   "metadata": {},
   "source": [
    "## mRS for ischaemic stroke, by stroke severity"
   ]
  },
  {
   "cell_type": "code",
   "execution_count": 4,
   "id": "d7834fa8-1a0e-4a88-9cf2-8f69dcd4057f",
   "metadata": {},
   "outputs": [
    {
     "data": {
      "text/html": [
       "<div>\n",
       "<style scoped>\n",
       "    .dataframe tbody tr th:only-of-type {\n",
       "        vertical-align: middle;\n",
       "    }\n",
       "\n",
       "    .dataframe tbody tr th {\n",
       "        vertical-align: top;\n",
       "    }\n",
       "\n",
       "    .dataframe thead th {\n",
       "        text-align: right;\n",
       "    }\n",
       "</style>\n",
       "<table border=\"1\" class=\"dataframe\">\n",
       "  <thead>\n",
       "    <tr style=\"text-align: right;\">\n",
       "      <th></th>\n",
       "      <th>all</th>\n",
       "      <th>infarction</th>\n",
       "      <th>haemorrhage</th>\n",
       "      <th>nlvo</th>\n",
       "      <th>lvo</th>\n",
       "    </tr>\n",
       "    <tr>\n",
       "      <th>mRS</th>\n",
       "      <th></th>\n",
       "      <th></th>\n",
       "      <th></th>\n",
       "      <th></th>\n",
       "      <th></th>\n",
       "    </tr>\n",
       "  </thead>\n",
       "  <tbody>\n",
       "    <tr>\n",
       "      <th>0</th>\n",
       "      <td>0.533043</td>\n",
       "      <td>0.534923</td>\n",
       "      <td>0.521374</td>\n",
       "      <td>0.582771</td>\n",
       "      <td>0.407796</td>\n",
       "    </tr>\n",
       "    <tr>\n",
       "      <th>1</th>\n",
       "      <td>0.156302</td>\n",
       "      <td>0.157958</td>\n",
       "      <td>0.144905</td>\n",
       "      <td>0.163513</td>\n",
       "      <td>0.143538</td>\n",
       "    </tr>\n",
       "    <tr>\n",
       "      <th>2</th>\n",
       "      <td>0.107781</td>\n",
       "      <td>0.108075</td>\n",
       "      <td>0.106007</td>\n",
       "      <td>0.103988</td>\n",
       "      <td>0.120133</td>\n",
       "    </tr>\n",
       "    <tr>\n",
       "      <th>3</th>\n",
       "      <td>0.121422</td>\n",
       "      <td>0.119199</td>\n",
       "      <td>0.137272</td>\n",
       "      <td>0.101109</td>\n",
       "      <td>0.166050</td>\n",
       "    </tr>\n",
       "    <tr>\n",
       "      <th>4</th>\n",
       "      <td>0.063581</td>\n",
       "      <td>0.062649</td>\n",
       "      <td>0.068735</td>\n",
       "      <td>0.041796</td>\n",
       "      <td>0.118023</td>\n",
       "    </tr>\n",
       "    <tr>\n",
       "      <th>5</th>\n",
       "      <td>0.017870</td>\n",
       "      <td>0.017196</td>\n",
       "      <td>0.021706</td>\n",
       "      <td>0.006822</td>\n",
       "      <td>0.044460</td>\n",
       "    </tr>\n",
       "  </tbody>\n",
       "</table>\n",
       "</div>"
      ],
      "text/plain": [
       "          all  infarction  haemorrhage      nlvo       lvo\n",
       "mRS                                                       \n",
       "0    0.533043    0.534923     0.521374  0.582771  0.407796\n",
       "1    0.156302    0.157958     0.144905  0.163513  0.143538\n",
       "2    0.107781    0.108075     0.106007  0.103988  0.120133\n",
       "3    0.121422    0.119199     0.137272  0.101109  0.166050\n",
       "4    0.063581    0.062649     0.068735  0.041796  0.118023\n",
       "5    0.017870    0.017196     0.021706  0.006822  0.044460"
      ]
     },
     "execution_count": 4,
     "metadata": {},
     "output_type": "execute_result"
    }
   ],
   "source": [
    "# Filter data\n",
    "mask = data['S2StrokeType'] == 'Infarction'\n",
    "data = data[mask]\n",
    "\n",
    "# NIHSS 0-10 is a surrogate for non large vessel occlusions\n",
    "mask = data['S2NihssArrival'] < 11 \n",
    "count, division = np.histogram(\n",
    "    data[mask]['S2RankinBeforeStroke'], bins=range(0,7))\n",
    "results['nlvo'] = count / count.sum()\n",
    "\n",
    "# NIHSS 11+ is a surrogate for non large vessel occlusions\n",
    "mask = data['S2NihssArrival'] > 10\n",
    "count, division = np.histogram(\n",
    "    data[mask]['S2RankinBeforeStroke'], bins=range(0,7))\n",
    "results['lvo'] = count / count.sum()\n",
    "\n",
    "# Show results\n",
    "results"
   ]
  },
  {
   "cell_type": "code",
   "execution_count": 5,
   "id": "659982c0-ecd9-452e-9a97-89aab32dba50",
   "metadata": {},
   "outputs": [
    {
     "data": {
      "image/png": "[encoded data removed]",
      "text/plain": [
       "<Figure size 360x360 with 1 Axes>"
      ]
     },
     "metadata": {
      "needs_background": "light"
     },
     "output_type": "display_data"
    }
   ],
   "source": [
    "fig = plt.figure(figsize=(5,5))\n",
    "ax = fig.add_subplot()\n",
    "width = 0.17\n",
    "x = results.index\n",
    "ax.bar(x - width * 2, results['all'], width, label='all')\n",
    "ax.bar(x, results['haemorrhage'], width, label='haemorrhage')\n",
    "ax.bar(x + width, results['nlvo'], width, label='nLVO (NIHSS 0-10')\n",
    "ax.bar(x + width * 2, results['lvo'], width, label='LVO (NIHSS 11+)')\n",
    "ax.set_ylabel('Fraction of patients')\n",
    "ax.set_xlabel('mRS before stroke')\n",
    "ax.legend()\n",
    "plt.savefig('./output/mrs_before_by_stroke_type.jpg', dpi=300)\n",
    "plt.show()"
   ]
  },
  {
   "cell_type": "code",
   "execution_count": 6,
   "id": "17bf0859-00df-445e-96ab-4500e53a2f49",
   "metadata": {},
   "outputs": [
    {
     "data": {
      "image/png": "[encoded data removed]",
      "text/plain": [
       "<Figure size 360x360 with 1 Axes>"
      ]
     },
     "metadata": {
      "needs_background": "light"
     },
     "output_type": "display_data"
    }
   ],
   "source": [
    "fig = plt.figure(figsize=(5,5))\n",
    "ax = fig.add_subplot()\n",
    "width = 0.17\n",
    "x = results.index\n",
    "#ax.plot(results['all'], label='all')\n",
    "ax.plot(results['haemorrhage'], marker='o', label='haemorrhage')\n",
    "ax.plot(results['nlvo'], marker = 's', label='nLVO (NIHSS 0-10')\n",
    "ax.plot(results['lvo'], marker = '^', label='LVO (NIHSS 11+)')\n",
    "ax.grid()\n",
    "ax.set_ylabel('Fraction of patients')\n",
    "ax.set_xlabel('mRS before stroke')\n",
    "ax.legend()\n",
    "plt.savefig('./output/mrs_before_by_stroke_type.jpg', dpi=300)\n",
    "plt.show()"
   ]
  }
 ],
 "metadata": {
  "kernelspec": {
   "display_name": "Python 3 (ipykernel)",
   "language": "python",
   "name": "python3"
  },
  "language_info": {
   "codemirror_mode": {
    "name": "ipython",
    "version": 3
   },
   "file_extension": ".py",
   "mimetype": "text/x-python",
   "name": "python",
   "nbconvert_exporter": "python",
   "pygments_lexer": "ipython3",
   "version": "3.8.13"
  }
 },
 "nbformat": 4,
 "nbformat_minor": 5
}
