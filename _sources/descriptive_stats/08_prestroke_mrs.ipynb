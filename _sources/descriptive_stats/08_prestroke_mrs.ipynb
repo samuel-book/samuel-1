{
 "cells": [
  {
   "cell_type": "markdown",
   "id": "13da7a02-2a1b-493d-8c29-2008d1801303",
   "metadata": {},
   "source": [
    "# Show distributions of modified Rankin Scale before stroke\n",
    "\n",
    "Distributions of mRS (modified Rankin Scale) are shown for:\n",
    "* All patients\n",
    "* Patients with NIHSS of 0-10 (surrogate for non large vessel occlusions)\n",
    "* Patients with NIHSS of 11+ (surrogate for large vessel occlusions)"
   ]
  },
  {
   "cell_type": "code",
   "execution_count": 1,
   "id": "8952dcfa-4f3f-42f9-8134-fab912c1ccc6",
   "metadata": {},
   "outputs": [],
   "source": [
    "# import libraries\n",
    "import matplotlib.pyplot as plt\n",
    "import numpy as np\n",
    "import pandas as pd\n",
    "\n",
    "# Change default colour scheme:\n",
    "plt.style.use('seaborn-colorblind')\n",
    "\n",
    "# import data\n",
    "data = pd.read_csv(\n",
    "    './../data/2019-11-04-HQIP303-Exeter_MA.csv', low_memory=False)"
   ]
  },
  {
   "cell_type": "markdown",
   "id": "3b26feeb-c80a-439e-b67d-1c1f44708853",
   "metadata": {},
   "source": [
    "## Get distribution of mRS before stroke for all patients"
   ]
  },
  {
   "cell_type": "code",
   "execution_count": 2,
   "id": "8566a0dd-edda-46e7-a850-5eef1dde898e",
   "metadata": {},
   "outputs": [
    {
     "data": {
      "text/html": [
       "<div>\n",
       "<style scoped>\n",
       "    .dataframe tbody tr th:only-of-type {\n",
       "        vertical-align: middle;\n",
       "    }\n",
       "\n",
       "    .dataframe tbody tr th {\n",
       "        vertical-align: top;\n",
       "    }\n",
       "\n",
       "    .dataframe thead th {\n",
       "        text-align: right;\n",
       "    }\n",
       "</style>\n",
       "<table border=\"1\" class=\"dataframe\">\n",
       "  <thead>\n",
       "    <tr style=\"text-align: right;\">\n",
       "      <th></th>\n",
       "      <th>count</th>\n",
       "      <th>fraction</th>\n",
       "    </tr>\n",
       "    <tr>\n",
       "      <th>mRS</th>\n",
       "      <th></th>\n",
       "      <th></th>\n",
       "    </tr>\n",
       "  </thead>\n",
       "  <tbody>\n",
       "    <tr>\n",
       "      <th>0</th>\n",
       "      <td>131489</td>\n",
       "      <td>0.533043</td>\n",
       "    </tr>\n",
       "    <tr>\n",
       "      <th>1</th>\n",
       "      <td>38556</td>\n",
       "      <td>0.156302</td>\n",
       "    </tr>\n",
       "    <tr>\n",
       "      <th>2</th>\n",
       "      <td>26587</td>\n",
       "      <td>0.107781</td>\n",
       "    </tr>\n",
       "    <tr>\n",
       "      <th>3</th>\n",
       "      <td>29952</td>\n",
       "      <td>0.121422</td>\n",
       "    </tr>\n",
       "    <tr>\n",
       "      <th>4</th>\n",
       "      <td>15684</td>\n",
       "      <td>0.063581</td>\n",
       "    </tr>\n",
       "    <tr>\n",
       "      <th>5</th>\n",
       "      <td>4408</td>\n",
       "      <td>0.017870</td>\n",
       "    </tr>\n",
       "  </tbody>\n",
       "</table>\n",
       "</div>"
      ],
      "text/plain": [
       "      count  fraction\n",
       "mRS                  \n",
       "0    131489  0.533043\n",
       "1     38556  0.156302\n",
       "2     26587  0.107781\n",
       "3     29952  0.121422\n",
       "4     15684  0.063581\n",
       "5      4408  0.017870"
      ]
     },
     "execution_count": 2,
     "metadata": {},
     "output_type": "execute_result"
    }
   ],
   "source": [
    "count, division = np.histogram(data['S2RankinBeforeStroke'], bins=range(0,7))\n",
    "\n",
    "results_all = pd.DataFrame()#df.index.name\n",
    "results_all.index.name='mRS'\n",
    "results_all['count'] = count\n",
    "results_all['fraction'] = count / count.sum()\n",
    "results_all"
   ]
  },
  {
   "cell_type": "markdown",
   "id": "9e3082ba-1325-40bf-94cc-8e73de33176e",
   "metadata": {},
   "source": [
    "## Get distribution of mRS before stroke for NIHSS 0-10\n",
    "\n",
    "NIHSS <11 is used as a surrogate for non large vessel occlusions"
   ]
  },
  {
   "cell_type": "code",
   "execution_count": 3,
   "id": "e29ae580-40f0-42ef-a441-157619b9ce60",
   "metadata": {},
   "outputs": [],
   "source": [
    "mask = data['S2NihssArrival'] < 11"
   ]
  },
  {
   "cell_type": "code",
   "execution_count": 4,
   "id": "d7834fa8-1a0e-4a88-9cf2-8f69dcd4057f",
   "metadata": {},
   "outputs": [
    {
     "data": {
      "text/html": [
       "<div>\n",
       "<style scoped>\n",
       "    .dataframe tbody tr th:only-of-type {\n",
       "        vertical-align: middle;\n",
       "    }\n",
       "\n",
       "    .dataframe tbody tr th {\n",
       "        vertical-align: top;\n",
       "    }\n",
       "\n",
       "    .dataframe thead th {\n",
       "        text-align: right;\n",
       "    }\n",
       "</style>\n",
       "<table border=\"1\" class=\"dataframe\">\n",
       "  <thead>\n",
       "    <tr style=\"text-align: right;\">\n",
       "      <th></th>\n",
       "      <th>count</th>\n",
       "      <th>fraction</th>\n",
       "    </tr>\n",
       "    <tr>\n",
       "      <th>mRS</th>\n",
       "      <th></th>\n",
       "      <th></th>\n",
       "    </tr>\n",
       "  </thead>\n",
       "  <tbody>\n",
       "    <tr>\n",
       "      <th>0</th>\n",
       "      <td>99626</td>\n",
       "      <td>0.582881</td>\n",
       "    </tr>\n",
       "    <tr>\n",
       "      <th>1</th>\n",
       "      <td>27781</td>\n",
       "      <td>0.162538</td>\n",
       "    </tr>\n",
       "    <tr>\n",
       "      <th>2</th>\n",
       "      <td>17680</td>\n",
       "      <td>0.103440</td>\n",
       "    </tr>\n",
       "    <tr>\n",
       "      <th>3</th>\n",
       "      <td>17472</td>\n",
       "      <td>0.102223</td>\n",
       "    </tr>\n",
       "    <tr>\n",
       "      <th>4</th>\n",
       "      <td>7174</td>\n",
       "      <td>0.041973</td>\n",
       "    </tr>\n",
       "    <tr>\n",
       "      <th>5</th>\n",
       "      <td>1187</td>\n",
       "      <td>0.006945</td>\n",
       "    </tr>\n",
       "  </tbody>\n",
       "</table>\n",
       "</div>"
      ],
      "text/plain": [
       "     count  fraction\n",
       "mRS                 \n",
       "0    99626  0.582881\n",
       "1    27781  0.162538\n",
       "2    17680  0.103440\n",
       "3    17472  0.102223\n",
       "4     7174  0.041973\n",
       "5     1187  0.006945"
      ]
     },
     "execution_count": 4,
     "metadata": {},
     "output_type": "execute_result"
    }
   ],
   "source": [
    "count, division = np.histogram(\n",
    "    data[mask]['S2RankinBeforeStroke'], bins=range(0,7))\n",
    "\n",
    "results_nlvo = pd.DataFrame()#df.index.name\n",
    "results_nlvo.index.name='mRS'\n",
    "results_nlvo['count'] = count\n",
    "results_nlvo['fraction'] = count / count.sum()\n",
    "results_nlvo"
   ]
  },
  {
   "cell_type": "markdown",
   "id": "b6a7e25a-8b42-4dc1-aaea-8c8f25dcc8d1",
   "metadata": {},
   "source": [
    "## Get distribution of mRS before stroke for NIHSS 11+\n",
    "\n",
    "NIHSS 11+ is used as a surrogate for non large vessel occlusions"
   ]
  },
  {
   "cell_type": "code",
   "execution_count": 5,
   "id": "7ca6e468-09e2-48b6-9dba-77ede65f608c",
   "metadata": {},
   "outputs": [],
   "source": [
    "mask = data['S2NihssArrival'] > 10"
   ]
  },
  {
   "cell_type": "code",
   "execution_count": 6,
   "id": "90e8d364-a9ac-46b0-a3bb-3e8952686d9e",
   "metadata": {},
   "outputs": [
    {
     "data": {
      "text/html": [
       "<div>\n",
       "<style scoped>\n",
       "    .dataframe tbody tr th:only-of-type {\n",
       "        vertical-align: middle;\n",
       "    }\n",
       "\n",
       "    .dataframe tbody tr th {\n",
       "        vertical-align: top;\n",
       "    }\n",
       "\n",
       "    .dataframe thead th {\n",
       "        text-align: right;\n",
       "    }\n",
       "</style>\n",
       "<table border=\"1\" class=\"dataframe\">\n",
       "  <thead>\n",
       "    <tr style=\"text-align: right;\">\n",
       "      <th></th>\n",
       "      <th>count</th>\n",
       "      <th>fraction</th>\n",
       "    </tr>\n",
       "    <tr>\n",
       "      <th>mRS</th>\n",
       "      <th></th>\n",
       "      <th></th>\n",
       "    </tr>\n",
       "  </thead>\n",
       "  <tbody>\n",
       "    <tr>\n",
       "      <th>0</th>\n",
       "      <td>23970</td>\n",
       "      <td>0.417894</td>\n",
       "    </tr>\n",
       "    <tr>\n",
       "      <th>1</th>\n",
       "      <td>8200</td>\n",
       "      <td>0.142959</td>\n",
       "    </tr>\n",
       "    <tr>\n",
       "      <th>2</th>\n",
       "      <td>6793</td>\n",
       "      <td>0.118430</td>\n",
       "    </tr>\n",
       "    <tr>\n",
       "      <th>3</th>\n",
       "      <td>9419</td>\n",
       "      <td>0.164211</td>\n",
       "    </tr>\n",
       "    <tr>\n",
       "      <th>4</th>\n",
       "      <td>6526</td>\n",
       "      <td>0.113775</td>\n",
       "    </tr>\n",
       "    <tr>\n",
       "      <th>5</th>\n",
       "      <td>2451</td>\n",
       "      <td>0.042731</td>\n",
       "    </tr>\n",
       "  </tbody>\n",
       "</table>\n",
       "</div>"
      ],
      "text/plain": [
       "     count  fraction\n",
       "mRS                 \n",
       "0    23970  0.417894\n",
       "1     8200  0.142959\n",
       "2     6793  0.118430\n",
       "3     9419  0.164211\n",
       "4     6526  0.113775\n",
       "5     2451  0.042731"
      ]
     },
     "execution_count": 6,
     "metadata": {},
     "output_type": "execute_result"
    }
   ],
   "source": [
    "count, division = np.histogram(\n",
    "    data[mask]['S2RankinBeforeStroke'], bins=range(0,7))\n",
    "\n",
    "results_lvo = pd.DataFrame()#df.index.name\n",
    "results_lvo.index.name='mRS'\n",
    "results_lvo['count'] = count\n",
    "results_lvo['fraction'] = count / count.sum()\n",
    "results_lvo"
   ]
  },
  {
   "cell_type": "markdown",
   "id": "9baf0a54-63ab-4171-be7d-03efc1e62d10",
   "metadata": {},
   "source": [
    "## Plot results"
   ]
  },
  {
   "cell_type": "code",
   "execution_count": 7,
   "id": "659982c0-ecd9-452e-9a97-89aab32dba50",
   "metadata": {},
   "outputs": [
    {
     "data": {
      "image/png": "[encoded data removed]",
      "text/plain": [
       "<Figure size 360x360 with 1 Axes>"
      ]
     },
     "metadata": {
      "needs_background": "light"
     },
     "output_type": "display_data"
    }
   ],
   "source": [
    "fig = plt.figure(figsize=(5,5))\n",
    "ax = fig.add_subplot()\n",
    "width = 0.25\n",
    "x = results_all.index\n",
    "ax.bar(x - width, results_all['fraction'], width, label='All patients')\n",
    "ax.bar(x, results_nlvo['fraction'], width, label='nLVO (NIHSS 0-10')\n",
    "ax.bar(x + width, results_lvo['fraction'], width, label='LVO (NIHSS 11+)')\n",
    "ax.set_ylabel('Fraction of patients')\n",
    "ax.set_xlabel('mRS before stroke')\n",
    "ax.legend()\n",
    "plt.savefig('./output/mrs_before_stroke.jpg', dpi=300)\n",
    "plt.show()"
   ]
  }
 ],
 "metadata": {
  "kernelspec": {
   "display_name": "Python 3 (ipykernel)",
   "language": "python",
   "name": "python3"
  },
  "language_info": {
   "codemirror_mode": {
    "name": "ipython",
    "version": 3
   },
   "file_extension": ".py",
   "mimetype": "text/x-python",
   "name": "python",
   "nbconvert_exporter": "python",
   "pygments_lexer": "ipython3",
   "version": "3.9.12"
  }
 },
 "nbformat": 4,
 "nbformat_minor": 5
}
