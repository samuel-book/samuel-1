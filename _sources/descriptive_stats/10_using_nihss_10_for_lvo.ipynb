{
 "cells": [
  {
   "cell_type": "markdown",
   "id": "9b36e3a1-2d4e-4477-9279-aa5921b66d7f",
   "metadata": {},
   "source": [
    "# Analysis of stroke admission numbers and types using NIHSS 11+ as a surrogate for large vessel occlusions\n",
    "\n",
    "Aims:\n",
    "\n",
    "* Analyse proportion of haemorrhagic vs ischaemic stroke by arrival time.\n",
    "* Analyse proportion of ischaemic stroke by NIHSS 0-10 vs 11+ by arrival time."
   ]
  },
  {
   "cell_type": "code",
   "execution_count": 1,
   "id": "46f7858c-eba9-489f-81be-d277b0f29e9c",
   "metadata": {},
   "outputs": [],
   "source": [
    "# import libraries\n",
    "import pandas as pd\n",
    "\n",
    "# import data\n",
    "data = pd.read_csv(\n",
    "    './../data/2019-11-04-HQIP303-Exeter_MA.csv', low_memory=False)"
   ]
  },
  {
   "cell_type": "markdown",
   "id": "87888c48-e1b7-4d41-ae2c-0883c12b0a5f",
   "metadata": {},
   "source": [
    "## Remove unknown stroke type or unknown NIHSS"
   ]
  },
  {
   "cell_type": "code",
   "execution_count": 2,
   "id": "bb89af66-98fa-4336-b057-c36e3e535509",
   "metadata": {},
   "outputs": [
    {
     "name": "stdout",
     "output_type": "stream",
     "text": [
      "Percent data removed: 7.8\n"
     ]
    }
   ],
   "source": [
    "mask = (data['S2StrokeType'].isnull() == False) & (data['S2NihssArrival'].isnull() == False)\n",
    "proportion_removed = (data.shape[0] - mask.sum()) / data.shape[0]\n",
    "data = data[mask]\n",
    "all_arrivals_count = data.shape[0]\n",
    "print(f'Percent data removed: {proportion_removed*100:0.1f}')"
   ]
  },
  {
   "cell_type": "markdown",
   "id": "3fb3beb3-0898-4976-9755-1b43ea150bcf",
   "metadata": {},
   "source": [
    "## All admissions"
   ]
  },
  {
   "cell_type": "markdown",
   "id": "bee4cf74-cb96-4544-b607-a76303e2df58",
   "metadata": {},
   "source": [
    "Get proportion with haemorrhagic stroke:"
   ]
  },
  {
   "cell_type": "code",
   "execution_count": 3,
   "id": "0d3cf88e-2d24-48b9-bd80-b4bb8506dc4d",
   "metadata": {},
   "outputs": [
    {
     "name": "stdout",
     "output_type": "stream",
     "text": [
      "Percent haemorrhage: 11.5\n"
     ]
    }
   ],
   "source": [
    "prop_bleed = (data['S2StrokeType'] == 'Primary Intracerebral Haemorrhage').mean()\n",
    "print (f'Percent haemorrhage: {prop_bleed * 100:0.1f}')"
   ]
  },
  {
   "cell_type": "markdown",
   "id": "d2a3d22d-7bff-44e8-9b04-05ce421073fe",
   "metadata": {},
   "source": [
    "Analyse infarction stroke:"
   ]
  },
  {
   "cell_type": "code",
   "execution_count": 4,
   "id": "fa895098-ed8b-4272-b235-6b80289333ae",
   "metadata": {},
   "outputs": [
    {
     "name": "stdout",
     "output_type": "stream",
     "text": [
      "Percent infarction with NIHSS 0-10: 74.9\n",
      "Percent infarction with NIHSS 11+: 25.1\n"
     ]
    }
   ],
   "source": [
    "mask = data['S2StrokeType'] == 'Infarction'\n",
    "data_infaction = data[mask]\n",
    "prop_nlvo = (data['S2NihssArrival'] < 11).mean()\n",
    "prop_lvo = (data['S2NihssArrival'] > 10).mean()\n",
    "print (f'Percent infarction with NIHSS 0-10: {prop_nlvo * 100:0.1f}')\n",
    "print (f'Percent infarction with NIHSS 11+: {prop_lvo * 100:0.1f}')"
   ]
  },
  {
   "cell_type": "markdown",
   "id": "8422f4cd-4a82-4e81-83b6-03650dd858e7",
   "metadata": {},
   "source": [
    "## Restrict to admissions within 6 hours of known stroke onset"
   ]
  },
  {
   "cell_type": "code",
   "execution_count": 5,
   "id": "34b5fa8b-73d3-420b-8a83-fe21e4186229",
   "metadata": {},
   "outputs": [
    {
     "name": "stdout",
     "output_type": "stream",
     "text": [
      "Percent with known onset of up to 6 hours: 42.9\n"
     ]
    }
   ],
   "source": [
    "mask = (data['S1OnsetToArrival_min'] <= 360) & (data['S1OnsetToArrival_min'] >= 0)\n",
    "prop_6_hour_arrival = mask.sum() / all_arrivals_count\n",
    "print (f'Percent with known onset of up to 6 hours: {prop_6_hour_arrival * 100:0.1f}')\n",
    "data = data[mask]"
   ]
  },
  {
   "cell_type": "markdown",
   "id": "08664789-acd9-4db7-a242-7719ad3729d2",
   "metadata": {},
   "source": [
    "Get proportion with haemorrhagic stroke:"
   ]
  },
  {
   "cell_type": "code",
   "execution_count": 6,
   "id": "68c7e2bb-e64d-4e62-b57f-0be5ad119e15",
   "metadata": {},
   "outputs": [
    {
     "name": "stdout",
     "output_type": "stream",
     "text": [
      "Percent haemorrhage: 13.6\n"
     ]
    }
   ],
   "source": [
    "prop_bleed = (data['S2StrokeType'] == 'Primary Intracerebral Haemorrhage').mean()\n",
    "print (f'Percent haemorrhage: {prop_bleed * 100:0.1f}')"
   ]
  },
  {
   "cell_type": "markdown",
   "id": "9d24c559-edac-4b69-9579-0cf1617d99f6",
   "metadata": {},
   "source": [
    "Analyse infarction stroke:"
   ]
  },
  {
   "cell_type": "code",
   "execution_count": 7,
   "id": "c23faa53-422f-48f1-b0c5-5cc53f50c29e",
   "metadata": {},
   "outputs": [
    {
     "name": "stdout",
     "output_type": "stream",
     "text": [
      "Percent infarction with NIHSS 0-10: 67.4\n",
      "Percent infarction with NIHSS 11+: 32.6\n"
     ]
    }
   ],
   "source": [
    "mask = data['S2StrokeType'] == 'Infarction'\n",
    "data_infaction = data[mask]\n",
    "prop_nlvo = (data['S2NihssArrival'] < 11).mean()\n",
    "prop_lvo = (data['S2NihssArrival'] > 10).mean()\n",
    "print (f'Percent infarction with NIHSS 0-10: {prop_nlvo * 100:0.1f}')\n",
    "print (f'Percent infarction with NIHSS 11+: {prop_lvo * 100:0.1f}')"
   ]
  },
  {
   "cell_type": "markdown",
   "id": "c182599a-15fa-44e3-bcf3-d86979fb819e",
   "metadata": {},
   "source": [
    "## Restrict to admissions within 4 hours of known stroke onset"
   ]
  },
  {
   "cell_type": "code",
   "execution_count": 8,
   "id": "808f5495-abed-44f8-8cac-f73673d6e772",
   "metadata": {},
   "outputs": [
    {
     "name": "stdout",
     "output_type": "stream",
     "text": [
      "Percent with known onset of up to 4 hours: 37.1\n"
     ]
    }
   ],
   "source": [
    "mask = (data['S1OnsetToArrival_min'] <= 240) & (data['S1OnsetToArrival_min'] >= 0)\n",
    "prop_6_hour_arrival = mask.sum() / all_arrivals_count\n",
    "print (f'Percent with known onset of up to 4 hours: {prop_6_hour_arrival * 100:0.1f}')\n",
    "data = data[mask]"
   ]
  },
  {
   "cell_type": "markdown",
   "id": "04925ffd-8632-4e75-aa31-63715a78b167",
   "metadata": {},
   "source": [
    "Get proportion with haemorrhagic stroke:"
   ]
  },
  {
   "cell_type": "code",
   "execution_count": 9,
   "id": "2c652c51-468c-452e-bc1a-c6eda8600ec8",
   "metadata": {},
   "outputs": [
    {
     "name": "stdout",
     "output_type": "stream",
     "text": [
      "Percent haemorrhage: 14.1\n"
     ]
    }
   ],
   "source": [
    "prop_bleed = (data['S2StrokeType'] == 'Primary Intracerebral Haemorrhage').mean()\n",
    "print (f'Percent haemorrhage: {prop_bleed * 100:0.1f}')"
   ]
  },
  {
   "cell_type": "markdown",
   "id": "5c532d6c-67a6-4daa-991a-3c45cf568704",
   "metadata": {},
   "source": [
    "Analyse infarction stroke:"
   ]
  },
  {
   "cell_type": "code",
   "execution_count": 10,
   "id": "4330d6ba-8fc4-426f-999c-168a1fc89058",
   "metadata": {},
   "outputs": [
    {
     "name": "stdout",
     "output_type": "stream",
     "text": [
      "Percent infarction with NIHSS 0-10: 65.7\n",
      "Percent infarction with NIHSS 11+: 34.3\n"
     ]
    }
   ],
   "source": [
    "mask = data['S2StrokeType'] == 'Infarction'\n",
    "data_infaction = data[mask]\n",
    "prop_nlvo = (data['S2NihssArrival'] < 11).mean()\n",
    "prop_lvo = (data['S2NihssArrival'] > 10).mean()\n",
    "print (f'Percent infarction with NIHSS 0-10: {prop_nlvo * 100:0.1f}')\n",
    "print (f'Percent infarction with NIHSS 11+: {prop_lvo * 100:0.1f}')"
   ]
  },
  {
   "cell_type": "markdown",
   "id": "f7f3fbc9-2d6b-4296-9276-555a78bc2f8b",
   "metadata": {},
   "source": [
    "## Summary\n",
    "\n",
    "| Admission type                       | All arrivals | Arrival within 6 hrs known onset | Arrival within 4 hrs known onset |\n",
    "|--------------------------------------|--------------|----------------------------------|----------------------------------|\n",
    "| Proportion all admissions            | 100          | 42.9                             | 37.1                             |\n",
    "| Proportion haemorrhagic              | 11.5         | 13.6                             | 14.1                             |\n",
    "| Proportion ischaemic                 | 88.5         | 86.4                             | 85.9                             |\n",
    "| Proportion ischaemic with NIHSS 0-10 | 74.9         | 67.4                             | 65.7                             |\n",
    "| Proportion ischaemic with NIHSS 11+  | 25.1         | 32.6                             | 34.3                             |"
   ]
  }
 ],
 "metadata": {
  "kernelspec": {
   "display_name": "Python 3 (ipykernel)",
   "language": "python",
   "name": "python3"
  },
  "language_info": {
   "codemirror_mode": {
    "name": "ipython",
    "version": 3
   },
   "file_extension": ".py",
   "mimetype": "text/x-python",
   "name": "python",
   "nbconvert_exporter": "python",
   "pygments_lexer": "ipython3",
   "version": "3.8.13"
  }
 },
 "nbformat": 4,
 "nbformat_minor": 5
}
