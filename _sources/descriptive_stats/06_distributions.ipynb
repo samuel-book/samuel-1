{
 "cells": [
  {
   "cell_type": "markdown",
   "id": "2fe94a42",
   "metadata": {},
   "source": [
    "# Stroke pathway timing distribution\n",
    "\n",
    "## Aim\n",
    "\n",
    "Visualise distributions of timings for:\n",
    "\n",
    "* Onset to arrival (when known)\n",
    "* Arrival to scan\n",
    "* Scan to needle"
   ]
  },
  {
   "cell_type": "code",
   "execution_count": 1,
   "id": "b4599867",
   "metadata": {},
   "outputs": [],
   "source": [
    "# import libraries\n",
    "import matplotlib.pyplot as plt\n",
    "import numpy as np\n",
    "import pandas as pd\n",
    "import scipy.stats\n",
    "from sklearn.preprocessing import StandardScaler\n",
    "\n",
    "import warnings\n",
    "warnings.filterwarnings(\"ignore\")\n",
    "\n",
    "# import data\n",
    "raw_data = pd.read_csv(\n",
    "    './../data/2019-11-04-HQIP303-Exeter_MA.csv', low_memory=False)"
   ]
  },
  {
   "cell_type": "code",
   "execution_count": 2,
   "id": "739bfce9",
   "metadata": {},
   "outputs": [
    {
     "data": {
      "image/png": "[encoded data removed]",
      "text/plain": [
       "<Figure size 864x432 with 3 Axes>"
      ]
     },
     "metadata": {
      "needs_background": "light"
     },
     "output_type": "display_data"
    }
   ],
   "source": [
    "# Set up figure\n",
    "fig = plt.figure(figsize=(12,6))\n",
    "\n",
    "# Subplot 1: Histogram of onset to arrival\n",
    "\n",
    "onset_to_arrival = raw_data['S1OnsetToArrival_min']\n",
    "# Limit to arrivals within 8 hours\n",
    "mask = onset_to_arrival <= 480\n",
    "onset_to_arrival = onset_to_arrival[mask]\n",
    "\n",
    "ax1 = fig.add_subplot(131)\n",
    "bins = np.arange(0, 481, 10)\n",
    "ax1.hist(onset_to_arrival, bins=bins, rwidth=1.0)\n",
    "ax1.set_xlabel('Onset to arrival')\n",
    "ax1.set_ylabel('Count')\n",
    "ax1.set_title('Onset to arrival')\n",
    "ax1.axes.get_yaxis().set_visible(False)\n",
    "\n",
    "\n",
    "# Subplot 2: Histogram of arrival to scan\n",
    "\n",
    "arrival_to_scan = raw_data['S2BrainImagingTime_min']\n",
    "# Limit to arrivals within 4 hours\n",
    "mask = arrival_to_scan <= 480\n",
    "arrival_to_scan = arrival_to_scan[mask]\n",
    "\n",
    "ax2 = fig.add_subplot(132)\n",
    "bins = np.arange(0, 481, 10)\n",
    "ax2.hist(arrival_to_scan, bins=bins, rwidth=1)\n",
    "ax2.set_xlabel('Arrival to scan (mins)')\n",
    "ax2.set_ylabel('Count')\n",
    "ax2.set_title('Arrival to scan')\n",
    "ax2.axes.get_yaxis().set_visible(False)\n",
    "\n",
    "# Subplot 2: Histogram of scan to needle\n",
    "\n",
    "scan_to_needle = \\\n",
    "    raw_data['S2ThrombolysisTime_min'] - raw_data['S2BrainImagingTime_min']\n",
    "\n",
    "ax3 = fig.add_subplot(133)\n",
    "bins = np.arange(0, 240, 5)\n",
    "ax3.hist(scan_to_needle, bins=bins, rwidth=1)\n",
    "ax3.set_xlabel('Scan to needle (mins)')\n",
    "ax3.set_ylabel('Count')\n",
    "ax3.set_title('Scan to needle')\n",
    "ax3.axes.get_yaxis().set_visible(False)\n",
    "\n",
    "\n",
    "# Save and show\n",
    "plt.tight_layout(pad=2)\n",
    "plt.savefig('output/pathway_distribution.jpg', dpi=300)\n",
    "plt.show();"
   ]
  },
  {
   "cell_type": "markdown",
   "id": "56695714-36a8-4269-b809-fdff9597162d",
   "metadata": {},
   "source": [
    "## Fit distributions"
   ]
  },
  {
   "cell_type": "markdown",
   "id": "e29d307d-01dc-46f8-9611-2c2c47feac8c",
   "metadata": {},
   "source": [
    "### Define function to fit distributions"
   ]
  },
  {
   "cell_type": "code",
   "execution_count": 3,
   "id": "98066e06-a099-45c0-8c23-115cab2687f4",
   "metadata": {},
   "outputs": [],
   "source": [
    "def fit_distributions(data_to_fit):   \n",
    "    \n",
    "    # Reshape data and remove invalid values\n",
    "    yy = data_to_fit.values\n",
    "    mask = (yy > 0) & (yy < np.inf)\n",
    "    yy = yy[mask]\n",
    "    \n",
    "    # Bootstrap sample 10k samples\n",
    "    yy = np.random.choice(yy, 10000, replace=True)\n",
    "    \n",
    "    # Reshape\n",
    "    yy = yy.reshape (-1,1)\n",
    "    size = len(yy)\n",
    "    \n",
    "    # Standardise data\n",
    "    sc = StandardScaler()\n",
    "    sc.fit(yy)\n",
    "    y_std = sc.transform(yy)\n",
    "    \n",
    "    # Add +/- 0.001 jitter to avoid failure of fit\n",
    "    jitter = np.random.uniform(-0.001, 0.001, 10000)\n",
    "    jitter = jitter.reshape (-1,1)\n",
    "    y_std += jitter\n",
    "    \n",
    "    # Test 10 distributions\n",
    "    dist_names = ['beta',\n",
    "              'expon',\n",
    "              'gamma',\n",
    "              'lognorm',\n",
    "              'norm',\n",
    "              'pearson3',\n",
    "              'triang',\n",
    "              'uniform',\n",
    "              'weibull_min', \n",
    "              'weibull_max']\n",
    "    \n",
    "    # Set up empty lists to stroe results\n",
    "    chi_square = []\n",
    "    p_values = []\n",
    "    \n",
    "    # Set up 50 bins for chi-square test\n",
    "    # Observed data will be approximately evenly distrubuted aross all bins\n",
    "    percentile_bins = np.linspace(0,100,51)\n",
    "    percentile_cutoffs = np.percentile(y_std, percentile_bins)\n",
    "    observed_frequency, bins = (np.histogram(y_std, bins=percentile_cutoffs))\n",
    "    cum_observed_frequency = np.cumsum(observed_frequency)\n",
    "    \n",
    "    # Loop through candidate distributions\n",
    "\n",
    "    for distribution in dist_names:\n",
    "        # Set up distribution and get fitted distribution parameters\n",
    "        dist = getattr(scipy.stats, distribution)\n",
    "        param = dist.fit(y_std)\n",
    "\n",
    "        # Obtain the KS test P statistic, round it to 5 decimal places\n",
    "        p = scipy.stats.kstest(y_std, distribution, args=param)[1]\n",
    "        p = np.around(p, 5)\n",
    "        p_values.append(p)    \n",
    "\n",
    "        # Get expected counts in percentile bins\n",
    "        # This is based on a 'cumulative distrubution function' (cdf)\n",
    "        cdf_fitted = dist.cdf(percentile_cutoffs, *param[:-2], loc=param[-2], \n",
    "                              scale=param[-1])\n",
    "        expected_frequency = []\n",
    "        for bin in range(len(percentile_bins)-1):\n",
    "            expected_cdf_area = cdf_fitted[bin+1] - cdf_fitted[bin]\n",
    "            expected_frequency.append(expected_cdf_area)\n",
    "\n",
    "        # calculate chi-squared\n",
    "        expected_frequency = np.array(expected_frequency) * size\n",
    "        cum_expected_frequency = np.cumsum(expected_frequency)\n",
    "        ss = sum (((cum_expected_frequency - cum_observed_frequency) ** 2) / \n",
    "                  cum_observed_frequency)\n",
    "        chi_square.append(ss)\n",
    "        \n",
    "        # Collate results and sort by goodness of fit (best at top)\n",
    "\n",
    "    results = pd.DataFrame()\n",
    "    results['Distribution'] = dist_names\n",
    "    results['chi_square'] = chi_square\n",
    "    results['p_value'] = p_values\n",
    "    results.sort_values(['chi_square'], inplace=True)\n",
    "\n",
    "    # Report results\n",
    "\n",
    "    print ('\\nDistributions sorted by goodness of fit:')\n",
    "    print ('----------------------------------------')\n",
    "    print (results)"
   ]
  },
  {
   "cell_type": "markdown",
   "id": "1dd516c5-6341-42e8-89a8-c41d9500a391",
   "metadata": {},
   "source": [
    "### Fit distributions to onset-to-arrival"
   ]
  },
  {
   "cell_type": "code",
   "execution_count": 4,
   "id": "12af104a-4f34-4750-bcf5-fc2d24b2e39d",
   "metadata": {},
   "outputs": [
    {
     "name": "stdout",
     "output_type": "stream",
     "text": [
      "\n",
      "Distributions sorted by goodness of fit:\n",
      "----------------------------------------\n",
      "  Distribution    chi_square  p_value\n",
      "3      lognorm   1035.973629      0.0\n",
      "2        gamma   2867.577302      0.0\n",
      "5     pearson3   2867.877770      0.0\n",
      "9  weibull_max   4346.740179      0.0\n",
      "8  weibull_min   5544.402156      0.0\n",
      "6       triang   9628.460031      0.0\n",
      "4         norm  18830.063675      0.0\n",
      "7      uniform  38428.238166      0.0\n",
      "1        expon  53905.993560      0.0\n",
      "0         beta  92182.354188      0.0\n"
     ]
    }
   ],
   "source": [
    "onset_to_arrival = raw_data['S1OnsetToArrival_min']\n",
    "# Censor at 8 hours\n",
    "mask = onset_to_arrival <= 480\n",
    "onset_to_arrival = onset_to_arrival[mask]\n",
    "fit_distributions(onset_to_arrival)"
   ]
  },
  {
   "cell_type": "markdown",
   "id": "3b5800de-95f9-4d67-b866-53f51236a351",
   "metadata": {},
   "source": [
    "### Fit distributions to arrival-to-scan"
   ]
  },
  {
   "cell_type": "code",
   "execution_count": 5,
   "id": "a51d8026-9fc5-452b-89ae-8efedb155380",
   "metadata": {},
   "outputs": [
    {
     "name": "stdout",
     "output_type": "stream",
     "text": [
      "\n",
      "Distributions sorted by goodness of fit:\n",
      "----------------------------------------\n",
      "  Distribution     chi_square  p_value\n",
      "3      lognorm    1043.244304      0.0\n",
      "8  weibull_min    1242.414276      0.0\n",
      "2        gamma    1900.433438      0.0\n",
      "5     pearson3    1909.613959      0.0\n",
      "1        expon    2122.071088      0.0\n",
      "0         beta    3924.046486      0.0\n",
      "9  weibull_max   25326.018898      0.0\n",
      "6       triang   55942.946250      0.0\n",
      "4         norm   59422.248827      0.0\n",
      "7      uniform  112924.720088      0.0\n"
     ]
    }
   ],
   "source": [
    "arrival_to_scan = raw_data['S2BrainImagingTime_min']\n",
    "# Censor at 8 hours\n",
    "mask = arrival_to_scan <= 480\n",
    "arrival_to_scan = arrival_to_scan[mask]\n",
    "fit_distributions(arrival_to_scan)"
   ]
  },
  {
   "cell_type": "markdown",
   "id": "cdae98c9-6fd7-4e9f-981d-7222de591334",
   "metadata": {},
   "source": [
    "### Fit distributions to scan-to-needle"
   ]
  },
  {
   "cell_type": "code",
   "execution_count": 6,
   "id": "e94ccf28-9b4d-432c-bbe3-46ab5fc037ed",
   "metadata": {},
   "outputs": [
    {
     "name": "stdout",
     "output_type": "stream",
     "text": [
      "\n",
      "Distributions sorted by goodness of fit:\n",
      "----------------------------------------\n",
      "  Distribution     chi_square  p_value\n",
      "3      lognorm     156.464194      0.0\n",
      "5     pearson3     625.603158      0.0\n",
      "0         beta     709.696904      0.0\n",
      "8  weibull_min    2381.501591      0.0\n",
      "9  weibull_max    3229.290860      0.0\n",
      "1        expon   21832.942628      0.0\n",
      "4         norm   27966.447333      0.0\n",
      "6       triang  156575.354540      0.0\n",
      "7      uniform  196413.310249      0.0\n",
      "2        gamma  668068.407184      0.0\n"
     ]
    }
   ],
   "source": [
    "scan_to_needle = \\\n",
    "    raw_data['S2ThrombolysisTime_min'] - raw_data['S2BrainImagingTime_min']\n",
    "fit_distributions(scan_to_needle)"
   ]
  },
  {
   "cell_type": "markdown",
   "id": "2985fb71",
   "metadata": {},
   "source": [
    "## Observations\n",
    "\n",
    "* All timings show a right skew, with lognormal having minimum chi-squared\n",
    "* Choose log normal distributions for pathway process times"
   ]
  }
 ],
 "metadata": {
  "kernelspec": {
   "display_name": "Python 3",
   "language": "python",
   "name": "python3"
  },
  "language_info": {
   "codemirror_mode": {
    "name": "ipython",
    "version": 3
   },
   "file_extension": ".py",
   "mimetype": "text/x-python",
   "name": "python",
   "nbconvert_exporter": "python",
   "pygments_lexer": "ipython3",
   "version": "3.8.8"
  }
 },
 "nbformat": 4,
 "nbformat_minor": 5
}
