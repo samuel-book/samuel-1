{
 "cells": [
  {
   "cell_type": "markdown",
   "id": "67fcbaaa",
   "metadata": {},
   "source": [
    "# Association between patient features on use of thrombolysis\n",
    "\n",
    "## Aims\n",
    "\n",
    "Examine thrombolysis use (in all arrivals, and the subset of those who arrive within 4 hours of known onset) according to:\n",
    "\n",
    "* Disability (Rankin) before stroke\n",
    "* Stroke severity (NIHSS)\n",
    "* Gender\n",
    "* Ethnicity\n",
    "* Age group\n",
    "* Onset known\n",
    "* Arrival by ambulance\n",
    "\n",
    "Examine thrombolysis use in the absence and presence of co-morbidities. \n",
    "\n",
    "Note: The association of particular features with use of thrombolysis does not imply that these relationships are causal.\n",
    "\n",
    "Examine reasons given for not giving thrombolysis."
   ]
  },
  {
   "cell_type": "markdown",
   "id": "38e3a9e5",
   "metadata": {},
   "source": [
    "## Import libraries and data\n",
    "\n",
    "Data has been resticted to stroke teams with at least 300 admissions, with at least 10 patients receiving thrombolysis, over three years."
   ]
  },
  {
   "cell_type": "code",
   "execution_count": 1,
   "id": "81dc2778",
   "metadata": {},
   "outputs": [],
   "source": [
    "# import libraries\n",
    "import matplotlib.pyplot as plt\n",
    "import numpy as np\n",
    "import pandas as pd\n",
    "\n",
    "# import data\n",
    "raw_data = pd.read_csv(\n",
    "    './../data/2019-11-04-HQIP303-Exeter_MA.csv', low_memory=False)"
   ]
  },
  {
   "cell_type": "code",
   "execution_count": 2,
   "id": "e890cfe7",
   "metadata": {},
   "outputs": [
    {
     "name": "stdout",
     "output_type": "stream",
     "text": [
      "['StrokeTeam', 'PatientUID', 'Pathway', 'S1AgeOnArrival', 'MoreEqual80y', 'S1Gender', 'S1Ethnicity', 'S1OnsetInHospital', 'S1OnsetToArrival_min', 'S1OnsetDateType', 'S1OnsetTimeType', 'S1ArriveByAmbulance', 'S1AdmissionHour', 'S1AdmissionDay', 'S1AdmissionQuarter', 'S1AdmissionYear', 'CongestiveHeartFailure', 'Hypertension', 'AtrialFibrillation', 'Diabetes', 'StrokeTIA', 'AFAntiplatelet', 'AFAnticoagulent', 'AFAnticoagulentVitK', 'AFAnticoagulentDOAC', 'AFAnticoagulentHeparin', 'S2INR', 'S2INRHigh', 'S2INRNK', 'S2NewAFDiagnosis', 'S2RankinBeforeStroke', 'Loc', 'LocQuestions', 'LocCommands', 'BestGaze', 'Visual', 'FacialPalsy', 'MotorArmLeft', 'MotorArmRight', 'MotorLegLeft', 'MotorLegRight', 'LimbAtaxia', 'Sensory', 'BestLanguage', 'Dysarthria', 'ExtinctionInattention', 'S2NihssArrival', 'S2BrainImagingTime_min', 'S2StrokeType', 'S2Thrombolysis', 'Haemorrhagic', 'TimeWindow', 'Comorbidity', 'Medication', 'Refusal', 'Age', 'Improving', 'TooMildSevere', 'TimeUnknownWakeUp', 'OtherMedical', 'S2ThrombolysisTime_min', 'S2TIAInLastMonth']\n"
     ]
    }
   ],
   "source": [
    "headings = list(raw_data)\n",
    "print (headings)"
   ]
  },
  {
   "cell_type": "markdown",
   "id": "5582dc24",
   "metadata": {},
   "source": [
    "## Restrict original data to hospitals with at least 300 admissions + 10 thrombolysis patients"
   ]
  },
  {
   "cell_type": "code",
   "execution_count": 3,
   "id": "af518d30",
   "metadata": {},
   "outputs": [
    {
     "name": "stdout",
     "output_type": "stream",
     "text": [
      "(239505, 63)\n"
     ]
    }
   ],
   "source": [
    "keep = []\n",
    "\n",
    "groups = raw_data.groupby('StrokeTeam') # creates a new object of groups of data\n",
    "\n",
    "for index, group_df in groups: # each group has an index and a dataframe of data\n",
    "    \n",
    "    # Skip if total admissions less than 300 or total thrombolysis < 10\n",
    "    admissions = group_df.shape[0]\n",
    "    thrombolysis_received = group_df['S2Thrombolysis'] == 'Yes' \n",
    "    if (admissions < 300) or (thrombolysis_received.sum() < 10):\n",
    "        continue\n",
    "    \n",
    "    else: \n",
    "        keep.append(group_df)\n",
    "\n",
    "# Concatenate output\n",
    "data = pd.DataFrame()\n",
    "data = pd.concat(keep)\n",
    "\n",
    "# Convert thromboilysis to boolean\n",
    "data['thrombolysis_given'] = data['S2Thrombolysis'] == 'Yes'\n",
    "\n",
    "print (data.shape)"
   ]
  },
  {
   "cell_type": "markdown",
   "id": "4252fb09",
   "metadata": {},
   "source": [
    "## Get out-of-hopsital stroke onset arrivals within 4 hours of known stroke onset"
   ]
  },
  {
   "cell_type": "code",
   "execution_count": 4,
   "id": "4f9e014f",
   "metadata": {},
   "outputs": [],
   "source": [
    "# Get out of hospital arrivals\n",
    "mask = data['S1OnsetInHospital'] == 'No'\n",
    "data = data[mask]\n",
    "\n",
    "# Get arrivals within 4 hours of known stroke onset\n",
    "mask = data['S1OnsetToArrival_min'] <= 240\n",
    "data_4hr = data[mask]"
   ]
  },
  {
   "cell_type": "markdown",
   "id": "2f991d89",
   "metadata": {},
   "source": [
    "## Breakdown of thrombolysis use by feature"
   ]
  },
  {
   "cell_type": "markdown",
   "id": "9d6b0d56",
   "metadata": {},
   "source": [
    "### Rankin before stroke"
   ]
  },
  {
   "cell_type": "code",
   "execution_count": 5,
   "id": "40e697d9",
   "metadata": {},
   "outputs": [],
   "source": [
    "# All admissions\n",
    "rankin_before_stroke_all = \\\n",
    "    data.groupby('S2RankinBeforeStroke').mean()['thrombolysis_given']\n",
    "rankin_before_stroke_all.rename('All', inplace=True)\n",
    "\n",
    "# Admissions within 4 hours of arrival\n",
    "rankin_before_stroke_4hr = \\\n",
    "    data_4hr.groupby('S2RankinBeforeStroke').mean()['thrombolysis_given']\n",
    "rankin_before_stroke_4hr.rename('4hr', inplace=True)\n",
    "\n",
    "# Combine\n",
    "rankin_before_stroke = \\\n",
    "    pd.concat([rankin_before_stroke_all, rankin_before_stroke_4hr], axis=1)\n",
    "rankin_before_stroke = rankin_before_stroke.round(3)\n",
    "rankin_before_stroke *= 100"
   ]
  },
  {
   "cell_type": "code",
   "execution_count": 6,
   "id": "0cd6872a",
   "metadata": {},
   "outputs": [
    {
     "data": {
      "text/html": [
       "<div>\n",
       "<style scoped>\n",
       "    .dataframe tbody tr th:only-of-type {\n",
       "        vertical-align: middle;\n",
       "    }\n",
       "\n",
       "    .dataframe tbody tr th {\n",
       "        vertical-align: top;\n",
       "    }\n",
       "\n",
       "    .dataframe thead th {\n",
       "        text-align: right;\n",
       "    }\n",
       "</style>\n",
       "<table border=\"1\" class=\"dataframe\">\n",
       "  <thead>\n",
       "    <tr style=\"text-align: right;\">\n",
       "      <th></th>\n",
       "      <th>All</th>\n",
       "      <th>4hr</th>\n",
       "    </tr>\n",
       "    <tr>\n",
       "      <th>S2RankinBeforeStroke</th>\n",
       "      <th></th>\n",
       "      <th></th>\n",
       "    </tr>\n",
       "  </thead>\n",
       "  <tbody>\n",
       "    <tr>\n",
       "      <th>0</th>\n",
       "      <td>14.2</td>\n",
       "      <td>34.9</td>\n",
       "    </tr>\n",
       "    <tr>\n",
       "      <th>1</th>\n",
       "      <td>10.8</td>\n",
       "      <td>28.6</td>\n",
       "    </tr>\n",
       "    <tr>\n",
       "      <th>2</th>\n",
       "      <td>9.0</td>\n",
       "      <td>24.0</td>\n",
       "    </tr>\n",
       "    <tr>\n",
       "      <th>3</th>\n",
       "      <td>8.7</td>\n",
       "      <td>21.5</td>\n",
       "    </tr>\n",
       "    <tr>\n",
       "      <th>4</th>\n",
       "      <td>6.5</td>\n",
       "      <td>15.0</td>\n",
       "    </tr>\n",
       "    <tr>\n",
       "      <th>5</th>\n",
       "      <td>4.3</td>\n",
       "      <td>9.8</td>\n",
       "    </tr>\n",
       "  </tbody>\n",
       "</table>\n",
       "</div>"
      ],
      "text/plain": [
       "                       All   4hr\n",
       "S2RankinBeforeStroke            \n",
       "0                     14.2  34.9\n",
       "1                     10.8  28.6\n",
       "2                      9.0  24.0\n",
       "3                      8.7  21.5\n",
       "4                      6.5  15.0\n",
       "5                      4.3   9.8"
      ]
     },
     "execution_count": 6,
     "metadata": {},
     "output_type": "execute_result"
    }
   ],
   "source": [
    "rankin_before_stroke"
   ]
  },
  {
   "cell_type": "code",
   "execution_count": 7,
   "id": "5b996c51",
   "metadata": {},
   "outputs": [
    {
     "data": {
      "image/png": "[encoded data removed]",
      "text/plain": [
       "<Figure size 360x360 with 1 Axes>"
      ]
     },
     "metadata": {
      "needs_background": "light"
     },
     "output_type": "display_data"
    }
   ],
   "source": [
    "# Set up figure\n",
    "fig = plt.figure(figsize=(5,5))\n",
    "ax = fig.add_subplot()\n",
    "x = rankin_before_stroke.index\n",
    "y1 = rankin_before_stroke['All']\n",
    "y2 = rankin_before_stroke['4hr'] \n",
    "ax.plot(x, y1, label='All arrivals')\n",
    "ax.plot(x, y2, label='4 Hour arrivals')\n",
    "ax.set_xlabel('Disability (Rankin) before stroke')\n",
    "ax.set_ylabel('Thrombolysis use (%)')\n",
    "ax.legend()\n",
    "plt.tight_layout()\n",
    "plt.savefig('output/thrombolysis_use_by_rankin_before_stroke.jpg', dpi=300)\n",
    "plt.show()"
   ]
  },
  {
   "cell_type": "markdown",
   "id": "e655ef0a",
   "metadata": {},
   "source": [
    "### Stroke severity"
   ]
  },
  {
   "cell_type": "code",
   "execution_count": 8,
   "id": "7a9eafab",
   "metadata": {},
   "outputs": [],
   "source": [
    "# All admissions\n",
    "NIHSS_all = data.groupby('S2NihssArrival').mean()['thrombolysis_given']\n",
    "NIHSS_all.rename('All', inplace=True)\n",
    "\n",
    "# Admissions within 4 hours of arrival\n",
    "NIHSS_4hr = data_4hr.groupby('S2NihssArrival').mean()['thrombolysis_given']\n",
    "NIHSS_4hr.rename('4hr', inplace=True)\n",
    "\n",
    "# Combine\n",
    "NIHSS = pd.concat([NIHSS_all, NIHSS_4hr], axis=1) * 100\n",
    "NIHSS = NIHSS.round(1)"
   ]
  },
  {
   "cell_type": "code",
   "execution_count": 9,
   "id": "4020fd5a",
   "metadata": {},
   "outputs": [
    {
     "data": {
      "text/html": [
       "<div>\n",
       "<style scoped>\n",
       "    .dataframe tbody tr th:only-of-type {\n",
       "        vertical-align: middle;\n",
       "    }\n",
       "\n",
       "    .dataframe tbody tr th {\n",
       "        vertical-align: top;\n",
       "    }\n",
       "\n",
       "    .dataframe thead th {\n",
       "        text-align: right;\n",
       "    }\n",
       "</style>\n",
       "<table border=\"1\" class=\"dataframe\">\n",
       "  <thead>\n",
       "    <tr style=\"text-align: right;\">\n",
       "      <th></th>\n",
       "      <th>All</th>\n",
       "      <th>4hr</th>\n",
       "    </tr>\n",
       "    <tr>\n",
       "      <th>S2NihssArrival</th>\n",
       "      <th></th>\n",
       "      <th></th>\n",
       "    </tr>\n",
       "  </thead>\n",
       "  <tbody>\n",
       "    <tr>\n",
       "      <th>0.0</th>\n",
       "      <td>0.6</td>\n",
       "      <td>2.1</td>\n",
       "    </tr>\n",
       "    <tr>\n",
       "      <th>1.0</th>\n",
       "      <td>1.1</td>\n",
       "      <td>3.8</td>\n",
       "    </tr>\n",
       "    <tr>\n",
       "      <th>2.0</th>\n",
       "      <td>2.5</td>\n",
       "      <td>8.3</td>\n",
       "    </tr>\n",
       "    <tr>\n",
       "      <th>3.0</th>\n",
       "      <td>4.9</td>\n",
       "      <td>15.0</td>\n",
       "    </tr>\n",
       "    <tr>\n",
       "      <th>4.0</th>\n",
       "      <td>9.7</td>\n",
       "      <td>28.7</td>\n",
       "    </tr>\n",
       "    <tr>\n",
       "      <th>5.0</th>\n",
       "      <td>14.0</td>\n",
       "      <td>36.8</td>\n",
       "    </tr>\n",
       "    <tr>\n",
       "      <th>6.0</th>\n",
       "      <td>16.4</td>\n",
       "      <td>39.9</td>\n",
       "    </tr>\n",
       "    <tr>\n",
       "      <th>7.0</th>\n",
       "      <td>18.8</td>\n",
       "      <td>42.4</td>\n",
       "    </tr>\n",
       "    <tr>\n",
       "      <th>8.0</th>\n",
       "      <td>21.0</td>\n",
       "      <td>44.7</td>\n",
       "    </tr>\n",
       "    <tr>\n",
       "      <th>9.0</th>\n",
       "      <td>21.6</td>\n",
       "      <td>44.2</td>\n",
       "    </tr>\n",
       "    <tr>\n",
       "      <th>10.0</th>\n",
       "      <td>21.9</td>\n",
       "      <td>43.4</td>\n",
       "    </tr>\n",
       "    <tr>\n",
       "      <th>11.0</th>\n",
       "      <td>24.0</td>\n",
       "      <td>46.1</td>\n",
       "    </tr>\n",
       "    <tr>\n",
       "      <th>12.0</th>\n",
       "      <td>23.9</td>\n",
       "      <td>43.8</td>\n",
       "    </tr>\n",
       "    <tr>\n",
       "      <th>13.0</th>\n",
       "      <td>24.7</td>\n",
       "      <td>43.9</td>\n",
       "    </tr>\n",
       "    <tr>\n",
       "      <th>14.0</th>\n",
       "      <td>25.9</td>\n",
       "      <td>45.9</td>\n",
       "    </tr>\n",
       "    <tr>\n",
       "      <th>15.0</th>\n",
       "      <td>25.9</td>\n",
       "      <td>45.0</td>\n",
       "    </tr>\n",
       "    <tr>\n",
       "      <th>16.0</th>\n",
       "      <td>26.4</td>\n",
       "      <td>44.4</td>\n",
       "    </tr>\n",
       "    <tr>\n",
       "      <th>17.0</th>\n",
       "      <td>26.2</td>\n",
       "      <td>44.3</td>\n",
       "    </tr>\n",
       "    <tr>\n",
       "      <th>18.0</th>\n",
       "      <td>26.6</td>\n",
       "      <td>45.1</td>\n",
       "    </tr>\n",
       "    <tr>\n",
       "      <th>19.0</th>\n",
       "      <td>26.7</td>\n",
       "      <td>46.2</td>\n",
       "    </tr>\n",
       "    <tr>\n",
       "      <th>20.0</th>\n",
       "      <td>23.7</td>\n",
       "      <td>42.3</td>\n",
       "    </tr>\n",
       "    <tr>\n",
       "      <th>21.0</th>\n",
       "      <td>24.3</td>\n",
       "      <td>42.6</td>\n",
       "    </tr>\n",
       "    <tr>\n",
       "      <th>22.0</th>\n",
       "      <td>24.1</td>\n",
       "      <td>41.4</td>\n",
       "    </tr>\n",
       "    <tr>\n",
       "      <th>23.0</th>\n",
       "      <td>25.0</td>\n",
       "      <td>44.2</td>\n",
       "    </tr>\n",
       "    <tr>\n",
       "      <th>24.0</th>\n",
       "      <td>24.7</td>\n",
       "      <td>42.7</td>\n",
       "    </tr>\n",
       "    <tr>\n",
       "      <th>25.0</th>\n",
       "      <td>22.2</td>\n",
       "      <td>39.3</td>\n",
       "    </tr>\n",
       "    <tr>\n",
       "      <th>26.0</th>\n",
       "      <td>17.5</td>\n",
       "      <td>31.0</td>\n",
       "    </tr>\n",
       "    <tr>\n",
       "      <th>27.0</th>\n",
       "      <td>17.6</td>\n",
       "      <td>31.8</td>\n",
       "    </tr>\n",
       "    <tr>\n",
       "      <th>28.0</th>\n",
       "      <td>12.5</td>\n",
       "      <td>24.1</td>\n",
       "    </tr>\n",
       "    <tr>\n",
       "      <th>29.0</th>\n",
       "      <td>12.6</td>\n",
       "      <td>24.0</td>\n",
       "    </tr>\n",
       "    <tr>\n",
       "      <th>30.0</th>\n",
       "      <td>9.8</td>\n",
       "      <td>19.4</td>\n",
       "    </tr>\n",
       "    <tr>\n",
       "      <th>31.0</th>\n",
       "      <td>8.9</td>\n",
       "      <td>18.1</td>\n",
       "    </tr>\n",
       "    <tr>\n",
       "      <th>32.0</th>\n",
       "      <td>8.3</td>\n",
       "      <td>16.5</td>\n",
       "    </tr>\n",
       "    <tr>\n",
       "      <th>33.0</th>\n",
       "      <td>6.0</td>\n",
       "      <td>12.7</td>\n",
       "    </tr>\n",
       "    <tr>\n",
       "      <th>34.0</th>\n",
       "      <td>4.9</td>\n",
       "      <td>10.0</td>\n",
       "    </tr>\n",
       "    <tr>\n",
       "      <th>35.0</th>\n",
       "      <td>4.2</td>\n",
       "      <td>7.7</td>\n",
       "    </tr>\n",
       "    <tr>\n",
       "      <th>36.0</th>\n",
       "      <td>2.4</td>\n",
       "      <td>5.0</td>\n",
       "    </tr>\n",
       "    <tr>\n",
       "      <th>37.0</th>\n",
       "      <td>3.6</td>\n",
       "      <td>6.8</td>\n",
       "    </tr>\n",
       "    <tr>\n",
       "      <th>38.0</th>\n",
       "      <td>5.7</td>\n",
       "      <td>9.9</td>\n",
       "    </tr>\n",
       "    <tr>\n",
       "      <th>39.0</th>\n",
       "      <td>6.5</td>\n",
       "      <td>11.4</td>\n",
       "    </tr>\n",
       "    <tr>\n",
       "      <th>40.0</th>\n",
       "      <td>0.0</td>\n",
       "      <td>0.0</td>\n",
       "    </tr>\n",
       "    <tr>\n",
       "      <th>41.0</th>\n",
       "      <td>0.0</td>\n",
       "      <td>0.0</td>\n",
       "    </tr>\n",
       "    <tr>\n",
       "      <th>42.0</th>\n",
       "      <td>1.6</td>\n",
       "      <td>2.7</td>\n",
       "    </tr>\n",
       "  </tbody>\n",
       "</table>\n",
       "</div>"
      ],
      "text/plain": [
       "                 All   4hr\n",
       "S2NihssArrival            \n",
       "0.0              0.6   2.1\n",
       "1.0              1.1   3.8\n",
       "2.0              2.5   8.3\n",
       "3.0              4.9  15.0\n",
       "4.0              9.7  28.7\n",
       "5.0             14.0  36.8\n",
       "6.0             16.4  39.9\n",
       "7.0             18.8  42.4\n",
       "8.0             21.0  44.7\n",
       "9.0             21.6  44.2\n",
       "10.0            21.9  43.4\n",
       "11.0            24.0  46.1\n",
       "12.0            23.9  43.8\n",
       "13.0            24.7  43.9\n",
       "14.0            25.9  45.9\n",
       "15.0            25.9  45.0\n",
       "16.0            26.4  44.4\n",
       "17.0            26.2  44.3\n",
       "18.0            26.6  45.1\n",
       "19.0            26.7  46.2\n",
       "20.0            23.7  42.3\n",
       "21.0            24.3  42.6\n",
       "22.0            24.1  41.4\n",
       "23.0            25.0  44.2\n",
       "24.0            24.7  42.7\n",
       "25.0            22.2  39.3\n",
       "26.0            17.5  31.0\n",
       "27.0            17.6  31.8\n",
       "28.0            12.5  24.1\n",
       "29.0            12.6  24.0\n",
       "30.0             9.8  19.4\n",
       "31.0             8.9  18.1\n",
       "32.0             8.3  16.5\n",
       "33.0             6.0  12.7\n",
       "34.0             4.9  10.0\n",
       "35.0             4.2   7.7\n",
       "36.0             2.4   5.0\n",
       "37.0             3.6   6.8\n",
       "38.0             5.7   9.9\n",
       "39.0             6.5  11.4\n",
       "40.0             0.0   0.0\n",
       "41.0             0.0   0.0\n",
       "42.0             1.6   2.7"
      ]
     },
     "execution_count": 9,
     "metadata": {},
     "output_type": "execute_result"
    }
   ],
   "source": [
    "NIHSS"
   ]
  },
  {
   "cell_type": "code",
   "execution_count": 10,
   "id": "cc108ae4",
   "metadata": {},
   "outputs": [
    {
     "data": {
      "image/png": "[encoded data removed]",
      "text/plain": [
       "<Figure size 360x360 with 1 Axes>"
      ]
     },
     "metadata": {
      "needs_background": "light"
     },
     "output_type": "display_data"
    }
   ],
   "source": [
    "# Set up figure\n",
    "fig = plt.figure(figsize=(5,5))\n",
    "ax = fig.add_subplot()\n",
    "x = NIHSS.index\n",
    "y1 = NIHSS['All']\n",
    "y2 = NIHSS['4hr'] \n",
    "ax.plot(x, y1, label='All arrivals')\n",
    "ax.plot(x, y2, label='4 Hour arrivals')\n",
    "ax.set_xlabel('Stroke severity (NIHSS) on arrival')\n",
    "ax.set_ylabel('Thrombolysis use (%)')\n",
    "ax.legend()\n",
    "\n",
    "plt.tight_layout()\n",
    "plt.savefig('output/thrombolysis_use_by_arrival_nihss.jpg', dpi=300)\n",
    "plt.show()"
   ]
  },
  {
   "cell_type": "markdown",
   "id": "9ffe72b1",
   "metadata": {},
   "source": [
    "### Gender"
   ]
  },
  {
   "cell_type": "code",
   "execution_count": 11,
   "id": "2d44951b",
   "metadata": {},
   "outputs": [],
   "source": [
    "# All admissions\n",
    "gender_all = data.groupby('S1Gender').mean()['thrombolysis_given']\n",
    "gender_all.rename('All', inplace=True)\n",
    "\n",
    "# Admissions within 4 hours of arrival\n",
    "gender_4hr = data_4hr.groupby('S1Gender').mean()['thrombolysis_given']\n",
    "gender_4hr.rename('4hr', inplace=True)\n",
    "\n",
    "# Combine\n",
    "gender = pd.concat([gender_all, gender_4hr], axis=1) * 100\n",
    "gender = gender.round(1)"
   ]
  },
  {
   "cell_type": "code",
   "execution_count": 12,
   "id": "11e7fe77",
   "metadata": {},
   "outputs": [
    {
     "data": {
      "text/html": [
       "<div>\n",
       "<style scoped>\n",
       "    .dataframe tbody tr th:only-of-type {\n",
       "        vertical-align: middle;\n",
       "    }\n",
       "\n",
       "    .dataframe tbody tr th {\n",
       "        vertical-align: top;\n",
       "    }\n",
       "\n",
       "    .dataframe thead th {\n",
       "        text-align: right;\n",
       "    }\n",
       "</style>\n",
       "<table border=\"1\" class=\"dataframe\">\n",
       "  <thead>\n",
       "    <tr style=\"text-align: right;\">\n",
       "      <th></th>\n",
       "      <th>All</th>\n",
       "      <th>4hr</th>\n",
       "    </tr>\n",
       "    <tr>\n",
       "      <th>S1Gender</th>\n",
       "      <th></th>\n",
       "      <th></th>\n",
       "    </tr>\n",
       "  </thead>\n",
       "  <tbody>\n",
       "    <tr>\n",
       "      <th>Female</th>\n",
       "      <td>11.3</td>\n",
       "      <td>28.2</td>\n",
       "    </tr>\n",
       "    <tr>\n",
       "      <th>Male</th>\n",
       "      <td>12.3</td>\n",
       "      <td>30.8</td>\n",
       "    </tr>\n",
       "  </tbody>\n",
       "</table>\n",
       "</div>"
      ],
      "text/plain": [
       "           All   4hr\n",
       "S1Gender            \n",
       "Female    11.3  28.2\n",
       "Male      12.3  30.8"
      ]
     },
     "execution_count": 12,
     "metadata": {},
     "output_type": "execute_result"
    }
   ],
   "source": [
    "gender"
   ]
  },
  {
   "cell_type": "markdown",
   "id": "6bf219ad",
   "metadata": {},
   "source": [
    "### Ethnicity"
   ]
  },
  {
   "cell_type": "code",
   "execution_count": 13,
   "id": "0fe8e8b3",
   "metadata": {},
   "outputs": [],
   "source": [
    "# All admissions\n",
    "ethnicity_all = data.groupby('S1Ethnicity').mean()['thrombolysis_given']\n",
    "ethnicity_all.rename('All', inplace=True)\n",
    "\n",
    "# Admissions within 4 hours of arrival\n",
    "ethnicity_4hr = data_4hr.groupby('S1Ethnicity').mean()['thrombolysis_given']\n",
    "ethnicity_4hr.rename('4hr', inplace=True)\n",
    "\n",
    "# Combine\n",
    "ethnicity = pd.concat([ethnicity_all, ethnicity_4hr], axis=1) * 100\n",
    "ethnicity = ethnicity.round(1)"
   ]
  },
  {
   "cell_type": "code",
   "execution_count": 14,
   "id": "a262905d",
   "metadata": {},
   "outputs": [
    {
     "data": {
      "text/html": [
       "<div>\n",
       "<style scoped>\n",
       "    .dataframe tbody tr th:only-of-type {\n",
       "        vertical-align: middle;\n",
       "    }\n",
       "\n",
       "    .dataframe tbody tr th {\n",
       "        vertical-align: top;\n",
       "    }\n",
       "\n",
       "    .dataframe thead th {\n",
       "        text-align: right;\n",
       "    }\n",
       "</style>\n",
       "<table border=\"1\" class=\"dataframe\">\n",
       "  <thead>\n",
       "    <tr style=\"text-align: right;\">\n",
       "      <th></th>\n",
       "      <th>All</th>\n",
       "      <th>4hr</th>\n",
       "    </tr>\n",
       "    <tr>\n",
       "      <th>S1Ethnicity</th>\n",
       "      <th></th>\n",
       "      <th></th>\n",
       "    </tr>\n",
       "  </thead>\n",
       "  <tbody>\n",
       "    <tr>\n",
       "      <th>Asian</th>\n",
       "      <td>12.1</td>\n",
       "      <td>30.0</td>\n",
       "    </tr>\n",
       "    <tr>\n",
       "      <th>Black</th>\n",
       "      <td>10.2</td>\n",
       "      <td>29.2</td>\n",
       "    </tr>\n",
       "    <tr>\n",
       "      <th>Mixed</th>\n",
       "      <td>11.7</td>\n",
       "      <td>32.3</td>\n",
       "    </tr>\n",
       "    <tr>\n",
       "      <th>Other</th>\n",
       "      <td>14.4</td>\n",
       "      <td>34.3</td>\n",
       "    </tr>\n",
       "    <tr>\n",
       "      <th>White</th>\n",
       "      <td>11.6</td>\n",
       "      <td>29.1</td>\n",
       "    </tr>\n",
       "  </tbody>\n",
       "</table>\n",
       "</div>"
      ],
      "text/plain": [
       "              All   4hr\n",
       "S1Ethnicity            \n",
       "Asian        12.1  30.0\n",
       "Black        10.2  29.2\n",
       "Mixed        11.7  32.3\n",
       "Other        14.4  34.3\n",
       "White        11.6  29.1"
      ]
     },
     "execution_count": 14,
     "metadata": {},
     "output_type": "execute_result"
    }
   ],
   "source": [
    "ethnicity"
   ]
  },
  {
   "cell_type": "markdown",
   "id": "ed0e6094",
   "metadata": {},
   "source": [
    "### Age group"
   ]
  },
  {
   "cell_type": "code",
   "execution_count": 15,
   "id": "5d114b64",
   "metadata": {},
   "outputs": [],
   "source": [
    "# All admissions\n",
    "age_group_all = data.groupby('S1AgeOnArrival').mean()['thrombolysis_given']\n",
    "age_group_all.rename('All', inplace=True)\n",
    "\n",
    "# Admissions within 4 hours of arrival\n",
    "age_group_4hr = data_4hr.groupby('S1AgeOnArrival').mean()['thrombolysis_given']\n",
    "age_group_4hr.rename('4hr', inplace=True)\n",
    "\n",
    "# Combine\n",
    "age_group = pd.concat([age_group_all, age_group_4hr], axis=1) * 100\n",
    "age_group = age_group.round(3)\n",
    "\n",
    "# Re-order\n",
    "order = ['[15,20)', '[20,25)', '[25,30)', '[30,35)', '[35,40)',\n",
    "       '[40,45)', '[45,50)', '[50,55)', '[55,60)', '[60,65)', '[65,70)',\n",
    "       '[70,75)', '[75,80)', '[80,85)', '[85,90)', '[90,95)', '[95,100)',\n",
    "        '[100,120]']\n",
    "age_group = age_group.loc[order]\n",
    "age_group.set_index(np.arange(15, 101, 5), inplace=True)"
   ]
  },
  {
   "cell_type": "code",
   "execution_count": 16,
   "id": "a8d7f26a",
   "metadata": {},
   "outputs": [
    {
     "data": {
      "text/html": [
       "<div>\n",
       "<style scoped>\n",
       "    .dataframe tbody tr th:only-of-type {\n",
       "        vertical-align: middle;\n",
       "    }\n",
       "\n",
       "    .dataframe tbody tr th {\n",
       "        vertical-align: top;\n",
       "    }\n",
       "\n",
       "    .dataframe thead th {\n",
       "        text-align: right;\n",
       "    }\n",
       "</style>\n",
       "<table border=\"1\" class=\"dataframe\">\n",
       "  <thead>\n",
       "    <tr style=\"text-align: right;\">\n",
       "      <th></th>\n",
       "      <th>All</th>\n",
       "      <th>4hr</th>\n",
       "    </tr>\n",
       "  </thead>\n",
       "  <tbody>\n",
       "    <tr>\n",
       "      <th>15</th>\n",
       "      <td>17.470</td>\n",
       "      <td>42.029</td>\n",
       "    </tr>\n",
       "    <tr>\n",
       "      <th>20</th>\n",
       "      <td>13.402</td>\n",
       "      <td>33.621</td>\n",
       "    </tr>\n",
       "    <tr>\n",
       "      <th>25</th>\n",
       "      <td>15.371</td>\n",
       "      <td>37.229</td>\n",
       "    </tr>\n",
       "    <tr>\n",
       "      <th>30</th>\n",
       "      <td>14.624</td>\n",
       "      <td>36.164</td>\n",
       "    </tr>\n",
       "    <tr>\n",
       "      <th>35</th>\n",
       "      <td>15.697</td>\n",
       "      <td>36.794</td>\n",
       "    </tr>\n",
       "    <tr>\n",
       "      <th>40</th>\n",
       "      <td>15.274</td>\n",
       "      <td>37.671</td>\n",
       "    </tr>\n",
       "    <tr>\n",
       "      <th>45</th>\n",
       "      <td>14.863</td>\n",
       "      <td>36.277</td>\n",
       "    </tr>\n",
       "    <tr>\n",
       "      <th>50</th>\n",
       "      <td>14.189</td>\n",
       "      <td>36.692</td>\n",
       "    </tr>\n",
       "    <tr>\n",
       "      <th>55</th>\n",
       "      <td>13.091</td>\n",
       "      <td>34.348</td>\n",
       "    </tr>\n",
       "    <tr>\n",
       "      <th>60</th>\n",
       "      <td>12.642</td>\n",
       "      <td>33.238</td>\n",
       "    </tr>\n",
       "    <tr>\n",
       "      <th>65</th>\n",
       "      <td>12.843</td>\n",
       "      <td>32.862</td>\n",
       "    </tr>\n",
       "    <tr>\n",
       "      <th>70</th>\n",
       "      <td>12.999</td>\n",
       "      <td>32.381</td>\n",
       "    </tr>\n",
       "    <tr>\n",
       "      <th>75</th>\n",
       "      <td>12.314</td>\n",
       "      <td>30.396</td>\n",
       "    </tr>\n",
       "    <tr>\n",
       "      <th>80</th>\n",
       "      <td>11.298</td>\n",
       "      <td>28.106</td>\n",
       "    </tr>\n",
       "    <tr>\n",
       "      <th>85</th>\n",
       "      <td>9.958</td>\n",
       "      <td>24.600</td>\n",
       "    </tr>\n",
       "    <tr>\n",
       "      <th>90</th>\n",
       "      <td>8.510</td>\n",
       "      <td>20.752</td>\n",
       "    </tr>\n",
       "    <tr>\n",
       "      <th>95</th>\n",
       "      <td>8.630</td>\n",
       "      <td>20.101</td>\n",
       "    </tr>\n",
       "    <tr>\n",
       "      <th>100</th>\n",
       "      <td>7.929</td>\n",
       "      <td>17.883</td>\n",
       "    </tr>\n",
       "  </tbody>\n",
       "</table>\n",
       "</div>"
      ],
      "text/plain": [
       "        All     4hr\n",
       "15   17.470  42.029\n",
       "20   13.402  33.621\n",
       "25   15.371  37.229\n",
       "30   14.624  36.164\n",
       "35   15.697  36.794\n",
       "40   15.274  37.671\n",
       "45   14.863  36.277\n",
       "50   14.189  36.692\n",
       "55   13.091  34.348\n",
       "60   12.642  33.238\n",
       "65   12.843  32.862\n",
       "70   12.999  32.381\n",
       "75   12.314  30.396\n",
       "80   11.298  28.106\n",
       "85    9.958  24.600\n",
       "90    8.510  20.752\n",
       "95    8.630  20.101\n",
       "100   7.929  17.883"
      ]
     },
     "execution_count": 16,
     "metadata": {},
     "output_type": "execute_result"
    }
   ],
   "source": [
    "age_group"
   ]
  },
  {
   "cell_type": "code",
   "execution_count": 17,
   "id": "f274fb5b",
   "metadata": {},
   "outputs": [
    {
     "data": {
      "image/png": "[encoded data removed]",
      "text/plain": [
       "<Figure size 360x360 with 1 Axes>"
      ]
     },
     "metadata": {
      "needs_background": "light"
     },
     "output_type": "display_data"
    }
   ],
   "source": [
    "# Set up figure\n",
    "fig = plt.figure(figsize=(5,5))\n",
    "ax = fig.add_subplot()\n",
    "x = age_group.index\n",
    "y1 = age_group['All']\n",
    "y2 = age_group['4hr']\n",
    "ax.plot(x, y1, label='All arrivals')\n",
    "ax.plot(x, y2, label='4 Hour arrivals')\n",
    "ax.set_xlabel('Age band (lower bound)')\n",
    "ax.set_ylabel('Thrombolysis use (%)')\n",
    "ax.legend()\n",
    "plt.tight_layout()\n",
    "plt.savefig('output/thrombolysis_use_by_age.jpg', dpi=300)\n",
    "plt.show()"
   ]
  },
  {
   "cell_type": "markdown",
   "id": "95cdd5c3",
   "metadata": {},
   "source": [
    "### Onset known\n",
    "Get fractions for each onset type"
   ]
  },
  {
   "cell_type": "code",
   "execution_count": 18,
   "id": "a8aa52b7",
   "metadata": {},
   "outputs": [
    {
     "data": {
      "text/plain": [
       "S1OnsetTimeType\n",
       "Best estimate    33.7\n",
       "Not known        33.1\n",
       "Precise          33.1\n",
       "Name: StrokeTeam, dtype: float64"
      ]
     },
     "execution_count": 18,
     "metadata": {},
     "output_type": "execute_result"
    }
   ],
   "source": [
    "counts = data.groupby('S1OnsetTimeType').count()['StrokeTeam']\n",
    "fractions = counts/counts.sum() * 100\n",
    "fractions = fractions.round(1)\n",
    "fractions"
   ]
  },
  {
   "cell_type": "code",
   "execution_count": 19,
   "id": "5a08c843",
   "metadata": {},
   "outputs": [],
   "source": [
    "# All admissions\n",
    "onset_known_all = data.groupby('S1OnsetTimeType').mean()['thrombolysis_given']\n",
    "onset_known_all.rename('All', inplace=True)\n",
    "\n",
    "# Admissions within 4 hours of arrival\n",
    "onset_known_4hr = data_4hr.groupby('S1OnsetTimeType').mean()['thrombolysis_given']\n",
    "onset_known_4hr.rename('4hr', inplace=True)\n",
    "\n",
    "# Combine\n",
    "onset_known = pd.concat([onset_known_all, onset_known_4hr], axis=1) * 100\n",
    "onset_known = onset_known.round(1)\n",
    "\n",
    "# Re-order\n",
    "order = ['Not known', 'Best estimate', 'Precise']\n",
    "onset_known = onset_known.loc[order]"
   ]
  },
  {
   "cell_type": "code",
   "execution_count": 20,
   "id": "1fd906a6",
   "metadata": {},
   "outputs": [
    {
     "data": {
      "text/html": [
       "<div>\n",
       "<style scoped>\n",
       "    .dataframe tbody tr th:only-of-type {\n",
       "        vertical-align: middle;\n",
       "    }\n",
       "\n",
       "    .dataframe tbody tr th {\n",
       "        vertical-align: top;\n",
       "    }\n",
       "\n",
       "    .dataframe thead th {\n",
       "        text-align: right;\n",
       "    }\n",
       "</style>\n",
       "<table border=\"1\" class=\"dataframe\">\n",
       "  <thead>\n",
       "    <tr style=\"text-align: right;\">\n",
       "      <th></th>\n",
       "      <th>All</th>\n",
       "      <th>4hr</th>\n",
       "    </tr>\n",
       "    <tr>\n",
       "      <th>S1OnsetTimeType</th>\n",
       "      <th></th>\n",
       "      <th></th>\n",
       "    </tr>\n",
       "  </thead>\n",
       "  <tbody>\n",
       "    <tr>\n",
       "      <th>Not known</th>\n",
       "      <td>0.4</td>\n",
       "      <td>NaN</td>\n",
       "    </tr>\n",
       "    <tr>\n",
       "      <th>Best estimate</th>\n",
       "      <td>6.3</td>\n",
       "      <td>14.0</td>\n",
       "    </tr>\n",
       "    <tr>\n",
       "      <th>Precise</th>\n",
       "      <td>28.8</td>\n",
       "      <td>39.0</td>\n",
       "    </tr>\n",
       "  </tbody>\n",
       "</table>\n",
       "</div>"
      ],
      "text/plain": [
       "                  All   4hr\n",
       "S1OnsetTimeType            \n",
       "Not known         0.4   NaN\n",
       "Best estimate     6.3  14.0\n",
       "Precise          28.8  39.0"
      ]
     },
     "execution_count": 20,
     "metadata": {},
     "output_type": "execute_result"
    }
   ],
   "source": [
    "onset_known"
   ]
  },
  {
   "cell_type": "markdown",
   "id": "a1e82c70",
   "metadata": {},
   "source": [
    "### Arrival by ambulance"
   ]
  },
  {
   "cell_type": "code",
   "execution_count": 21,
   "id": "faa1116b",
   "metadata": {},
   "outputs": [
    {
     "name": "stdout",
     "output_type": "stream",
     "text": [
      "Percent arriving by ambulance: 81.4\n"
     ]
    }
   ],
   "source": [
    "arrive_by_ambo = np.mean(data['S1ArriveByAmbulance'] == 'Yes') * 100\n",
    "print (f'Percent arriving by ambulance: {arrive_by_ambo:0.1f}')"
   ]
  },
  {
   "cell_type": "code",
   "execution_count": 22,
   "id": "e1562bed",
   "metadata": {},
   "outputs": [],
   "source": [
    "# All admissions\n",
    "ambulance_all = data.groupby('S1ArriveByAmbulance').mean()['thrombolysis_given']\n",
    "ambulance_all.rename('All', inplace=True)\n",
    "\n",
    "# Admissions within 4 hours of arrival\n",
    "ambulance_4hr = data_4hr.groupby('S1ArriveByAmbulance').mean()['thrombolysis_given']\n",
    "ambulance_4hr.rename('4hr', inplace=True)\n",
    "\n",
    "# Combine\n",
    "ambulance = pd.concat([ambulance_all, ambulance_4hr], axis=1) * 100\n",
    "ambulance = ambulance.round(1)"
   ]
  },
  {
   "cell_type": "code",
   "execution_count": 23,
   "id": "864c88e0",
   "metadata": {},
   "outputs": [
    {
     "data": {
      "text/html": [
       "<div>\n",
       "<style scoped>\n",
       "    .dataframe tbody tr th:only-of-type {\n",
       "        vertical-align: middle;\n",
       "    }\n",
       "\n",
       "    .dataframe tbody tr th {\n",
       "        vertical-align: top;\n",
       "    }\n",
       "\n",
       "    .dataframe thead th {\n",
       "        text-align: right;\n",
       "    }\n",
       "</style>\n",
       "<table border=\"1\" class=\"dataframe\">\n",
       "  <thead>\n",
       "    <tr style=\"text-align: right;\">\n",
       "      <th></th>\n",
       "      <th>All</th>\n",
       "      <th>4hr</th>\n",
       "    </tr>\n",
       "    <tr>\n",
       "      <th>S1ArriveByAmbulance</th>\n",
       "      <th></th>\n",
       "      <th></th>\n",
       "    </tr>\n",
       "  </thead>\n",
       "  <tbody>\n",
       "    <tr>\n",
       "      <th>No</th>\n",
       "      <td>3.8</td>\n",
       "      <td>21.4</td>\n",
       "    </tr>\n",
       "    <tr>\n",
       "      <th>Yes</th>\n",
       "      <td>13.7</td>\n",
       "      <td>30.3</td>\n",
       "    </tr>\n",
       "  </tbody>\n",
       "</table>\n",
       "</div>"
      ],
      "text/plain": [
       "                      All   4hr\n",
       "S1ArriveByAmbulance            \n",
       "No                    3.8  21.4\n",
       "Yes                  13.7  30.3"
      ]
     },
     "execution_count": 23,
     "metadata": {},
     "output_type": "execute_result"
    }
   ],
   "source": [
    "ambulance"
   ]
  },
  {
   "cell_type": "markdown",
   "id": "fff52bc6",
   "metadata": {},
   "source": [
    "### Thrombolysis use by comorbidities\n",
    "\n",
    "Only examine effect of comorbidity on thrombolysis use of those arriving within 4 hours of known onset.\n",
    "\n",
    "Analyse by comorbidity 'Yes' or 'No'. Ignore 'No but'."
   ]
  },
  {
   "cell_type": "code",
   "execution_count": 24,
   "id": "626e6139",
   "metadata": {},
   "outputs": [],
   "source": [
    "comords = ['CongestiveHeartFailure', 'Hypertension', 'AtrialFibrillation', \n",
    "           'Diabetes', 'StrokeTIA', 'AFAntiplatelet', 'AFAnticoagulent', \n",
    "           'AFAnticoagulentVitK', 'AFAnticoagulentDOAC', \n",
    "           'AFAnticoagulentHeparin']\n",
    "\n",
    "# Loop through comorbidities and get results\n",
    "results = []\n",
    "for comord in comords: \n",
    "    result = data_4hr.groupby(comord).mean()['thrombolysis_given']\n",
    "    results.append({'No': result['No'] * 100, \n",
    "                    'Yes': result['Yes'] * 100})\n",
    "    \n",
    "comord_df = pd.DataFrame(results, index=comords)\n",
    "comord_df['Ratio'] = comord_df['Yes'] / comord_df['No']\n",
    "comord_df = comord_df.round(3)"
   ]
  },
  {
   "cell_type": "code",
   "execution_count": 25,
   "id": "08c773d8",
   "metadata": {},
   "outputs": [
    {
     "data": {
      "text/html": [
       "<div>\n",
       "<style scoped>\n",
       "    .dataframe tbody tr th:only-of-type {\n",
       "        vertical-align: middle;\n",
       "    }\n",
       "\n",
       "    .dataframe tbody tr th {\n",
       "        vertical-align: top;\n",
       "    }\n",
       "\n",
       "    .dataframe thead th {\n",
       "        text-align: right;\n",
       "    }\n",
       "</style>\n",
       "<table border=\"1\" class=\"dataframe\">\n",
       "  <thead>\n",
       "    <tr style=\"text-align: right;\">\n",
       "      <th></th>\n",
       "      <th>No</th>\n",
       "      <th>Yes</th>\n",
       "      <th>Ratio</th>\n",
       "    </tr>\n",
       "  </thead>\n",
       "  <tbody>\n",
       "    <tr>\n",
       "      <th>CongestiveHeartFailure</th>\n",
       "      <td>29.709</td>\n",
       "      <td>26.081</td>\n",
       "      <td>0.878</td>\n",
       "    </tr>\n",
       "    <tr>\n",
       "      <th>Hypertension</th>\n",
       "      <td>30.331</td>\n",
       "      <td>28.826</td>\n",
       "      <td>0.950</td>\n",
       "    </tr>\n",
       "    <tr>\n",
       "      <th>AtrialFibrillation</th>\n",
       "      <td>32.034</td>\n",
       "      <td>19.931</td>\n",
       "      <td>0.622</td>\n",
       "    </tr>\n",
       "    <tr>\n",
       "      <th>Diabetes</th>\n",
       "      <td>30.066</td>\n",
       "      <td>27.241</td>\n",
       "      <td>0.906</td>\n",
       "    </tr>\n",
       "    <tr>\n",
       "      <th>StrokeTIA</th>\n",
       "      <td>32.151</td>\n",
       "      <td>22.506</td>\n",
       "      <td>0.700</td>\n",
       "    </tr>\n",
       "    <tr>\n",
       "      <th>AFAntiplatelet</th>\n",
       "      <td>18.455</td>\n",
       "      <td>28.757</td>\n",
       "      <td>1.558</td>\n",
       "    </tr>\n",
       "    <tr>\n",
       "      <th>AFAnticoagulent</th>\n",
       "      <td>34.253</td>\n",
       "      <td>8.976</td>\n",
       "      <td>0.262</td>\n",
       "    </tr>\n",
       "    <tr>\n",
       "      <th>AFAnticoagulentVitK</th>\n",
       "      <td>31.009</td>\n",
       "      <td>11.942</td>\n",
       "      <td>0.385</td>\n",
       "    </tr>\n",
       "    <tr>\n",
       "      <th>AFAnticoagulentDOAC</th>\n",
       "      <td>32.254</td>\n",
       "      <td>5.677</td>\n",
       "      <td>0.176</td>\n",
       "    </tr>\n",
       "    <tr>\n",
       "      <th>AFAnticoagulentHeparin</th>\n",
       "      <td>30.068</td>\n",
       "      <td>7.576</td>\n",
       "      <td>0.252</td>\n",
       "    </tr>\n",
       "  </tbody>\n",
       "</table>\n",
       "</div>"
      ],
      "text/plain": [
       "                            No     Yes  Ratio\n",
       "CongestiveHeartFailure  29.709  26.081  0.878\n",
       "Hypertension            30.331  28.826  0.950\n",
       "AtrialFibrillation      32.034  19.931  0.622\n",
       "Diabetes                30.066  27.241  0.906\n",
       "StrokeTIA               32.151  22.506  0.700\n",
       "AFAntiplatelet          18.455  28.757  1.558\n",
       "AFAnticoagulent         34.253   8.976  0.262\n",
       "AFAnticoagulentVitK     31.009  11.942  0.385\n",
       "AFAnticoagulentDOAC     32.254   5.677  0.176\n",
       "AFAnticoagulentHeparin  30.068   7.576  0.252"
      ]
     },
     "execution_count": 25,
     "metadata": {},
     "output_type": "execute_result"
    }
   ],
   "source": [
    "comord_df"
   ]
  },
  {
   "cell_type": "code",
   "execution_count": 26,
   "id": "5818a4bc",
   "metadata": {},
   "outputs": [
    {
     "data": {
      "image/png": "[encoded data removed]",
      "text/plain": [
       "<Figure size 576x360 with 1 Axes>"
      ]
     },
     "metadata": {
      "needs_background": "light"
     },
     "output_type": "display_data"
    }
   ],
   "source": [
    "# Set up figure\n",
    "fig = plt.figure(figsize=(8,5))\n",
    "ax = fig.add_subplot()\n",
    "x = comord_df.index\n",
    "y = comord_df['Ratio']\n",
    "\n",
    "ax.barh(x, y)\n",
    "ax.set_xlabel(\n",
    "    'Ratio of thrombolysis use\\n(co-morbidity present / comorbidity absent)')\n",
    "ax.set_ylabel('Comorbidity')\n",
    "ax.grid(axis='x')\n",
    "\n",
    "plt.tight_layout()\n",
    "plt.savefig('output/thrombolysis_use_by_comorbidity.jpg', dpi=300)\n",
    "plt.show()"
   ]
  },
  {
   "cell_type": "markdown",
   "id": "dafd938c",
   "metadata": {},
   "source": [
    "## Reasons for not giving thrombolysis\n",
    "\n",
    "Reasons given for not using thrombolysis (more than one may be ticked for each patient).\n",
    "\n",
    "Only examine reasons for those arriving within 4 hours of known onset.\n"
   ]
  },
  {
   "cell_type": "code",
   "execution_count": 27,
   "id": "8ddd729e",
   "metadata": {},
   "outputs": [
    {
     "data": {
      "text/plain": [
       "Refusal               0.9\n",
       "Age                   1.2\n",
       "TimeWindow            7.1\n",
       "Medication            7.7\n",
       "Comorbidity           9.9\n",
       "OtherMedical         15.2\n",
       "TimeUnknownWakeUp    17.5\n",
       "Improving            17.8\n",
       "Haemorrhagic         21.7\n",
       "TooMildSevere        22.0\n",
       "dtype: float64"
      ]
     },
     "execution_count": 27,
     "metadata": {},
     "output_type": "execute_result"
    }
   ],
   "source": [
    "reasons = ['Haemorrhagic', 'TimeWindow', 'Comorbidity', 'Medication', 'Refusal',\n",
    "           'Age', 'Improving', 'TooMildSevere', 'TimeUnknownWakeUp', \n",
    "           'OtherMedical']\n",
    "\n",
    "# Restrict data to non-thrombolysed patients\n",
    "mask = data_4hr['thrombolysis_given'] == False\n",
    "no_thromolysis_4hr = data_4hr[mask]\n",
    "# Convert Yes/No in reasons to boolean\n",
    "reasons_boolean = no_thromolysis_4hr[reasons] == 'Yes'\n",
    "# Get average of 'Yes' values as percentage\n",
    "reasons = reasons_boolean.mean() * 100\n",
    "reasons = reasons.round(1)\n",
    "# Sort by value\n",
    "reasons.sort_values(ascending=True, inplace=True)\n",
    "\n",
    "reasons"
   ]
  },
  {
   "cell_type": "code",
   "execution_count": 28,
   "id": "ee574041",
   "metadata": {},
   "outputs": [
    {
     "data": {
      "image/png": "[encoded data removed]",
      "text/plain": [
       "<Figure size 576x360 with 1 Axes>"
      ]
     },
     "metadata": {
      "needs_background": "light"
     },
     "output_type": "display_data"
    }
   ],
   "source": [
    "# Set up figure\n",
    "fig = plt.figure(figsize=(8,5))\n",
    "ax = fig.add_subplot()\n",
    "x = reasons.index\n",
    "y = reasons.values\n",
    "\n",
    "ax.barh(x, y)\n",
    "ax.set_xlabel('Presence of reason for no thrombolysis (%)')\n",
    "ax.set_ylabel('Reason for no thrombolysis')\n",
    "ax.grid(axis='x')\n",
    "\n",
    "plt.tight_layout()\n",
    "plt.savefig('output/thrombolysis_non_use_reasons.jpg', dpi=300)\n",
    "plt.show()"
   ]
  },
  {
   "cell_type": "markdown",
   "id": "9c394cb9",
   "metadata": {},
   "source": [
    "## Observations\n",
    "\n",
    "* *Disability before stroke:* The higher the level of disability before stroke (as described by the modified Rankin Scale) the lower the use of thrombolysis. As a percentage of all out-of-hospital onset arrivals, thrombolysis use drops from 14.2% in those with no disability before stroke to 4.3% of those with a modified Rankin Scale of 5. As a percentage of out-of-hospital onset arrivals arriving within 4 hours of known stroke onset,  thrombolysis use drops from 34.9% in those with no disability before stroke to 9.8% of those with a modified Rankin Scale of 5.\n",
    "\n",
    "* *Stroke severity:* The use of thrombolysis varies very significantly with stroke severity (NIHSS) on arrival (Figure 2). Thrombolysis use is very low at extreme NIHSS, withy a plateau of use between NIHSS of approximately 6 to 25.\n",
    "\n",
    "* *Gender:* There is a small association between gender on use of thrombolysis. 12.3% of all male arrivals receive thrombolysis, compared with 11.3% for females. Of those arriving within 4 hours of known stroke onset 30.8% of all male arrivals receive thrombolysis, compared with 28.2% for females.\n",
    "\n",
    "* *Ethnicity*: There is some association between ethnicity on thrombolysis use in all arrivals, with black people having the lowest use of thrombolysis (10.2% vs 11.6% - 12.1% for white, asian and mixed race people), but little variation in use of thrombolysis in those arriving within 4 hours of known stroke onset, suggesting the cause of  lower use of thrombolysis is likely to be the lower proportion of black people arriving at hospital within 4 hours of known stroke onset.\n",
    "\n",
    "* *Age:* Thrombolysis use declines with age. For ages 25-55, thrombolysis use is about 15% of all arrivals and 35% of those arriving within 4 hours of known stroke onset. Above this age there is a decline in use, for example in the age band 85-89, use is about 10% of all arrivals and 25% of those arriving within 4 hours of known stroke onset\n",
    "\n",
    "* *Knowledge of time of onset:* Knowledge of onset is split almost evenly (33% to 34% each) for ‘not known’, ‘best estimate’, and ‘precise’. Type of knowledge of stroke onset shoes a significant association with use of thrombolysis. Of those arriving within 4 hours of known onset, 39.0% receive thrombolysis if the time is recorded as being known precisely, compared with 14.0% receiving thrombolysis if the time is a best estimate.\n",
    "\n",
    "* *Arrival by ambulance:* 8.4% of arrivals are by ambulance. There is a significant effect arrival model on use of thrombolysis. For all arrivals, use of thrombolysis is 13.7% for arrivals by ambulance, and 3.8% for other arrivals. \n",
    "\n",
    "* *Presence of co-morbidities*: The presence or absence of co-co-morbidities can be a strong indicator of the use of thrombolysis. For example those on anticoagulant therapies receive thrombolysis less than those who do not, but those on anti-platelet therapies receive it more.\n",
    "\n",
    "* *Stated reasons for not giving thrombolysis:*: Haemorrhagic stroke or a stroke that is too mild/sever are the most common causes (each present in 22% of those not treated). An improving condition is given as the reason for no treatment in 17% of non-treated patients. It is noteworthy that patient refusal is given as a reason for non-treatment in only 0.9% of untreated patients\n",
    "\n"
   ]
  }
 ],
 "metadata": {
  "kernelspec": {
   "display_name": "Python 3 (ipykernel)",
   "language": "python",
   "name": "python3"
  },
  "language_info": {
   "codemirror_mode": {
    "name": "ipython",
    "version": 3
   },
   "file_extension": ".py",
   "mimetype": "text/x-python",
   "name": "python",
   "nbconvert_exporter": "python",
   "pygments_lexer": "ipython3",
   "version": "3.8.2"
  }
 },
 "nbformat": 4,
 "nbformat_minor": 5
}
