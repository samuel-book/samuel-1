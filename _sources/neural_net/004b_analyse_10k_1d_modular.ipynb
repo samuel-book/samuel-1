{
 "cells": [
  {
   "cell_type": "markdown",
   "id": "9974d7b3",
   "metadata": {},
   "source": [
    "# Investigating the output of neural net embedding subnets\n",
    "\n",
    "## Aims\n",
    "\n",
    "* To investigate the output of the hospital and clinical subnets of the embedding neural network.\n",
    "\n",
    "* To examine the link between hospital subnet output and use of thrombolysis in hospitals - both the actual thrombolysis use, and the predicted thrombolysis use of a 10k set of patients passed through all hopsital moodels.\n",
    "\n",
    "* To examine the link between the patient clinical feature subnet output and the use of thrombolysis, and the link between patient features and the clinical feature subnet output\n",
    "\n",
    "## Neural Network structure\n",
    "\n",
    "The model contains three subnets that take portions of the data. The output of these subnets is an n-dimensional vector. In this case the output is a 1D vector, that is each subnet is reduced to a single value output. The subnets created are for:\n",
    "\n",
    "1. *Patient clinical data*: Age, gender, ethnicity, disability before stroke, stroke scale data. Pass through one hidden layer (with 2x neurons as input features) and then to single neuron with sigmoid activation.\n",
    "\n",
    "2. *Pathway process data*: Times of arrival and scan, time of day, day of week. Pass through one hidden layer (with 2x neurons as input features) and then to single neuron with sigmoid activation.\n",
    "\n",
    "3. *Hospital ID* (one-hot encoded): Connect input directly to single neuron with sigmoid activation.\n",
    "\n",
    "The outputs of the three subnet outputs are then passed to a single neurone with sigmoid activation for final output.\n",
    "\n",
    "![](./images/subnets_1.png)\n",
    "\n",
    "## Fitting of model\n",
    "\n",
    "The model has been pretrained (see the notebook *Modular TensorFlow model with 1D embedding - Train and save model for 10k patient subset*)"
   ]
  },
  {
   "cell_type": "markdown",
   "id": "bbd805ab",
   "metadata": {},
   "source": [
    "## Load libraries"
   ]
  },
  {
   "cell_type": "code",
   "execution_count": 1,
   "id": "fd9f3550",
   "metadata": {},
   "outputs": [],
   "source": [
    "# Turn warnings off to keep notebook tidy\n",
    "import warnings\n",
    "warnings.filterwarnings(\"ignore\")\n",
    "\n",
    "import matplotlib.pyplot as plt\n",
    "import numpy as np\n",
    "import pandas as pd\n",
    "\n",
    "# sklearn for pre-processing\n",
    "from sklearn.preprocessing import MinMaxScaler\n",
    "\n",
    "# TensorFlow api model\n",
    "from tensorflow import keras\n",
    "from tensorflow.keras import layers\n",
    "from tensorflow.keras.models import Model\n",
    "from tensorflow.keras.optimizers import Adam\n",
    "from tensorflow.keras import backend as K\n",
    "from tensorflow.keras.losses import binary_crossentropy"
   ]
  },
  {
   "cell_type": "markdown",
   "id": "6db51efe",
   "metadata": {},
   "source": [
    "## Define function to scale data\n",
    "\n",
    "Scale input data 0-1 (MinMax scaling)."
   ]
  },
  {
   "cell_type": "code",
   "execution_count": 2,
   "id": "d826d296",
   "metadata": {},
   "outputs": [],
   "source": [
    "def scale_data(X_train, X_test):\n",
    "    \"\"\"Scale data 0-1 based on min and max in training set\"\"\"\n",
    "    \n",
    "    # Initialise a new scaling object for normalising input data\n",
    "    sc = MinMaxScaler()\n",
    "\n",
    "    # Set up the scaler just on the training set\n",
    "    sc.fit(X_train)\n",
    "\n",
    "    # Apply the scaler to the training and test sets\n",
    "    train_sc = sc.transform(X_train)\n",
    "    test_sc = sc.transform(X_test)\n",
    "    \n",
    "    return train_sc, test_sc"
   ]
  },
  {
   "cell_type": "markdown",
   "id": "7c61acaa",
   "metadata": {},
   "source": [
    "## Get model outputs for test data\n",
    "\n",
    "Get prediction probabilities for the test 10k training set. Training data is used only to scale test set X values.\n",
    "\n",
    "This prediction run is used to check model, and get accuracy."
   ]
  },
  {
   "cell_type": "code",
   "execution_count": 3,
   "id": "0d8e1498",
   "metadata": {},
   "outputs": [
    {
     "name": "stdout",
     "output_type": "stream",
     "text": [
      "Accuracy test 0.849\n"
     ]
    }
   ],
   "source": [
    "# Load data\n",
    "train = pd.read_csv(f'../data/10k_training_test/cohort_10000_train.csv')\n",
    "test = pd.read_csv(f'../data/10k_training_test/cohort_10000_test.csv')\n",
    "\n",
    "# Get data subgroups\n",
    "subgroups = pd.read_csv('../data/subnet.csv', index_col='Item')\n",
    "# Get list of clinical items\n",
    "clinical_subgroup = subgroups.loc[subgroups['Subnet']=='clinical']\n",
    "clinical_subgroup = list(clinical_subgroup.index)\n",
    "# Get list of pathway items\n",
    "pathway_subgroup = subgroups.loc[subgroups['Subnet']=='pathway']\n",
    "pathway_subgroup = list(pathway_subgroup.index)\n",
    "# Get list of hospital items\n",
    "hospital_subgroup = subgroups.loc[subgroups['Subnet']=='hospital']\n",
    "hospital_subgroup = list(hospital_subgroup.index)\n",
    "\n",
    "# OneHot encode stroke team\n",
    "coded = pd.get_dummies(train['StrokeTeam'])\n",
    "train = pd.concat([train, coded], axis=1)\n",
    "train.drop('StrokeTeam', inplace=True, axis=1)\n",
    "coded = pd.get_dummies(test['StrokeTeam'])\n",
    "test = pd.concat([test, coded], axis=1)\n",
    "test.drop('StrokeTeam', inplace=True, axis=1)\n",
    "\n",
    "# Split into X, y\n",
    "X_train_df = train.drop('S2Thrombolysis',axis=1) \n",
    "y_train_df = train['S2Thrombolysis']\n",
    "X_test_df = test.drop('S2Thrombolysis',axis=1) \n",
    "y_test_df = test['S2Thrombolysis'] \n",
    "\n",
    "# Split train and test data by subgroups\n",
    "X_train_patients = X_train_df[clinical_subgroup]\n",
    "X_test_patients = X_test_df[clinical_subgroup]\n",
    "X_train_pathway = X_train_df[pathway_subgroup]\n",
    "X_test_pathway = X_test_df[pathway_subgroup]\n",
    "X_train_hospitals = X_train_df[hospital_subgroup]\n",
    "X_test_hospitals = X_test_df[hospital_subgroup]\n",
    "\n",
    "# Convert to NumPy\n",
    "X_train = X_train_df.values\n",
    "X_test = X_test_df.values\n",
    "y_train = y_train_df.values\n",
    "y_test = y_test_df.values\n",
    "\n",
    "# Scale data\n",
    "X_train_patients_sc, X_test_patients_sc = \\\n",
    "    scale_data(X_train_patients, X_test_patients)\n",
    "\n",
    "X_train_pathway_sc, X_test_pathway_sc = \\\n",
    "    scale_data(X_train_pathway, X_test_pathway)\n",
    "\n",
    "X_train_hospitals_sc, X_test_hospitals_sc = \\\n",
    "    scale_data(X_train_hospitals, X_test_hospitals)\n",
    "\n",
    "# Load model\n",
    "path = './saved_models/1d_for_10k/'\n",
    "filename = f'{path}model.h5'\n",
    "model = keras.models.load_model(filename)\n",
    "\n",
    "# Test model\n",
    "probability = model.predict(\n",
    "    [X_test_patients_sc, X_test_pathway_sc, X_test_hospitals_sc])\n",
    "y_pred_test = probability >= 0.5\n",
    "y_pred_test = y_pred_test.flatten()\n",
    "accuracy_test = np.mean(y_pred_test == y_test)\n",
    "print(f'Accuracy test {accuracy_test:0.3f}')"
   ]
  },
  {
   "cell_type": "markdown",
   "id": "4dc61646",
   "metadata": {},
   "source": [
    "## Get predictions for thrombolysis use of 10k set of patients at each hospital\n",
    "\n",
    "Here we ask the counter-factual question - \"what treatment would a patient be expected to receive at each of the 132 hospitals?\".\n",
    "\n",
    "Hospial is one-hot encoded as input to the hospital subnet. To make a prediction of treatment at different hospitals we change the one-hot encoding of the hospital when making prediction.\n",
    "\n",
    "For each hospital we pass through the 10k test set, and record the proportion of the patients receiving thrombolysis at that hospital."
   ]
  },
  {
   "cell_type": "code",
   "execution_count": 4,
   "id": "d0c48ebd",
   "metadata": {},
   "outputs": [
    {
     "data": {
      "text/html": [
       "<div>\n",
       "<style scoped>\n",
       "    .dataframe tbody tr th:only-of-type {\n",
       "        vertical-align: middle;\n",
       "    }\n",
       "\n",
       "    .dataframe tbody tr th {\n",
       "        vertical-align: top;\n",
       "    }\n",
       "\n",
       "    .dataframe thead th {\n",
       "        text-align: right;\n",
       "    }\n",
       "</style>\n",
       "<table border=\"1\" class=\"dataframe\">\n",
       "  <thead>\n",
       "    <tr style=\"text-align: right;\">\n",
       "      <th></th>\n",
       "      <th>hospital</th>\n",
       "      <th>10k_thrombolysis</th>\n",
       "    </tr>\n",
       "  </thead>\n",
       "  <tbody>\n",
       "    <tr>\n",
       "      <th>0</th>\n",
       "      <td>AGNOF1041H</td>\n",
       "      <td>0.2684</td>\n",
       "    </tr>\n",
       "    <tr>\n",
       "      <th>1</th>\n",
       "      <td>AKCGO9726K</td>\n",
       "      <td>0.3893</td>\n",
       "    </tr>\n",
       "    <tr>\n",
       "      <th>2</th>\n",
       "      <td>AOBTM3098N</td>\n",
       "      <td>0.2130</td>\n",
       "    </tr>\n",
       "    <tr>\n",
       "      <th>3</th>\n",
       "      <td>APXEE8191H</td>\n",
       "      <td>0.2734</td>\n",
       "    </tr>\n",
       "    <tr>\n",
       "      <th>4</th>\n",
       "      <td>ATDID5461S</td>\n",
       "      <td>0.2557</td>\n",
       "    </tr>\n",
       "    <tr>\n",
       "      <th>...</th>\n",
       "      <td>...</td>\n",
       "      <td>...</td>\n",
       "    </tr>\n",
       "    <tr>\n",
       "      <th>127</th>\n",
       "      <td>YPKYH1768F</td>\n",
       "      <td>0.2473</td>\n",
       "    </tr>\n",
       "    <tr>\n",
       "      <th>128</th>\n",
       "      <td>YQMZV4284N</td>\n",
       "      <td>0.3347</td>\n",
       "    </tr>\n",
       "    <tr>\n",
       "      <th>129</th>\n",
       "      <td>ZBVSO0975W</td>\n",
       "      <td>0.2076</td>\n",
       "    </tr>\n",
       "    <tr>\n",
       "      <th>130</th>\n",
       "      <td>ZHCLE1578P</td>\n",
       "      <td>0.2862</td>\n",
       "    </tr>\n",
       "    <tr>\n",
       "      <th>131</th>\n",
       "      <td>ZRRCV7012C</td>\n",
       "      <td>0.1538</td>\n",
       "    </tr>\n",
       "  </tbody>\n",
       "</table>\n",
       "<p>132 rows × 2 columns</p>\n",
       "</div>"
      ],
      "text/plain": [
       "       hospital  10k_thrombolysis\n",
       "0    AGNOF1041H            0.2684\n",
       "1    AKCGO9726K            0.3893\n",
       "2    AOBTM3098N            0.2130\n",
       "3    APXEE8191H            0.2734\n",
       "4    ATDID5461S            0.2557\n",
       "..          ...               ...\n",
       "127  YPKYH1768F            0.2473\n",
       "128  YQMZV4284N            0.3347\n",
       "129  ZBVSO0975W            0.2076\n",
       "130  ZHCLE1578P            0.2862\n",
       "131  ZRRCV7012C            0.1538\n",
       "\n",
       "[132 rows x 2 columns]"
      ]
     },
     "execution_count": 4,
     "metadata": {},
     "output_type": "execute_result"
    }
   ],
   "source": [
    "# Get number of hospitals\n",
    "num_hospitals = len(X_test_hospitals_sc[0])\n",
    "# Create test array for changing hospital ID\n",
    "X_hospitals_alter = X_test_hospitals_sc.copy()\n",
    "\n",
    "# Loop through setting hospital\n",
    "hospital_results = []\n",
    "for hosp in range(num_hospitals):\n",
    "    # Set all hospitals to zero\n",
    "    X_hospitals_alter[:,:] = 0\n",
    "    # Set test hospital to 1\n",
    "    X_hospitals_alter[:,hosp] = 1\n",
    "    # Get probability of thrombolysis\n",
    "    probability = model.predict(\n",
    "        [X_test_patients_sc, X_test_pathway_sc, X_hospitals_alter])\n",
    "    # Classify\n",
    "    classified = probability >= 0.5\n",
    "    # Get average thrombolysis (we are not stroring all individual results)\n",
    "    thrombolysis = classified.mean()\n",
    "    hospital_results.append(thrombolysis)\n",
    "\n",
    "# Put results in DataFrame \n",
    "predicted_thrombolysis = pd.DataFrame()\n",
    "predicted_thrombolysis['hospital'] = hospital_subgroup\n",
    "predicted_thrombolysis['10k_thrombolysis'] = hospital_results\n",
    "\n",
    "# Show DataFrame\n",
    "predicted_thrombolysis"
   ]
  },
  {
   "cell_type": "markdown",
   "id": "a256a106",
   "metadata": {},
   "source": [
    "## Comparing hospital subnet activation with actual thrombolysis use and predicted thrombolysis use in 10k set of patients attending each hospital\n",
    "\n",
    "The hospital subnet outputs a single value (in the range 0-1) for each hospital.\n",
    "\n",
    "Here we compare the hospital subnet output for each hospital with:\n",
    "\n",
    "1. The actual use of thrombolysis for 10k test-set patients at their own hospital only.\n",
    "\n",
    "2. The expected use of thrombolysis in the 10k test-set for each hospital. The 10k patient data set is passed through all hospital models (by changing the one-hot hospital encoding)."
   ]
  },
  {
   "cell_type": "markdown",
   "id": "89aa639a",
   "metadata": {},
   "source": [
    "### Get hospital subnet output\n",
    "\n",
    "This code gets the output directly from the hospital subnet in the neural network. We add this to our results DataFrame."
   ]
  },
  {
   "cell_type": "code",
   "execution_count": 5,
   "id": "aea7b808",
   "metadata": {},
   "outputs": [],
   "source": [
    "results = []\n",
    "for hosp in range(num_hospitals):\n",
    "    # Set all hospitals to zero\n",
    "    X_hospitals_alter[:,:] = 0\n",
    "    # Set test hospital to 1\n",
    "    X_hospitals_alter[:,hosp] = 1\n",
    "    # Get hospital subnet output\n",
    "    layer_name = 'hospital_encode'\n",
    "    hospital_encode_model = keras.Model(\n",
    "        inputs=model.input,outputs=model.get_layer(layer_name).output)\n",
    "    hospital_encode_output = hospital_encode_model([\n",
    "        X_test_patients_sc, X_test_pathway_sc, X_hospitals_alter])\n",
    "    results.append(np.mean(hospital_encode_output.numpy().flatten()))\n",
    "    \n",
    "# Add to DataFrame\n",
    "predicted_thrombolysis['hosp_subnet_output'] = results"
   ]
  },
  {
   "cell_type": "markdown",
   "id": "954ff8ad",
   "metadata": {},
   "source": [
    "### Add actual thrombolysis at hospitals in 10k test set"
   ]
  },
  {
   "cell_type": "code",
   "execution_count": 6,
   "id": "a49248a0",
   "metadata": {},
   "outputs": [],
   "source": [
    "test = pd.read_csv(f'../data/10k_training_test/cohort_10000_test.csv')\n",
    "actual_thrombolysis = test.groupby('StrokeTeam').mean()['S2Thrombolysis']\n",
    "# Add to DataFrame\n",
    "predicted_thrombolysis['actual_thrombolysis'] = actual_thrombolysis.values"
   ]
  },
  {
   "cell_type": "code",
   "execution_count": 7,
   "id": "13c8654d",
   "metadata": {},
   "outputs": [
    {
     "data": {
      "text/html": [
       "<div>\n",
       "<style scoped>\n",
       "    .dataframe tbody tr th:only-of-type {\n",
       "        vertical-align: middle;\n",
       "    }\n",
       "\n",
       "    .dataframe tbody tr th {\n",
       "        vertical-align: top;\n",
       "    }\n",
       "\n",
       "    .dataframe thead th {\n",
       "        text-align: right;\n",
       "    }\n",
       "</style>\n",
       "<table border=\"1\" class=\"dataframe\">\n",
       "  <thead>\n",
       "    <tr style=\"text-align: right;\">\n",
       "      <th></th>\n",
       "      <th>hospital</th>\n",
       "      <th>10k_thrombolysis</th>\n",
       "      <th>hosp_subnet_output</th>\n",
       "      <th>actual_thrombolysis</th>\n",
       "    </tr>\n",
       "  </thead>\n",
       "  <tbody>\n",
       "    <tr>\n",
       "      <th>0</th>\n",
       "      <td>AGNOF1041H</td>\n",
       "      <td>0.2684</td>\n",
       "      <td>0.824581</td>\n",
       "      <td>0.353535</td>\n",
       "    </tr>\n",
       "    <tr>\n",
       "      <th>1</th>\n",
       "      <td>AKCGO9726K</td>\n",
       "      <td>0.3893</td>\n",
       "      <td>0.600438</td>\n",
       "      <td>0.368750</td>\n",
       "    </tr>\n",
       "    <tr>\n",
       "      <th>2</th>\n",
       "      <td>AOBTM3098N</td>\n",
       "      <td>0.2130</td>\n",
       "      <td>0.909647</td>\n",
       "      <td>0.215385</td>\n",
       "    </tr>\n",
       "    <tr>\n",
       "      <th>3</th>\n",
       "      <td>APXEE8191H</td>\n",
       "      <td>0.2734</td>\n",
       "      <td>0.817232</td>\n",
       "      <td>0.230769</td>\n",
       "    </tr>\n",
       "    <tr>\n",
       "      <th>4</th>\n",
       "      <td>ATDID5461S</td>\n",
       "      <td>0.2557</td>\n",
       "      <td>0.843878</td>\n",
       "      <td>0.228571</td>\n",
       "    </tr>\n",
       "    <tr>\n",
       "      <th>...</th>\n",
       "      <td>...</td>\n",
       "      <td>...</td>\n",
       "      <td>...</td>\n",
       "      <td>...</td>\n",
       "    </tr>\n",
       "    <tr>\n",
       "      <th>127</th>\n",
       "      <td>YPKYH1768F</td>\n",
       "      <td>0.2473</td>\n",
       "      <td>0.857318</td>\n",
       "      <td>0.250000</td>\n",
       "    </tr>\n",
       "    <tr>\n",
       "      <th>128</th>\n",
       "      <td>YQMZV4284N</td>\n",
       "      <td>0.3347</td>\n",
       "      <td>0.712575</td>\n",
       "      <td>0.230769</td>\n",
       "    </tr>\n",
       "    <tr>\n",
       "      <th>129</th>\n",
       "      <td>ZBVSO0975W</td>\n",
       "      <td>0.2076</td>\n",
       "      <td>0.917475</td>\n",
       "      <td>0.250000</td>\n",
       "    </tr>\n",
       "    <tr>\n",
       "      <th>130</th>\n",
       "      <td>ZHCLE1578P</td>\n",
       "      <td>0.2862</td>\n",
       "      <td>0.795291</td>\n",
       "      <td>0.225564</td>\n",
       "    </tr>\n",
       "    <tr>\n",
       "      <th>131</th>\n",
       "      <td>ZRRCV7012C</td>\n",
       "      <td>0.1538</td>\n",
       "      <td>0.999946</td>\n",
       "      <td>0.151899</td>\n",
       "    </tr>\n",
       "  </tbody>\n",
       "</table>\n",
       "<p>132 rows × 4 columns</p>\n",
       "</div>"
      ],
      "text/plain": [
       "       hospital  10k_thrombolysis  hosp_subnet_output  actual_thrombolysis\n",
       "0    AGNOF1041H            0.2684            0.824581             0.353535\n",
       "1    AKCGO9726K            0.3893            0.600438             0.368750\n",
       "2    AOBTM3098N            0.2130            0.909647             0.215385\n",
       "3    APXEE8191H            0.2734            0.817232             0.230769\n",
       "4    ATDID5461S            0.2557            0.843878             0.228571\n",
       "..          ...               ...                 ...                  ...\n",
       "127  YPKYH1768F            0.2473            0.857318             0.250000\n",
       "128  YQMZV4284N            0.3347            0.712575             0.230769\n",
       "129  ZBVSO0975W            0.2076            0.917475             0.250000\n",
       "130  ZHCLE1578P            0.2862            0.795291             0.225564\n",
       "131  ZRRCV7012C            0.1538            0.999946             0.151899\n",
       "\n",
       "[132 rows x 4 columns]"
      ]
     },
     "execution_count": 7,
     "metadata": {},
     "output_type": "execute_result"
    }
   ],
   "source": [
    "predicted_thrombolysis"
   ]
  },
  {
   "cell_type": "markdown",
   "id": "e62c159c",
   "metadata": {},
   "source": [
    "### Show relationship betwen subnet outout and predicted thrombolysis use in the 10k patient set\n",
    "\n",
    "Here we plot the relationship between the hospital subnet output for each hospital and 1) actual thrombolysis use in the test set at each hospital, the predicted thrombolysis use of the wjole 10k pateint set attended each hospital."
   ]
  },
  {
   "cell_type": "code",
   "execution_count": 8,
   "id": "66228039",
   "metadata": {},
   "outputs": [
    {
     "data": {
      "image/png": "[encoded data removed]",
      "text/plain": [
       "<Figure size 720x432 with 2 Axes>"
      ]
     },
     "metadata": {
      "needs_background": "light"
     },
     "output_type": "display_data"
    }
   ],
   "source": [
    "# Set up figure\n",
    "fig = plt.figure(figsize=(10,6))\n",
    "\n",
    "# Plot 1: actual vs subnet\n",
    "ax1 = fig.add_subplot(121)\n",
    "ax1.scatter(predicted_thrombolysis['hosp_subnet_output'],\n",
    "           predicted_thrombolysis['actual_thrombolysis'])\n",
    "ax1.set_xlabel('Hospital subnet activation')\n",
    "ax1.set_ylabel('Thrombolysis (actual)')\n",
    "correlation = predicted_thrombolysis.corr()\n",
    "r_square_model = \\\n",
    "    correlation['hosp_subnet_output']['actual_thrombolysis'] ** 2\n",
    "text = f'R-squared: {r_square_model:0.3f}'\n",
    "ax1.text(0.75, 0.45, text, fontsize=12, bbox=dict(facecolor='w', alpha=1.0))\n",
    "ax1.set_ylim(0,0.5)\n",
    "ax1.set_title('Actual thrombolysis vs.\\nhospital subnet output')\n",
    "ax1.grid()\n",
    "\n",
    "# Plot 2: 10k vs subnet\n",
    "ax2 = fig.add_subplot(122)\n",
    "ax2.scatter(predicted_thrombolysis['hosp_subnet_output'],\n",
    "           predicted_thrombolysis['10k_thrombolysis'])\n",
    "ax2.set_xlabel('Hospital subnet activation')\n",
    "ax2.set_ylabel('Thrombolysis (reference set)')\n",
    "correlation = predicted_thrombolysis.corr()\n",
    "r_square_model = \\\n",
    "    correlation['hosp_subnet_output']['10k_thrombolysis'] ** 2\n",
    "text = f'R-squared: {r_square_model:0.3f}'\n",
    "ax2.text(0.75, 0.45, text, fontsize=12, bbox=dict(facecolor='w', alpha=1.0))\n",
    "ax2.set_ylim(0,0.5)\n",
    "ax2.set_title('Predicted 10k thrombolysis vs.\\nhospital subnet output')\n",
    "ax2.grid()\n",
    "\n",
    "plt.tight_layout(pad=2)\n",
    "plt.savefig('./output/hospital_reference_thrombolysis.jpg', dpi=300)\n",
    "plt.show()"
   ]
  },
  {
   "cell_type": "markdown",
   "id": "c27334e8",
   "metadata": {},
   "source": [
    "We can see that the hospital subnet output correlatates with the actuaol use of thrombolysis at each hospital (R-Squared 0.669), but with some scatter. The scatter will be due to factors other than hospital thrombolysis decision making effectig final thrombolysis use (such as differences in patient populations attenending each hospital). When subnet activation is compared to predicted thrombolysis use of the same patients passing through all hospitals, the correlation betyween hospital subnet activation (which is embedded in the model during training, and is not effected by the test patients) is virtually perfect (R-Squared 0.996).\n",
    "\n",
    "The results show:\n",
    "\n",
    "1) Hospital subnet output, fixed during network training, is very closely correlated with the thrombolysis use of a fixed set of patients passed through all hospitals. Hospital subnet output may therefore be used as a measure of \"tendenacy to thrombolyse\", with hospitals ranked in tendency to use thrombolysis by this subnet output value.\n",
    "\n",
    "2) Hospital subnet output (hospital-level decision-making) explains a signficant proportion, but not all, of the inter-hospital variation in use of thrombolysis.\n",
    "\n",
    "NOTE: Here the subnet activation is inversally proportional to the use of thrombolysis. This may seem counter-intuitive, but it is due to the way neural networks optimise. There is no need for networks to optimise to have direct proportionality throughout the networks; the direction of relationship may be switched at each layer."
   ]
  },
  {
   "cell_type": "markdown",
   "id": "5ffa4dc0",
   "metadata": {},
   "source": [
    "## Examine clinical subnet output\n",
    "\n",
    "In this section we examine the output of the clinical subnet. This subnet is patient-specific, but expludes pathway data (such as day/time of arrival, time since stroke, time of scan, etc).The output is therefore dependent on patient clinical characteristics, but is not dependent on which hopsital a patient attended or dependent on pathway data."
   ]
  },
  {
   "cell_type": "markdown",
   "id": "4144ca9d",
   "metadata": {},
   "source": [
    "### Get clincial subnet output for 10k patients\n",
    "\n",
    "This code gets the output directly from the clinical subnet in the neural network. We store this with all patient characteristics (the loaded test set data)."
   ]
  },
  {
   "cell_type": "code",
   "execution_count": 9,
   "id": "11424722",
   "metadata": {},
   "outputs": [],
   "source": [
    "# Get patient subnet output\n",
    "layer_name = 'patient_encode'\n",
    "patient_encode_model = keras.Model(\n",
    "    inputs=model.input,outputs=model.get_layer(layer_name).output)\n",
    "patient_encode_output = patient_encode_model([\n",
    "    X_test_patients_sc, X_test_pathway_sc, X_test_hospitals_sc])\n",
    "\n",
    "# Put in DataFrame with all patient characteristics (X)\n",
    "clinical_subnet_output = test.copy()\n",
    "clinical_subnet_output['patient_subnet_output'] = \\\n",
    "    patient_encode_output.numpy().flatten()\n",
    "\n",
    "# Sort by patient_subnet_output\n",
    "clinical_subnet_output.sort_values('patient_subnet_output', inplace=True)"
   ]
  },
  {
   "cell_type": "markdown",
   "id": "e25b4f67",
   "metadata": {},
   "source": [
    "### Show relationship between clinical subnet output and proportion of patients receiving thrombolysis\n",
    "\n",
    "Here we test the relationship between the output of the clinical subnet and the actual use of thrombolysis. We do this by binning the output of the clincial subnets into 10 bins (each representing a range of 0.1 in the clinical subnet output), and taking the avergae use of thrombolysis in that bin."
   ]
  },
  {
   "cell_type": "code",
   "execution_count": 10,
   "id": "2c53a1e8",
   "metadata": {},
   "outputs": [
    {
     "data": {
      "image/png": "[encoded data removed]",
      "text/plain": [
       "<Figure size 360x360 with 1 Axes>"
      ]
     },
     "metadata": {
      "needs_background": "light"
     },
     "output_type": "display_data"
    }
   ],
   "source": [
    "subnet_values = clinical_subnet_output['patient_subnet_output'].values\n",
    "subnet_values = subnet_values * 10\n",
    "clinical_subnet_output['subnet_bin'] = subnet_values.astype(int)/10 + 0.05\n",
    "\n",
    "\n",
    "rx = clinical_subnet_output.groupby('subnet_bin').mean()['S2Thrombolysis']\n",
    "fig, ax = plt.subplots(figsize=(5,5))\n",
    "ax.plot(rx.index, rx.values)\n",
    "ax.set_xlabel('Patient subnet output (binned)')\n",
    "ax.set_xlim(0,1)\n",
    "ax.set_ylabel('Prop receiving thrombolysis')\n",
    "plt.savefig('./output/clinical_subnet_thrombolysis.jpg', dpi=300)\n",
    "plt.show()"
   ]
  },
  {
   "cell_type": "markdown",
   "id": "26817e6c",
   "metadata": {},
   "source": [
    "We observe a clear realtionship between the clinical subnet output and the use of thrombolysis - those patients with the highest clinical subnet output have a little over 70% use of thrombolysis."
   ]
  },
  {
   "cell_type": "markdown",
   "id": "50195658",
   "metadata": {},
   "source": [
    "### Show some clinical subnet outputs by patient type\n",
    "\n",
    "Here we look at the relationships between some clinical features and the clinical subnet output."
   ]
  },
  {
   "cell_type": "markdown",
   "id": "a79fd4cc",
   "metadata": {},
   "source": [
    "Unsuprising, those patients who receive thrombolysis have a higher "
   ]
  },
  {
   "cell_type": "markdown",
   "id": "423014ea",
   "metadata": {},
   "source": [
    "#### Show patient_subnet_output by stroke type"
   ]
  },
  {
   "cell_type": "code",
   "execution_count": 12,
   "id": "1b652f4b",
   "metadata": {},
   "outputs": [
    {
     "data": {
      "text/plain": [
       "S2StrokeType_Infarction\n",
       "0    0.034192\n",
       "1    0.634489\n",
       "Name: patient_subnet_output, dtype: float32"
      ]
     },
     "execution_count": 12,
     "metadata": {},
     "output_type": "execute_result"
    }
   ],
   "source": [
    "clinical_subnet_output.groupby('S2StrokeType_Infarction').mean()['patient_subnet_output']"
   ]
  },
  {
   "cell_type": "markdown",
   "id": "dc5b0a61",
   "metadata": {},
   "source": [
    "Those patients with an infarction (clot) have, on average, a much higher clinical subnet output than those without infarction (bleed, or type-unkown)."
   ]
  },
  {
   "cell_type": "markdown",
   "id": "57bdc7f4",
   "metadata": {},
   "source": [
    "#### Show patient_subnet_output by age group"
   ]
  },
  {
   "cell_type": "code",
   "execution_count": 13,
   "id": "7c90f62a",
   "metadata": {},
   "outputs": [
    {
     "data": {
      "text/plain": [
       "MoreEqual80y_Yes\n",
       "0    0.561819\n",
       "1    0.509975\n",
       "Name: patient_subnet_output, dtype: float32"
      ]
     },
     "execution_count": 13,
     "metadata": {},
     "output_type": "execute_result"
    }
   ],
   "source": [
    "clinical_subnet_output.groupby('MoreEqual80y_Yes').mean()['patient_subnet_output']"
   ]
  },
  {
   "cell_type": "markdown",
   "id": "373e9a7e",
   "metadata": {},
   "source": [
    "Those patients aged 80 or over have a little lower clinical subnet output than those aged under 80."
   ]
  },
  {
   "cell_type": "markdown",
   "id": "5ec5915d",
   "metadata": {},
   "source": [
    "#### Show relationship between NIHSS arrival and clinical_subnet_output"
   ]
  },
  {
   "cell_type": "code",
   "execution_count": 14,
   "id": "bb14fd43",
   "metadata": {},
   "outputs": [
    {
     "data": {
      "image/png": "[encoded data removed]",
      "text/plain": [
       "<Figure size 360x360 with 1 Axes>"
      ]
     },
     "metadata": {
      "needs_background": "light"
     },
     "output_type": "display_data"
    }
   ],
   "source": [
    "nihss = clinical_subnet_output.groupby('S2NihssArrival').mean()['patient_subnet_output']\n",
    "# Limit plot to NIHSS of 30 or less, as less than 20 in each group above this\n",
    "mask = nihss.index <=30\n",
    "nihss = nihss[mask]\n",
    "fig, ax = plt.subplots(figsize=(5,5))\n",
    "ax.plot(nihss.index, nihss.values)\n",
    "ax.set_xlabel('NIHSS on arrival')\n",
    "ax.set_ylabel('Patient subnet activation')\n",
    "plt.savefig('./output/clinical_subnet_nihss.jpg', dpi=300)\n",
    "plt.show()"
   ]
  },
  {
   "cell_type": "markdown",
   "id": "ead7b45b",
   "metadata": {},
   "source": [
    "Clinical subnet output is low for patients with low or high NIHSS on arrival."
   ]
  },
  {
   "cell_type": "markdown",
   "id": "420e86e3",
   "metadata": {},
   "source": [
    "#### Show relationship between modifed Rankin Scale and clinical_subnet_output"
   ]
  },
  {
   "cell_type": "code",
   "execution_count": 15,
   "id": "882e3dda",
   "metadata": {},
   "outputs": [
    {
     "data": {
      "image/png": "[encoded data removed]",
      "text/plain": [
       "<Figure size 360x360 with 1 Axes>"
      ]
     },
     "metadata": {
      "needs_background": "light"
     },
     "output_type": "display_data"
    }
   ],
   "source": [
    "rankin = clinical_subnet_output.groupby('S2RankinBeforeStroke').mean()['patient_subnet_output']\n",
    "# Limit plot to NIHSS of 30 or less, as less than 20 in each group above this\n",
    "fig, ax = plt.subplots(figsize=(5,5))\n",
    "ax.plot(rankin.index, rankin.values)\n",
    "ax.set_xlabel('modied Rankin Scale before stroke')\n",
    "ax.set_ylabel('Patient subnet activation')\n",
    "plt.savefig('./output/clinical_subnet_rankin.jpg', dpi=300)\n",
    "plt.show()"
   ]
  },
  {
   "cell_type": "markdown",
   "id": "8e6483f0",
   "metadata": {},
   "source": [
    "Clinical subnet output falls with increasing disability before stroke."
   ]
  },
  {
   "cell_type": "markdown",
   "id": "0b4c09e4",
   "metadata": {},
   "source": [
    "## Observations\n",
    "\n",
    "Using subnets for different types of data incrased model accuracy (previously described). But subnets also provide insight into both hospitals and patients. The subnets allow ranking of hospitals in likelihood to use thrombolysis (independent of patients) and allow ranking of patient clinical characteristics in suitability for thrombolysis."
   ]
  }
 ],
 "metadata": {
  "kernelspec": {
   "display_name": "Python 3",
   "language": "python",
   "name": "python3"
  },
  "language_info": {
   "codemirror_mode": {
    "name": "ipython",
    "version": 3
   },
   "file_extension": ".py",
   "mimetype": "text/x-python",
   "name": "python",
   "nbconvert_exporter": "python",
   "pygments_lexer": "ipython3",
   "version": "3.8.2"
  }
 },
 "nbformat": 4,
 "nbformat_minor": 5
}
