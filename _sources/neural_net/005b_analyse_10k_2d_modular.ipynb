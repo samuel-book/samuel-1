{
 "cells": [
  {
   "cell_type": "markdown",
   "id": "608b5234",
   "metadata": {},
   "source": [
    "# Investigating the output of neural net embedding subnets - with 2D subnet output\n",
    "\n",
    "## Aims\n",
    "\n",
    "* To investigate the output of the hospital and clinical subnets of the embedding neural network.\n",
    "\n",
    "* To examine the link between hospital subnet output and use of thrombolysis in hospitals - both the actual thrombolysis use, and the predicted thrombolysis use of a 10k set of patients passed through all hopsital moodels.\n",
    "\n",
    "* To examine the link between the patient clinical feature subnet output and the use of thrombolysis, and the link between patient features and the clinical feature subnet output\n",
    "\n",
    "## Neural Network structure\n",
    "\n",
    "The model contains three subnets that take portions of the data. The output of these subnets is an n-dimensional vector. In this case the output is a 2D vector, that is each subnet is reduced to a single value output. The subnets created are for:\n",
    "\n",
    "1. *Patient clinical data*: Age, gender, ethnicity, disability before stroke, stroke scale data. Pass through one hidden layer (with 2x neurons as input features) and then to single neuron with sigmoid activation.\n",
    "\n",
    "2. *Pathway process data*: Times of arrival and scan, time of day, day of week. Pass through one hidden layer (with 2x neurons as input features) and then to single neuron with sigmoid activation.\n",
    "\n",
    "3. *Hospital ID* (one-hot encoded): Connect input directly to single neuron with sigmoid activation.\n",
    "\n",
    "The outputs of the three subnet outputs are then passed to a single neurone with sigmoid activation for final output.\n",
    "\n",
    "![](./images/subnets_1.png)\n",
    "\n",
    "## Fitting of model\n",
    "\n",
    "The model has been pretrained (see the notebook *Modular TensorFlow model with 1D embedding - Train and save model for 10k patient subset*)"
   ]
  },
  {
   "cell_type": "markdown",
   "id": "1aebc199",
   "metadata": {},
   "source": [
    "## Load libraries"
   ]
  },
  {
   "cell_type": "code",
   "execution_count": 1,
   "id": "69c2e00a",
   "metadata": {},
   "outputs": [],
   "source": [
    "# Turn warnings off to keep notebook tidy\n",
    "import warnings\n",
    "warnings.filterwarnings(\"ignore\")\n",
    "\n",
    "import matplotlib.pyplot as plt\n",
    "from matplotlib.lines import Line2D\n",
    "import numpy as np\n",
    "import pandas as pd\n",
    "\n",
    "# sklearn for pre-processing\n",
    "from sklearn.preprocessing import MinMaxScaler\n",
    "\n",
    "# TensorFlow api model\n",
    "from tensorflow import keras\n",
    "from tensorflow.keras import layers\n",
    "from tensorflow.keras.models import Model\n",
    "from tensorflow.keras.optimizers import Adam\n",
    "from tensorflow.keras import backend as K\n",
    "from tensorflow.keras.losses import binary_crossentropy"
   ]
  },
  {
   "cell_type": "markdown",
   "id": "6ebb8b64",
   "metadata": {},
   "source": [
    "## Define function to scale data\n",
    "\n",
    "Scale input data 0-1 (MinMax scaling)."
   ]
  },
  {
   "cell_type": "code",
   "execution_count": 2,
   "id": "220fc450",
   "metadata": {},
   "outputs": [],
   "source": [
    "def scale_data(X_train, X_test):\n",
    "    \"\"\"Scale data 0-1 based on min and max in training set\"\"\"\n",
    "    \n",
    "    # Initialise a new scaling object for normalising input data\n",
    "    sc = MinMaxScaler()\n",
    "\n",
    "    # Set up the scaler just on the training set\n",
    "    sc.fit(X_train)\n",
    "\n",
    "    # Apply the scaler to the training and test sets\n",
    "    train_sc = sc.transform(X_train)\n",
    "    test_sc = sc.transform(X_test)\n",
    "    \n",
    "    return train_sc, test_sc"
   ]
  },
  {
   "cell_type": "markdown",
   "id": "4764e517",
   "metadata": {},
   "source": [
    "## Get model outputs for test data\n",
    "\n",
    "Get prediction probabilities for the test 10k training set. Training data is used only to scale test set X values.\n",
    "\n",
    "This prediction run is used to check model, and get accuracy."
   ]
  },
  {
   "cell_type": "code",
   "execution_count": 3,
   "id": "2b110d5d",
   "metadata": {},
   "outputs": [
    {
     "name": "stdout",
     "output_type": "stream",
     "text": [
      "Accuracy test 0.843\n"
     ]
    }
   ],
   "source": [
    "# Load data\n",
    "train = pd.read_csv(f'../data/10k_training_test/cohort_10000_train.csv')\n",
    "test = pd.read_csv(f'../data/10k_training_test/cohort_10000_test.csv')\n",
    "\n",
    "all_test = test.copy()\n",
    "\n",
    "# Get data subgroups\n",
    "subgroups = pd.read_csv('../data/subnet.csv', index_col='Item')\n",
    "# Get list of clinical items\n",
    "clinical_subgroup = subgroups.loc[subgroups['Subnet']=='clinical']\n",
    "clinical_subgroup = list(clinical_subgroup.index)\n",
    "# Get list of pathway items\n",
    "pathway_subgroup = subgroups.loc[subgroups['Subnet']=='pathway']\n",
    "pathway_subgroup = list(pathway_subgroup.index)\n",
    "# Get list of hospital items\n",
    "hospital_subgroup = subgroups.loc[subgroups['Subnet']=='hospital']\n",
    "hospital_subgroup = list(hospital_subgroup.index)\n",
    "\n",
    "# OneHot encode stroke team\n",
    "coded = pd.get_dummies(train['StrokeTeam'])\n",
    "train = pd.concat([train, coded], axis=1)\n",
    "train.drop('StrokeTeam', inplace=True, axis=1)\n",
    "coded = pd.get_dummies(test['StrokeTeam'])\n",
    "test = pd.concat([test, coded], axis=1)\n",
    "test.drop('StrokeTeam', inplace=True, axis=1)\n",
    "\n",
    "# Split into X, y\n",
    "X_train_df = train.drop('S2Thrombolysis',axis=1) \n",
    "y_train_df = train['S2Thrombolysis']\n",
    "X_test_df = test.drop('S2Thrombolysis',axis=1) \n",
    "y_test_df = test['S2Thrombolysis'] \n",
    "\n",
    "# Split train and test data by subgroups\n",
    "X_train_patients = X_train_df[clinical_subgroup]\n",
    "X_test_patients = X_test_df[clinical_subgroup]\n",
    "X_train_pathway = X_train_df[pathway_subgroup]\n",
    "X_test_pathway = X_test_df[pathway_subgroup]\n",
    "X_train_hospitals = X_train_df[hospital_subgroup]\n",
    "X_test_hospitals = X_test_df[hospital_subgroup]\n",
    "\n",
    "# Convert to NumPy\n",
    "X_train = X_train_df.values\n",
    "X_test = X_test_df.values\n",
    "y_train = y_train_df.values\n",
    "y_test = y_test_df.values\n",
    "\n",
    "# Scale data\n",
    "X_train_patients_sc, X_test_patients_sc = \\\n",
    "    scale_data(X_train_patients, X_test_patients)\n",
    "\n",
    "X_train_pathway_sc, X_test_pathway_sc = \\\n",
    "    scale_data(X_train_pathway, X_test_pathway)\n",
    "\n",
    "X_train_hospitals_sc, X_test_hospitals_sc = \\\n",
    "    scale_data(X_train_hospitals, X_test_hospitals)\n",
    "\n",
    "# Load model\n",
    "path = './saved_models/2d_for_10k/'\n",
    "filename = f'{path}model.h5'\n",
    "model = keras.models.load_model(filename)\n",
    "\n",
    "# Test model\n",
    "probability = model.predict(\n",
    "    [X_test_patients_sc, X_test_pathway_sc, X_test_hospitals_sc])\n",
    "y_pred_test = probability >= 0.5\n",
    "y_pred_test = y_pred_test.flatten()\n",
    "accuracy_test = np.mean(y_pred_test == y_test)\n",
    "print(f'Accuracy test {accuracy_test:0.3f}')\n",
    "\n",
    "all_test['model_prob'] = probability.flatten()\n",
    "all_test['prediction'] = y_pred_test"
   ]
  },
  {
   "cell_type": "markdown",
   "id": "ba1f0de6",
   "metadata": {},
   "source": [
    "## Get predictions for thrombolysis use of 10k set of patients at each hospital\n",
    "\n",
    "Here we ask the counter-factual question - \"what treatment would a patient be expected to receive at each of the 132 hospitals?\".\n",
    "\n",
    "Hospial is one-hot encoded as input to the hospital subnet. To make a prediction of treatment at different hospitals we change the one-hot encoding of the hospital when making prediction.\n",
    "\n",
    "For each hospital we pass through the 10k test set, and record the proportion of the patients receiving thrombolysis at that hospital."
   ]
  },
  {
   "cell_type": "code",
   "execution_count": null,
   "id": "c682ca95",
   "metadata": {},
   "outputs": [],
   "source": [
    "# Get number of hospitals\n",
    "num_hospitals = len(X_test_hospitals_sc[0])\n",
    "# Create test array for changing hospital ID\n",
    "X_hospitals_alter = X_test_hospitals_sc.copy()\n",
    "# List for all patient classifications at each hospital\n",
    "patient_results = []\n",
    "\n",
    "# Loop through setting hospital\n",
    "hospital_results = []\n",
    "for hosp in range(num_hospitals):\n",
    "    # Set all hospitals to zero\n",
    "    X_hospitals_alter[:,:] = 0\n",
    "    # Set test hospital to 1\n",
    "    X_hospitals_alter[:,hosp] = 1\n",
    "    # Get probability of thrombolysis\n",
    "    probability = model.predict(\n",
    "        [X_test_patients_sc, X_test_pathway_sc, X_hospitals_alter])\n",
    "    # Classify\n",
    "    classified = probability >= 0.5\n",
    "    # Get average thrombolysis (we are not stroring all individual results)\n",
    "    thrombolysis = classified.mean()\n",
    "    hospital_results.append(thrombolysis)\n",
    "    patient_results.append(classified)\n",
    "\n",
    "# Put results in DataFrame \n",
    "predicted_thrombolysis = pd.DataFrame()\n",
    "predicted_thrombolysis['hospital'] = hospital_subgroup\n",
    "predicted_thrombolysis['10k_thrombolysis'] = hospital_results\n",
    "\n",
    "# Show DataFrame\n",
    "predicted_thrombolysis"
   ]
  },
  {
   "cell_type": "code",
   "execution_count": null,
   "id": "196ad20f",
   "metadata": {},
   "outputs": [],
   "source": [
    "patient_thromb_results = np.sum(patient_results, axis=0).flatten()\n",
    "all_test['num_hosp_thrombolysing'] = patient_thromb_results\n",
    "all_test"
   ]
  },
  {
   "cell_type": "markdown",
   "id": "5fbb9349",
   "metadata": {},
   "source": [
    "## Get subnet outputs"
   ]
  },
  {
   "cell_type": "markdown",
   "id": "8fe15808",
   "metadata": {},
   "source": [
    "### Get hospital subnet output"
   ]
  },
  {
   "cell_type": "code",
   "execution_count": null,
   "id": "1dc3b864",
   "metadata": {},
   "outputs": [],
   "source": [
    "results = []\n",
    "for hosp in range(num_hospitals):\n",
    "    # Set all hospitals to zero\n",
    "    X_hospitals_alter[:,:] = 0\n",
    "    # Set test hospital to 1\n",
    "    X_hospitals_alter[:,hosp] = 1\n",
    "    # Get hospital subnet output\n",
    "    layer_name = 'hospital_encode'\n",
    "    hospital_encode_model = keras.Model(\n",
    "        inputs=model.input,outputs=model.get_layer(layer_name).output)\n",
    "    hospital_encode_output = hospital_encode_model([\n",
    "        X_test_patients_sc, X_test_pathway_sc, X_hospitals_alter])\n",
    "    results.append(np.mean(hospital_encode_output.numpy(),axis=0))\n",
    "\n",
    "results = np.array(results)\n",
    "hospital_encoding = pd.DataFrame(index=hospital_subgroup)\n",
    "hospital_encoding['hosp_encode_x'] = results[:, 0]\n",
    "hospital_encoding['hosp_encode_y'] = results[:, 1]\n",
    "all_test = all_test.merge(\n",
    "    hospital_encoding, left_on='StrokeTeam', right_index=True, how='left')"
   ]
  },
  {
   "cell_type": "markdown",
   "id": "76203c47",
   "metadata": {},
   "source": [
    "### Get patient subnet output"
   ]
  },
  {
   "cell_type": "code",
   "execution_count": null,
   "id": "5b275ecb",
   "metadata": {},
   "outputs": [],
   "source": [
    "# Get patient subnet output\n",
    "layer_name = 'patient_encode'\n",
    "patient_encode_model = keras.Model(\n",
    "    inputs=model.input,outputs=model.get_layer(layer_name).output)\n",
    "patient_encode_output = patient_encode_model([\n",
    "    X_test_patients_sc, X_test_pathway_sc, X_test_hospitals_sc])\n",
    "patient_encode_output = patient_encode_output.numpy()"
   ]
  },
  {
   "cell_type": "code",
   "execution_count": null,
   "id": "5b9b0be9",
   "metadata": {},
   "outputs": [],
   "source": [
    "patient_encode_output"
   ]
  },
  {
   "cell_type": "code",
   "execution_count": null,
   "id": "9c956aef",
   "metadata": {},
   "outputs": [],
   "source": [
    "all_test['patient_encode_x'] = patient_encode_output[:, 0]\n",
    "all_test['patient_encode_y'] = patient_encode_output[:, 1]"
   ]
  },
  {
   "cell_type": "markdown",
   "id": "caec75e2",
   "metadata": {},
   "source": [
    "### Get pathway subnet output"
   ]
  },
  {
   "cell_type": "code",
   "execution_count": null,
   "id": "074d3df3",
   "metadata": {},
   "outputs": [],
   "source": [
    "# Get patient subnet output\n",
    "layer_name = 'pathway_encode'\n",
    "pathway_encode_model = keras.Model(\n",
    "    inputs=model.input,outputs=model.get_layer(layer_name).output)\n",
    "pathway_encode_output = pathway_encode_model([\n",
    "    X_test_patients_sc, X_test_pathway_sc, X_test_hospitals_sc])\n",
    "pathway_encode_output = pathway_encode_output.numpy()\n",
    "\n",
    "pathway_encode_output"
   ]
  },
  {
   "cell_type": "code",
   "execution_count": null,
   "id": "522c7e9e",
   "metadata": {},
   "outputs": [],
   "source": [
    "all_test['pathway_encode_x'] = pathway_encode_output[:, 0]\n",
    "all_test['pathway_encode_y'] = pathway_encode_output[:, 1]\n",
    "all_test.to_csv('./output/2d_outputs.csv')\n",
    "all_test"
   ]
  },
  {
   "cell_type": "markdown",
   "id": "a607cb4a",
   "metadata": {},
   "source": [
    "## Comparing hospital subnet activation with thrombolysis use at each hospital\n",
    "\n",
    "The hospital subnet outputs a single value (in the range 0-1) for each hospital.\n",
    "\n",
    "Here we compare the hospital subnet output for each hospital with:\n",
    "\n",
    "1. The actual use of thrombolysis for 10k test-set patients at their own hospital only.\n",
    "\n",
    "2. The expected use of thrombolysis in the 10k test-set for each hospital. The 10k patient data set is passed through all hospital models (by changing the one-hot hospital encoding)."
   ]
  },
  {
   "cell_type": "code",
   "execution_count": null,
   "id": "d15036df",
   "metadata": {},
   "outputs": [],
   "source": [
    "# Set up figure\n",
    "fig = plt.figure(figsize=(6,6))\n",
    "\n",
    "# Plot 1: actual vs subnet\n",
    "ax1 = fig.add_subplot(111)\n",
    "cmap = plt.cm.viridis\n",
    "min_val = predicted_thrombolysis['10k_thrombolysis'].min()\n",
    "max_val = predicted_thrombolysis['10k_thrombolysis'].max()\n",
    "im = ax1.scatter(hospital_encoding['hosp_encode_x'],\n",
    "            hospital_encoding['hosp_encode_y'],\n",
    "            c=predicted_thrombolysis['10k_thrombolysis'],\n",
    "            vmin=min_val, vmax=max_val, s=35, cmap=cmap)\n",
    "cbar = plt.colorbar(im, ax=ax1)\n",
    "cbar.set_label('Hospital thrombolysis use', rotation=90, labelpad=10)\n",
    "ax1.set_xlabel('Hospital subnet output 1')\n",
    "ax1.set_ylabel('Hospital subnet output 2')\n",
    "plt.savefig('./output/hospital_subnet_scatter.jpg', dpi=300)\n",
    "plt.show()"
   ]
  },
  {
   "cell_type": "markdown",
   "id": "5f5a7579",
   "metadata": {},
   "source": [
    "In this output, all hospitals appear to sit on $x=0$ or $y=1$, with use of thrombolysis in the hospital increasing along the $y$ axis and then the $x$ axis."
   ]
  },
  {
   "cell_type": "markdown",
   "id": "bf2cbc52",
   "metadata": {},
   "source": [
    "## Comparing clinical subnet activation with the number of hospitals that are predicted to give thrombolysis to each patient"
   ]
  },
  {
   "cell_type": "code",
   "execution_count": null,
   "id": "13c16102",
   "metadata": {},
   "outputs": [],
   "source": [
    "# Set up figure\n",
    "fig = plt.figure(figsize=(6,6))\n",
    "\n",
    "# Plot 1: actual vs subnet\n",
    "cmap = plt.cm.viridis\n",
    "ax1 = fig.add_subplot(111)\n",
    "im = ax1.scatter(all_test['patient_encode_x'],\n",
    "            all_test['patient_encode_y'],\n",
    "            c=all_test['num_hosp_thrombolysing'],\n",
    "            vmin=0, vmax=132, s=25, cmap=cmap, alpha=0.5)\n",
    "cbar = plt.colorbar(im, ax=ax1)\n",
    "cbar.set_label('Number of hospitals predicted to give thrombolysis', rotation=90, labelpad=10)\n",
    "ax1.set_xlabel('Clinical subnet output 1')\n",
    "ax1.set_ylabel('Clinical subnet output 2')\n",
    "plt.savefig('./output/clinical_subnet_scatter.jpg', dpi=300)\n",
    "plt.show()"
   ]
  },
  {
   "cell_type": "markdown",
   "id": "40df4584",
   "metadata": {},
   "source": [
    "The patients most likey to be given thrombolysis are those in the top left of the scatter plot ($x$ close to 0, and $y$ close to 1. Predicted use of therombolysis falls as a function of distance from that corner. Use of thrombolysis will also be effected by pathway data, but this scatter plot shows a dominant effect of clincal subnet output.\n",
    "\n",
    "Patients appear to cluster mostly towards the edges of the plot.\n",
    "\n",
    "In the following analysis, we will look at the characteristics of patients in different parts of the scatter plot."
   ]
  },
  {
   "cell_type": "markdown",
   "id": "a896fab3",
   "metadata": {},
   "source": [
    "### Analysis by stroke type\n",
    "\n",
    "Plot the location of stroke type by haemorrhage (red) or infarction (blue)."
   ]
  },
  {
   "cell_type": "code",
   "execution_count": null,
   "id": "adfbc6ca",
   "metadata": {},
   "outputs": [],
   "source": [
    "bleed = all_test['S2StrokeType_Primary Intracerebral Haemorrhage'] \n",
    "\n",
    "# Set up figure\n",
    "cmap = plt.cm.bwr\n",
    "fig = plt.figure(figsize=(6,6))\n",
    "\n",
    "# Plot 1: actual vs subnet\n",
    "ax1 = fig.add_subplot(111)\n",
    "im = ax1.scatter(all_test['patient_encode_x'],\n",
    "           all_test['patient_encode_y'],\n",
    "           c=bleed,\n",
    "        vmin=0, vmax=1, s=25, cmap=cmap, alpha=0.5)\n",
    "#plt.colorbar(im, ax=ax1)\n",
    "ax1.set_xlabel('Clinical subnet output 1')\n",
    "ax1.set_ylabel('Clinical subnet output 2')\n",
    "\n",
    "custom_lines = [Line2D([0], [0], color='r', marker='o', lw=0, markerfacecolor='r', markersize=8),\n",
    "                Line2D([0], [0], color='b', marker='o', lw=0, markerfacecolor='b', markersize=8)]\n",
    "\n",
    "plt.legend(custom_lines, ['Haemorrhagic stroke', 'Non-haemorrhagic stroke'],\n",
    "          loc='upper center', framealpha=1)\n",
    "\n",
    "\n",
    "plt.savefig('./output/clinical_subnet_scatter_stroke_type.jpg', dpi=300)\n",
    "plt.show()"
   ]
  },
  {
   "cell_type": "markdown",
   "id": "b0f4dcac",
   "metadata": {},
   "source": [
    "We observe that haemorrhagic stroke patients are clustered in one corner of the chart, suggesting that clinical subnet output may be used to compare similirity between patients (driven by reasons to give or not give thrombolysis)."
   ]
  },
  {
   "cell_type": "markdown",
   "id": "4d436847",
   "metadata": {},
   "source": [
    "## Summarise patients in corners of chart\n",
    "\n",
    "Summarise key characteristics of patients in the four corners of the chart."
   ]
  },
  {
   "cell_type": "code",
   "execution_count": null,
   "id": "96b356ea",
   "metadata": {},
   "outputs": [],
   "source": [
    "paient_encode_regions = pd.DataFrame()\n",
    "\n",
    "# Low x and low y\n",
    "mask = (all_test['patient_encode_x'] < 0.2) & (all_test['patient_encode_y'] < 0.2)\n",
    "paient_encode_regions['low_x_low_y'] = all_test[mask].mean()\n",
    "\n",
    "# Low x and high y\n",
    "mask = (all_test['patient_encode_x'] < 0.2) & (all_test['patient_encode_y'] > 0.8)\n",
    "paient_encode_regions['low_x_high_y'] = all_test[mask].mean()\n",
    "\n",
    "# High x and low y\n",
    "mask = (all_test['patient_encode_x'] > 0.8) & (all_test['patient_encode_y'] <0.2)\n",
    "paient_encode_regions['high_x_low_y'] = all_test[mask].mean()\n",
    "\n",
    "# High x and high y\n",
    "mask = (all_test['patient_encode_x'] > 0.8) & (all_test['patient_encode_y'] > 0.8)\n",
    "paient_encode_regions['high_x_high_y'] = all_test[mask].mean()"
   ]
  },
  {
   "cell_type": "code",
   "execution_count": null,
   "id": "c1ee6e13",
   "metadata": {},
   "outputs": [],
   "source": [
    "paient_encode_regions"
   ]
  },
  {
   "cell_type": "code",
   "execution_count": null,
   "id": "eb40828f",
   "metadata": {},
   "outputs": [],
   "source": [
    "paient_encode_regions.to_csv('./output/paient_encode_regions.csv')"
   ]
  },
  {
   "cell_type": "markdown",
   "id": "44e8a3de",
   "metadata": {},
   "source": [
    "Show specific rows"
   ]
  },
  {
   "cell_type": "code",
   "execution_count": null,
   "id": "2f3b2eb9",
   "metadata": {},
   "outputs": [],
   "source": [
    "rows_to_show = [\n",
    "    'S2RankinBeforeStroke',\n",
    "    'S2NihssArrival',\n",
    "    'S2StrokeType_Primary Intracerebral Haemorrhage',\n",
    "    'num_hosp_thrombolysing']\n",
    "\n",
    "paient_encode_regions.loc[rows_to_show].round(2)"
   ]
  },
  {
   "cell_type": "markdown",
   "id": "e7856395",
   "metadata": {},
   "source": [
    "We see different types of patients in different quadrants of the clinical subnet output scatter chart:\n",
    "\n",
    "* *Low x and low y*: Largely non-thrombolysed patients with infarction stroke, and severe stroke and/or higher disability before stroke.\n",
    "\n",
    "* *Low x and high y*: Largely thrombolysed patients.\n",
    "\n",
    "* *High x and low y*: Largely non-thrombolysed patients with haemorrhagic stroke.\n",
    "\n",
    "* *High x and high y*: Largely non-thrombolysed patients with infarction stroke and very mild stroke."
   ]
  },
  {
   "cell_type": "markdown",
   "id": "6bc50662",
   "metadata": {},
   "source": [
    "## Observations\n",
    "\n",
    "2D clinical subnet analysis allows leads to potentially useful embedding/encoding of patients whereby similar patients are clustered together. "
   ]
  }
 ],
 "metadata": {
  "kernelspec": {
   "display_name": "Python 3",
   "language": "python",
   "name": "python3"
  },
  "language_info": {
   "codemirror_mode": {
    "name": "ipython",
    "version": 3
   },
   "file_extension": ".py",
   "mimetype": "text/x-python",
   "name": "python",
   "nbconvert_exporter": "python",
   "pygments_lexer": "ipython3",
   "version": "3.8.2"
  }
 },
 "nbformat": 4,
 "nbformat_minor": 5
}
