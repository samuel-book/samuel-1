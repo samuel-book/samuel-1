{
 "cells": [
  {
   "cell_type": "markdown",
   "metadata": {},
   "source": [
    "# Compare level of agreement in clinical decision making between hospitals using Random Forests models\n",
    "\n",
    "## Aims:\n",
    "\n",
    "* Quantify the level of agreement between different hospital models on what treatment patients should receive."
   ]
  },
  {
   "cell_type": "markdown",
   "metadata": {},
   "source": [
    "## Import libraries"
   ]
  },
  {
   "cell_type": "code",
   "execution_count": 1,
   "metadata": {},
   "outputs": [],
   "source": [
    "# Turn warnings off to keep notebook tidy\n",
    "import warnings\n",
    "warnings.filterwarnings(\"ignore\")\n",
    "\n",
    "import os\n",
    "import pandas as pd\n",
    "import numpy as np\n",
    "import pickle as pkl\n",
    "import matplotlib.pyplot as plt\n",
    "\n",
    "import sklearn as sk\n",
    "from sklearn.ensemble import RandomForestClassifier\n",
    "from sklearn.model_selection import StratifiedKFold"
   ]
  },
  {
   "cell_type": "markdown",
   "metadata": {},
   "source": [
    "## Load data\n",
    "\n",
    "Create combined data set by combining cohort train/test"
   ]
  },
  {
   "cell_type": "code",
   "execution_count": 2,
   "metadata": {},
   "outputs": [],
   "source": [
    "data = pd.concat([\n",
    "    pd.read_csv('./../data/10k_training_test/cohort_10000_train.csv'),\n",
    "    pd.read_csv('./../data/10k_training_test/cohort_10000_test.csv')],\n",
    "    axis=0)\n",
    "\n",
    "data = data.sample(frac=1.0, random_state=42)\n",
    "\n",
    "hospitals = list(set(data['StrokeTeam'].values))"
   ]
  },
  {
   "cell_type": "markdown",
   "metadata": {},
   "source": [
    "## Load previously saved models"
   ]
  },
  {
   "cell_type": "code",
   "execution_count": 3,
   "metadata": {},
   "outputs": [],
   "source": [
    "with open ('./models/trained_hospital_models.pkl', 'rb') as f:\n",
    "    hospital2model = pkl.load(f)"
   ]
  },
  {
   "cell_type": "markdown",
   "metadata": {},
   "source": [
    "## Pass patients from each hospital through all other hospital models"
   ]
  },
  {
   "cell_type": "code",
   "execution_count": 4,
   "metadata": {},
   "outputs": [
    {
     "name": "stdout",
     "output_type": "stream",
     "text": [
      "Calculating 132 of 132\r"
     ]
    }
   ],
   "source": [
    "# calculate results if not previously saved, else load previously saved results\n",
    "calculate_results = True\n",
    "\n",
    "# Calculate and save results if needed\n",
    "if calculate_results:\n",
    "\n",
    "    # create df for results\n",
    "    results = pd.DataFrame(\n",
    "        columns = np.concatenate((['True','Hospital'],hospitals)))\n",
    "    \n",
    "    results_prob = pd.DataFrame(\n",
    "        columns = np.concatenate((['True','Hospital'],hospitals)))\n",
    "    \n",
    "    counter = 0\n",
    "\n",
    "    # loop through patients from each hospital\n",
    "    for hospital_test in hospitals:\n",
    "        \n",
    "        # Show progress\n",
    "        counter += 1\n",
    "        print (f'Calculating {counter} of {len(hospitals)}', end='\\r')\n",
    "\n",
    "        # df for each hospital's results\n",
    "        hospital_results = pd.DataFrame(\n",
    "            columns = np.concatenate((['True','Hospital'],hospitals)))\n",
    "        \n",
    "        hospital_results_prob = pd.DataFrame(\n",
    "            columns = np.concatenate((['True','Hospital'],hospitals)))\n",
    "\n",
    "        _, _, X_test, y_test = hospital2model[hospital_test]\n",
    "\n",
    "        # put patients from hospital_test through all other hospital models\n",
    "        for hospital_train in hospitals:\n",
    "\n",
    "            if hospital_test==hospital_train:\n",
    "\n",
    "                hospital_results['True'] = y_test\n",
    "                hospital_results['Hospital'] = [hospital_test for v in y_test]\n",
    "                hospital_results_prob['True'] = y_test\n",
    "                hospital_results_prob['Hospital'] = [hospital_test for v in y_test]\n",
    "\n",
    "            forest, threshold, _,_ = hospital2model[hospital_train]\n",
    "\n",
    "            y_prob = forest.predict_proba(X_test)[:,1]\n",
    "\n",
    "            y_pred = [1 if p >= threshold else 0 for p in y_prob]\n",
    "\n",
    "            #add results from hospital_train to hospital df\n",
    "            hospital_results[hospital_train] = y_pred\n",
    "            hospital_results_prob[hospital_train] = y_prob\n",
    "            \n",
    "\n",
    "        #append hospital df to results df\n",
    "        results = results.append(hospital_results, ignore_index=True)\n",
    "        \n",
    "        results_prob = results_prob.append(\n",
    "            hospital_results_prob, ignore_index=True)\n",
    "\n",
    "    #save results for later use\n",
    "    results.to_csv('./predictions/hospital_results.csv', index=False)\n",
    "    results_prob.to_csv('./predictions/hospital_results_prob.csv', index=False)"
   ]
  },
  {
   "cell_type": "markdown",
   "metadata": {},
   "source": [
    "Load saved results"
   ]
  },
  {
   "cell_type": "code",
   "execution_count": 5,
   "metadata": {},
   "outputs": [],
   "source": [
    "results = pd.read_csv(\n",
    "    './predictions/hospital_results.csv')\n",
    "results_prob = pd.read_csv(\n",
    "    './predictions/hospital_results_prob.csv')"
   ]
  },
  {
   "cell_type": "markdown",
   "metadata": {},
   "source": [
    "Add percent agreement for each patient"
   ]
  },
  {
   "cell_type": "code",
   "execution_count": 6,
   "metadata": {},
   "outputs": [],
   "source": [
    "results['sum'] = results.sum(axis=1) - results['True']\n",
    "\n",
    "results['percent'] = results['sum']*100/len(hospitals)\n",
    "\n",
    "results['percent_agree'] = [max(p, 100-p) for p in results['percent']]"
   ]
  },
  {
   "cell_type": "markdown",
   "metadata": {},
   "source": [
    "Show results (each patient is a row)"
   ]
  },
  {
   "cell_type": "code",
   "execution_count": 7,
   "metadata": {},
   "outputs": [
    {
     "data": {
      "text/html": [
       "<div>\n",
       "<style scoped>\n",
       "    .dataframe tbody tr th:only-of-type {\n",
       "        vertical-align: middle;\n",
       "    }\n",
       "\n",
       "    .dataframe tbody tr th {\n",
       "        vertical-align: top;\n",
       "    }\n",
       "\n",
       "    .dataframe thead th {\n",
       "        text-align: right;\n",
       "    }\n",
       "</style>\n",
       "<table border=\"1\" class=\"dataframe\">\n",
       "  <thead>\n",
       "    <tr style=\"text-align: right;\">\n",
       "      <th></th>\n",
       "      <th>True</th>\n",
       "      <th>Hospital</th>\n",
       "      <th>UALFR2142B</th>\n",
       "      <th>XKAWN3771U</th>\n",
       "      <th>WSNTP4114A</th>\n",
       "      <th>TBZOA3799I</th>\n",
       "      <th>IAZKG9244A</th>\n",
       "      <th>BBXPQ0212O</th>\n",
       "      <th>GKONI0110I</th>\n",
       "      <th>AOBTM3098N</th>\n",
       "      <th>...</th>\n",
       "      <th>IDHVL2894N</th>\n",
       "      <th>NTPQZ0829K</th>\n",
       "      <th>NZECY6641V</th>\n",
       "      <th>ZBVSO0975W</th>\n",
       "      <th>HGGNH9018F</th>\n",
       "      <th>DANAH4615Q</th>\n",
       "      <th>WTBXP2683L</th>\n",
       "      <th>sum</th>\n",
       "      <th>percent</th>\n",
       "      <th>percent_agree</th>\n",
       "    </tr>\n",
       "  </thead>\n",
       "  <tbody>\n",
       "    <tr>\n",
       "      <th>0</th>\n",
       "      <td>0</td>\n",
       "      <td>UALFR2142B</td>\n",
       "      <td>0</td>\n",
       "      <td>0</td>\n",
       "      <td>1</td>\n",
       "      <td>0</td>\n",
       "      <td>0</td>\n",
       "      <td>0</td>\n",
       "      <td>0</td>\n",
       "      <td>0</td>\n",
       "      <td>...</td>\n",
       "      <td>0</td>\n",
       "      <td>0</td>\n",
       "      <td>0</td>\n",
       "      <td>0</td>\n",
       "      <td>0</td>\n",
       "      <td>0</td>\n",
       "      <td>0</td>\n",
       "      <td>3</td>\n",
       "      <td>2.272727</td>\n",
       "      <td>97.727273</td>\n",
       "    </tr>\n",
       "    <tr>\n",
       "      <th>1</th>\n",
       "      <td>1</td>\n",
       "      <td>UALFR2142B</td>\n",
       "      <td>1</td>\n",
       "      <td>1</td>\n",
       "      <td>1</td>\n",
       "      <td>1</td>\n",
       "      <td>1</td>\n",
       "      <td>1</td>\n",
       "      <td>1</td>\n",
       "      <td>1</td>\n",
       "      <td>...</td>\n",
       "      <td>1</td>\n",
       "      <td>1</td>\n",
       "      <td>1</td>\n",
       "      <td>1</td>\n",
       "      <td>1</td>\n",
       "      <td>1</td>\n",
       "      <td>1</td>\n",
       "      <td>128</td>\n",
       "      <td>96.969697</td>\n",
       "      <td>96.969697</td>\n",
       "    </tr>\n",
       "    <tr>\n",
       "      <th>2</th>\n",
       "      <td>1</td>\n",
       "      <td>UALFR2142B</td>\n",
       "      <td>1</td>\n",
       "      <td>1</td>\n",
       "      <td>1</td>\n",
       "      <td>1</td>\n",
       "      <td>1</td>\n",
       "      <td>1</td>\n",
       "      <td>1</td>\n",
       "      <td>1</td>\n",
       "      <td>...</td>\n",
       "      <td>1</td>\n",
       "      <td>1</td>\n",
       "      <td>1</td>\n",
       "      <td>1</td>\n",
       "      <td>1</td>\n",
       "      <td>1</td>\n",
       "      <td>1</td>\n",
       "      <td>128</td>\n",
       "      <td>96.969697</td>\n",
       "      <td>96.969697</td>\n",
       "    </tr>\n",
       "    <tr>\n",
       "      <th>3</th>\n",
       "      <td>0</td>\n",
       "      <td>UALFR2142B</td>\n",
       "      <td>0</td>\n",
       "      <td>0</td>\n",
       "      <td>0</td>\n",
       "      <td>0</td>\n",
       "      <td>0</td>\n",
       "      <td>0</td>\n",
       "      <td>0</td>\n",
       "      <td>0</td>\n",
       "      <td>...</td>\n",
       "      <td>0</td>\n",
       "      <td>0</td>\n",
       "      <td>0</td>\n",
       "      <td>0</td>\n",
       "      <td>0</td>\n",
       "      <td>0</td>\n",
       "      <td>0</td>\n",
       "      <td>0</td>\n",
       "      <td>0.000000</td>\n",
       "      <td>100.000000</td>\n",
       "    </tr>\n",
       "    <tr>\n",
       "      <th>4</th>\n",
       "      <td>0</td>\n",
       "      <td>UALFR2142B</td>\n",
       "      <td>0</td>\n",
       "      <td>0</td>\n",
       "      <td>0</td>\n",
       "      <td>0</td>\n",
       "      <td>0</td>\n",
       "      <td>0</td>\n",
       "      <td>0</td>\n",
       "      <td>0</td>\n",
       "      <td>...</td>\n",
       "      <td>0</td>\n",
       "      <td>0</td>\n",
       "      <td>0</td>\n",
       "      <td>0</td>\n",
       "      <td>0</td>\n",
       "      <td>0</td>\n",
       "      <td>0</td>\n",
       "      <td>0</td>\n",
       "      <td>0.000000</td>\n",
       "      <td>100.000000</td>\n",
       "    </tr>\n",
       "  </tbody>\n",
       "</table>\n",
       "<p>5 rows × 137 columns</p>\n",
       "</div>"
      ],
      "text/plain": [
       "   True    Hospital  UALFR2142B  XKAWN3771U  WSNTP4114A  TBZOA3799I  \\\n",
       "0     0  UALFR2142B           0           0           1           0   \n",
       "1     1  UALFR2142B           1           1           1           1   \n",
       "2     1  UALFR2142B           1           1           1           1   \n",
       "3     0  UALFR2142B           0           0           0           0   \n",
       "4     0  UALFR2142B           0           0           0           0   \n",
       "\n",
       "   IAZKG9244A  BBXPQ0212O  GKONI0110I  AOBTM3098N  ...  IDHVL2894N  \\\n",
       "0           0           0           0           0  ...           0   \n",
       "1           1           1           1           1  ...           1   \n",
       "2           1           1           1           1  ...           1   \n",
       "3           0           0           0           0  ...           0   \n",
       "4           0           0           0           0  ...           0   \n",
       "\n",
       "   NTPQZ0829K  NZECY6641V  ZBVSO0975W  HGGNH9018F  DANAH4615Q  WTBXP2683L  \\\n",
       "0           0           0           0           0           0           0   \n",
       "1           1           1           1           1           1           1   \n",
       "2           1           1           1           1           1           1   \n",
       "3           0           0           0           0           0           0   \n",
       "4           0           0           0           0           0           0   \n",
       "\n",
       "   sum    percent  percent_agree  \n",
       "0    3   2.272727      97.727273  \n",
       "1  128  96.969697      96.969697  \n",
       "2  128  96.969697      96.969697  \n",
       "3    0   0.000000     100.000000  \n",
       "4    0   0.000000     100.000000  \n",
       "\n",
       "[5 rows x 137 columns]"
      ]
     },
     "execution_count": 7,
     "metadata": {},
     "output_type": "execute_result"
    }
   ],
   "source": [
    "results.head()"
   ]
  },
  {
   "cell_type": "markdown",
   "metadata": {},
   "source": [
    "## Analyse results"
   ]
  },
  {
   "cell_type": "markdown",
   "metadata": {},
   "source": [
    "### Percentage of hospitals agreeing to give thrombolysis"
   ]
  },
  {
   "cell_type": "code",
   "execution_count": 8,
   "metadata": {},
   "outputs": [
    {
     "data": {
      "image/png": "[encoded data removed]",
      "text/plain": [
       "<Figure size 360x360 with 1 Axes>"
      ]
     },
     "metadata": {
      "needs_background": "light"
     },
     "output_type": "display_data"
    }
   ],
   "source": [
    "results['percent']\n",
    "\n",
    "fig = plt.figure(figsize=(5,5))\n",
    "\n",
    "# Agreement on treatment \n",
    "ax1 = fig.add_subplot(111)\n",
    "xvals = np.arange(0,101,1)\n",
    "\n",
    "y1 = [sum([1 for p in results.percent.values if p>=x])\\\n",
    "         /len(results.percent.values) for x in xvals]\n",
    "\n",
    "ax1.plot(xvals, y1)\n",
    "ax1.set_xlabel('% Hospitals that choose to thrombolyse')\n",
    "ax1.set_ylabel('Proportion of patients')\n",
    "ax1.set_ylim(0, 1)\n",
    "ax1.grid()\n",
    "\n",
    "\n",
    "plt.tight_layout()\n",
    "plt.savefig('./output/prop_agree_to_receive_thrombolysis.jpg', dpi=300)\n",
    "plt.show()"
   ]
  },
  {
   "cell_type": "markdown",
   "metadata": {},
   "source": [
    "### Proportion agreeing\n",
    "\n",
    "Split patients by:\n",
    "\n",
    "1. All patients - any agreement\n",
    "\n",
    "2. Patients who did receive thrombolysis: percent of hospitals that would agree to give thrombolysis\n",
    "\n",
    "3. Patients who did not receive thrombolysis: percent of hospitals that would agree to not give thrombolysis"
   ]
  },
  {
   "cell_type": "code",
   "execution_count": 9,
   "metadata": {},
   "outputs": [
    {
     "data": {
      "image/png": "[encoded data removed]",
      "text/plain": [
       "<Figure size 360x360 with 1 Axes>"
      ]
     },
     "metadata": {
      "needs_background": "light"
     },
     "output_type": "display_data"
    }
   ],
   "source": [
    "fig = plt.figure(figsize=(5,5))\n",
    "\n",
    "# Agreement on treatment \n",
    "ax1 = fig.add_subplot(111)\n",
    "xvals = np.arange(50,101,1)\n",
    "\n",
    "y1 = [sum([1 for p in results.percent_agree.values if p>=x])\\\n",
    "         /len(results.percent_agree.values) for x in xvals]\n",
    "\n",
    "ax1.plot(xvals, y1, label='Either treatment', linestyle='-')\n",
    "\n",
    "y2 = [sum(1 for p in results[results['True']==1].percent_agree.values if p>=x)\\\n",
    "         /len(results[results['True']==1].percent_agree.values) for x in xvals]\n",
    "\n",
    "ax1.plot(xvals, y2, label='Thrombolysed', linestyle='--')\n",
    "\n",
    "y3 = [sum(1 for p in results[results['True']==0].percent_agree.values if p>=x)\\\n",
    "         /len(results[results['True']==0].percent_agree.values) for x in xvals]\n",
    "      \n",
    "ax1.plot(xvals, y3, label='Not thrombolysed', linestyle=':')\n",
    "         \n",
    "ax1.legend()\n",
    "\n",
    "ax1.set_xlabel('% Hospitals that agree on given treatment')\n",
    "ax1.set_ylabel('Proportion of patients')\n",
    "ax1.set_ylim(0, 1)\n",
    "ax1.grid()\n",
    "      \n",
    "plt.tight_layout()\n",
    "plt.savefig('./output/agreement_x_hospital_single.jpg', dpi=300)\n",
    "plt.show()"
   ]
  },
  {
   "cell_type": "code",
   "execution_count": 10,
   "metadata": {},
   "outputs": [
    {
     "data": {
      "text/html": [
       "<div>\n",
       "<style scoped>\n",
       "    .dataframe tbody tr th:only-of-type {\n",
       "        vertical-align: middle;\n",
       "    }\n",
       "\n",
       "    .dataframe tbody tr th {\n",
       "        vertical-align: top;\n",
       "    }\n",
       "\n",
       "    .dataframe thead th {\n",
       "        text-align: right;\n",
       "    }\n",
       "</style>\n",
       "<table border=\"1\" class=\"dataframe\">\n",
       "  <thead>\n",
       "    <tr style=\"text-align: right;\">\n",
       "      <th></th>\n",
       "      <th>Any</th>\n",
       "      <th>Throm</th>\n",
       "      <th>No Throm</th>\n",
       "    </tr>\n",
       "    <tr>\n",
       "      <th>% Hospitals Agree</th>\n",
       "      <th></th>\n",
       "      <th></th>\n",
       "      <th></th>\n",
       "    </tr>\n",
       "  </thead>\n",
       "  <tbody>\n",
       "    <tr>\n",
       "      <th>80</th>\n",
       "      <td>0.775</td>\n",
       "      <td>0.604</td>\n",
       "      <td>0.846</td>\n",
       "    </tr>\n",
       "    <tr>\n",
       "      <th>90</th>\n",
       "      <td>0.655</td>\n",
       "      <td>0.413</td>\n",
       "      <td>0.757</td>\n",
       "    </tr>\n",
       "    <tr>\n",
       "      <th>95</th>\n",
       "      <td>0.541</td>\n",
       "      <td>0.247</td>\n",
       "      <td>0.664</td>\n",
       "    </tr>\n",
       "  </tbody>\n",
       "</table>\n",
       "</div>"
      ],
      "text/plain": [
       "                     Any  Throm  No Throm\n",
       "% Hospitals Agree                        \n",
       "80                 0.775  0.604     0.846\n",
       "90                 0.655  0.413     0.757\n",
       "95                 0.541  0.247     0.664"
      ]
     },
     "execution_count": 10,
     "metadata": {},
     "output_type": "execute_result"
    }
   ],
   "source": [
    "# Set percent of hospital to agree\n",
    "xvals = [80, 90, 95]\n",
    "\n",
    "# Find proportion of patients with agreement for either treat/no-treat decsion\n",
    "agree_all = [sum([1 for p in results.percent_agree.values if p>=x])\\\n",
    "         /len(results.percent_agree.values) for x in xvals]\n",
    "\n",
    "# Find proportion of thrombolysed patients with agreement\n",
    "agree_thromb = [\n",
    "    sum(1 for p in results[results['True']==1].percent_agree.values if p>=x)\\\n",
    "         /len(results[results['True']==1].percent_agree.values) for x in xvals]\n",
    "\n",
    "# Find proportion of non-thrombolysed patients with agreement\n",
    "agree_non_thromb = [\n",
    "    sum(1 for p in results[results['True']==0].percent_agree.values if p>=x)\\\n",
    "         /len(results[results['True']==0].percent_agree.values) for x in xvals]\n",
    "\n",
    "# Put in DataFrame\n",
    "results_agree = pd.DataFrame()\n",
    "results_agree['% Hospitals Agree'] = xvals\n",
    "results_agree.set_index('% Hospitals Agree', inplace=True)\n",
    "results_agree['Any'] = agree_all\n",
    "results_agree['Throm'] = agree_thromb\n",
    "results_agree['No Throm'] = agree_non_thromb\n",
    "results_agree = results_agree.round(3)\n",
    "\n",
    "results_agree"
   ]
  },
  {
   "cell_type": "markdown",
   "metadata": {},
   "source": [
    "## Observations\n",
    "\n",
    "* It is easier to find majority agreement on who not to thrombolyse than who to thrombolyse. For example:\n",
    "    * 77.5% of all patients have a treatment decision that is agreed by 80% hospitals\n",
    "    * Of those who were not given thrombolysis, 84.6% had agreement by 80% hospitals\n",
    "    * Of those who were given thrombolysis, 60.4% had agreement by 80% hospitals "
   ]
  }
 ],
 "metadata": {
  "kernelspec": {
   "display_name": "Python 3",
   "language": "python",
   "name": "python3"
  },
  "language_info": {
   "codemirror_mode": {
    "name": "ipython",
    "version": 3
   },
   "file_extension": ".py",
   "mimetype": "text/x-python",
   "name": "python",
   "nbconvert_exporter": "python",
   "pygments_lexer": "ipython3",
   "version": "3.8.2"
  }
 },
 "nbformat": 4,
 "nbformat_minor": 4
}
