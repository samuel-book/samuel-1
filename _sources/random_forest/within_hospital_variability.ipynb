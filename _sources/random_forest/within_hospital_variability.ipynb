{
 "cells": [
  {
   "cell_type": "markdown",
   "id": "1b43c8f1",
   "metadata": {},
   "source": [
    "# Find similar patients who are treated differently within the same hospital"
   ]
  },
  {
   "cell_type": "markdown",
   "id": "97e262a5",
   "metadata": {},
   "source": [
    "## Aims\n",
    "\n",
    "- Investigate the number of misclassifications within a hospital\n",
    "- Define a similarity measure using the decision tree structure of a random forest classifier\n",
    "- For patients with a predicted outcome different to their true outcome, find similar patients that were treated differently"
   ]
  },
  {
   "cell_type": "markdown",
   "id": "324b703c",
   "metadata": {},
   "source": [
    "## Code "
   ]
  },
  {
   "cell_type": "markdown",
   "id": "27d42f11",
   "metadata": {},
   "source": [
    "### Import libraries "
   ]
  },
  {
   "cell_type": "code",
   "execution_count": 1,
   "id": "3ef6869b",
   "metadata": {},
   "outputs": [],
   "source": [
    "import os\n",
    "import json\n",
    "import pickle as pkl\n",
    "import pandas as pd\n",
    "import numpy as np\n",
    "import matplotlib.pyplot as plt\n",
    "import matplotlib.ticker as ticker\n",
    "%matplotlib inline\n",
    "\n",
    "import sklearn as sk\n",
    "from sklearn.ensemble import RandomForestClassifier\n",
    "from sklearn.tree import DecisionTreeClassifier\n",
    "\n",
    "# Turn warnings off to keep notebook tidy\n",
    "import warnings\n",
    "warnings.filterwarnings(\"ignore\")"
   ]
  },
  {
   "cell_type": "markdown",
   "id": "fce0441a",
   "metadata": {},
   "source": [
    "### Load pre-trained hospital models into dictionary `hospital2model` \n",
    "\n",
    "keys = hospitals\n",
    "\n",
    "values = trained_classifier, threshold, patients, outcomes\n",
    "\n",
    "Note: patients is a numpy array. "
   ]
  },
  {
   "cell_type": "code",
   "execution_count": 2,
   "id": "f6e16911",
   "metadata": {},
   "outputs": [],
   "source": [
    "with open ('./models/trained_hospital_models_for _cohort.pkl', 'rb') as f:\n",
    "    \n",
    "    hospital2model = pkl.load(f)"
   ]
  },
  {
   "cell_type": "markdown",
   "id": "5d976937",
   "metadata": {},
   "source": [
    "### Select a hospital for investigation "
   ]
  },
  {
   "cell_type": "code",
   "execution_count": 3,
   "id": "4f4bb860",
   "metadata": {},
   "outputs": [
    {
     "data": {
      "text/plain": [
       "'TPFFP4410O'"
      ]
     },
     "execution_count": 3,
     "metadata": {},
     "output_type": "execute_result"
    }
   ],
   "source": [
    "hospital = list(hospital2model.keys())[1]\n",
    "hospital"
   ]
  },
  {
   "cell_type": "markdown",
   "id": "0d8bc208",
   "metadata": {},
   "source": [
    "### Load test cohort and extract hospital patients "
   ]
  },
  {
   "cell_type": "code",
   "execution_count": 4,
   "id": "e13c8f74",
   "metadata": {},
   "outputs": [],
   "source": [
    "cohort = pd.read_csv('../data/10k_training_test/cohort_10000_test.csv')\n",
    "\n",
    "test_patients_df = cohort.loc[cohort['StrokeTeam']==hospital]"
   ]
  },
  {
   "cell_type": "code",
   "execution_count": 5,
   "id": "76cced3b",
   "metadata": {},
   "outputs": [
    {
     "data": {
      "text/html": [
       "<div>\n",
       "<style scoped>\n",
       "    .dataframe tbody tr th:only-of-type {\n",
       "        vertical-align: middle;\n",
       "    }\n",
       "\n",
       "    .dataframe tbody tr th {\n",
       "        vertical-align: top;\n",
       "    }\n",
       "\n",
       "    .dataframe thead th {\n",
       "        text-align: right;\n",
       "    }\n",
       "</style>\n",
       "<table border=\"1\" class=\"dataframe\">\n",
       "  <thead>\n",
       "    <tr style=\"text-align: right;\">\n",
       "      <th></th>\n",
       "      <th>StrokeTeam</th>\n",
       "      <th>S1AgeOnArrival</th>\n",
       "      <th>S1OnsetToArrival_min</th>\n",
       "      <th>S2RankinBeforeStroke</th>\n",
       "      <th>Loc</th>\n",
       "      <th>LocQuestions</th>\n",
       "      <th>LocCommands</th>\n",
       "      <th>BestGaze</th>\n",
       "      <th>Visual</th>\n",
       "      <th>FacialPalsy</th>\n",
       "      <th>...</th>\n",
       "      <th>S2NewAFDiagnosis_Yes</th>\n",
       "      <th>S2NewAFDiagnosis_missing</th>\n",
       "      <th>S2StrokeType_Infarction</th>\n",
       "      <th>S2StrokeType_Primary Intracerebral Haemorrhage</th>\n",
       "      <th>S2StrokeType_missing</th>\n",
       "      <th>S2TIAInLastMonth_No</th>\n",
       "      <th>S2TIAInLastMonth_No but</th>\n",
       "      <th>S2TIAInLastMonth_Yes</th>\n",
       "      <th>S2TIAInLastMonth_missing</th>\n",
       "      <th>S2Thrombolysis</th>\n",
       "    </tr>\n",
       "  </thead>\n",
       "  <tbody>\n",
       "    <tr>\n",
       "      <th>105</th>\n",
       "      <td>TPFFP4410O</td>\n",
       "      <td>72.5</td>\n",
       "      <td>68.0</td>\n",
       "      <td>2</td>\n",
       "      <td>2</td>\n",
       "      <td>2.0</td>\n",
       "      <td>2.0</td>\n",
       "      <td>0.0</td>\n",
       "      <td>2.0</td>\n",
       "      <td>2.0</td>\n",
       "      <td>...</td>\n",
       "      <td>0</td>\n",
       "      <td>1</td>\n",
       "      <td>0</td>\n",
       "      <td>1</td>\n",
       "      <td>0</td>\n",
       "      <td>0</td>\n",
       "      <td>0</td>\n",
       "      <td>0</td>\n",
       "      <td>1</td>\n",
       "      <td>0</td>\n",
       "    </tr>\n",
       "    <tr>\n",
       "      <th>720</th>\n",
       "      <td>TPFFP4410O</td>\n",
       "      <td>87.5</td>\n",
       "      <td>108.0</td>\n",
       "      <td>0</td>\n",
       "      <td>3</td>\n",
       "      <td>2.0</td>\n",
       "      <td>2.0</td>\n",
       "      <td>2.0</td>\n",
       "      <td>3.0</td>\n",
       "      <td>3.0</td>\n",
       "      <td>...</td>\n",
       "      <td>0</td>\n",
       "      <td>1</td>\n",
       "      <td>0</td>\n",
       "      <td>1</td>\n",
       "      <td>0</td>\n",
       "      <td>0</td>\n",
       "      <td>0</td>\n",
       "      <td>0</td>\n",
       "      <td>1</td>\n",
       "      <td>0</td>\n",
       "    </tr>\n",
       "    <tr>\n",
       "      <th>759</th>\n",
       "      <td>TPFFP4410O</td>\n",
       "      <td>82.5</td>\n",
       "      <td>131.0</td>\n",
       "      <td>4</td>\n",
       "      <td>1</td>\n",
       "      <td>2.0</td>\n",
       "      <td>2.0</td>\n",
       "      <td>0.0</td>\n",
       "      <td>0.0</td>\n",
       "      <td>1.0</td>\n",
       "      <td>...</td>\n",
       "      <td>0</td>\n",
       "      <td>0</td>\n",
       "      <td>1</td>\n",
       "      <td>0</td>\n",
       "      <td>0</td>\n",
       "      <td>0</td>\n",
       "      <td>0</td>\n",
       "      <td>0</td>\n",
       "      <td>1</td>\n",
       "      <td>0</td>\n",
       "    </tr>\n",
       "    <tr>\n",
       "      <th>779</th>\n",
       "      <td>TPFFP4410O</td>\n",
       "      <td>57.5</td>\n",
       "      <td>145.0</td>\n",
       "      <td>0</td>\n",
       "      <td>0</td>\n",
       "      <td>0.0</td>\n",
       "      <td>0.0</td>\n",
       "      <td>0.0</td>\n",
       "      <td>0.0</td>\n",
       "      <td>2.0</td>\n",
       "      <td>...</td>\n",
       "      <td>0</td>\n",
       "      <td>1</td>\n",
       "      <td>1</td>\n",
       "      <td>0</td>\n",
       "      <td>0</td>\n",
       "      <td>0</td>\n",
       "      <td>0</td>\n",
       "      <td>0</td>\n",
       "      <td>1</td>\n",
       "      <td>1</td>\n",
       "    </tr>\n",
       "    <tr>\n",
       "      <th>898</th>\n",
       "      <td>TPFFP4410O</td>\n",
       "      <td>67.5</td>\n",
       "      <td>162.0</td>\n",
       "      <td>1</td>\n",
       "      <td>0</td>\n",
       "      <td>0.0</td>\n",
       "      <td>0.0</td>\n",
       "      <td>1.0</td>\n",
       "      <td>2.0</td>\n",
       "      <td>3.0</td>\n",
       "      <td>...</td>\n",
       "      <td>0</td>\n",
       "      <td>0</td>\n",
       "      <td>1</td>\n",
       "      <td>0</td>\n",
       "      <td>0</td>\n",
       "      <td>0</td>\n",
       "      <td>0</td>\n",
       "      <td>0</td>\n",
       "      <td>1</td>\n",
       "      <td>1</td>\n",
       "    </tr>\n",
       "  </tbody>\n",
       "</table>\n",
       "<p>5 rows × 101 columns</p>\n",
       "</div>"
      ],
      "text/plain": [
       "     StrokeTeam  S1AgeOnArrival  S1OnsetToArrival_min  S2RankinBeforeStroke  \\\n",
       "105  TPFFP4410O            72.5                  68.0                     2   \n",
       "720  TPFFP4410O            87.5                 108.0                     0   \n",
       "759  TPFFP4410O            82.5                 131.0                     4   \n",
       "779  TPFFP4410O            57.5                 145.0                     0   \n",
       "898  TPFFP4410O            67.5                 162.0                     1   \n",
       "\n",
       "     Loc  LocQuestions  LocCommands  BestGaze  Visual  FacialPalsy  ...  \\\n",
       "105    2           2.0          2.0       0.0     2.0          2.0  ...   \n",
       "720    3           2.0          2.0       2.0     3.0          3.0  ...   \n",
       "759    1           2.0          2.0       0.0     0.0          1.0  ...   \n",
       "779    0           0.0          0.0       0.0     0.0          2.0  ...   \n",
       "898    0           0.0          0.0       1.0     2.0          3.0  ...   \n",
       "\n",
       "     S2NewAFDiagnosis_Yes  S2NewAFDiagnosis_missing  S2StrokeType_Infarction  \\\n",
       "105                     0                         1                        0   \n",
       "720                     0                         1                        0   \n",
       "759                     0                         0                        1   \n",
       "779                     0                         1                        1   \n",
       "898                     0                         0                        1   \n",
       "\n",
       "     S2StrokeType_Primary Intracerebral Haemorrhage  S2StrokeType_missing  \\\n",
       "105                                               1                     0   \n",
       "720                                               1                     0   \n",
       "759                                               0                     0   \n",
       "779                                               0                     0   \n",
       "898                                               0                     0   \n",
       "\n",
       "     S2TIAInLastMonth_No  S2TIAInLastMonth_No but  S2TIAInLastMonth_Yes  \\\n",
       "105                    0                        0                     0   \n",
       "720                    0                        0                     0   \n",
       "759                    0                        0                     0   \n",
       "779                    0                        0                     0   \n",
       "898                    0                        0                     0   \n",
       "\n",
       "     S2TIAInLastMonth_missing  S2Thrombolysis  \n",
       "105                         1               0  \n",
       "720                         1               0  \n",
       "759                         1               0  \n",
       "779                         1               1  \n",
       "898                         1               1  \n",
       "\n",
       "[5 rows x 101 columns]"
      ]
     },
     "execution_count": 5,
     "metadata": {},
     "output_type": "execute_result"
    }
   ],
   "source": [
    "test_patients_df.head(5)"
   ]
  },
  {
   "cell_type": "markdown",
   "id": "cb4c81e3",
   "metadata": {},
   "source": [
    "## Misclassifications"
   ]
  },
  {
   "cell_type": "markdown",
   "id": "52c377d2",
   "metadata": {},
   "source": [
    "If a patient is misclassified by the hospital model for the hospital that they attended, this suggests there is a patient in the data set used to train the model that is similar yet was treated differently"
   ]
  },
  {
   "cell_type": "markdown",
   "id": "8a531ac7",
   "metadata": {},
   "source": [
    "### Find misclassified patients in test cohort"
   ]
  },
  {
   "cell_type": "code",
   "execution_count": 6,
   "id": "0ea924ed",
   "metadata": {},
   "outputs": [],
   "source": [
    "forest, threshold, _, _ = hospital2model[hospital]"
   ]
  },
  {
   "cell_type": "code",
   "execution_count": 7,
   "id": "26a71ae2",
   "metadata": {},
   "outputs": [],
   "source": [
    "y_test = test_patients_df['S2Thrombolysis'].values\n",
    "X_test = test_patients_df.drop(['StrokeTeam', 'S2Thrombolysis'], axis=1).values\n",
    "\n",
    "y_prob = forest.predict_proba(X_test)[:,1]\n",
    "y_pred = np.array([1 if p >= threshold else 0 for p in y_prob])"
   ]
  },
  {
   "cell_type": "code",
   "execution_count": 8,
   "id": "b607510d",
   "metadata": {},
   "outputs": [
    {
     "data": {
      "text/plain": [
       "array([ 8, 16, 17, 20, 21, 22, 33, 39])"
      ]
     },
     "execution_count": 8,
     "metadata": {},
     "output_type": "execute_result"
    }
   ],
   "source": [
    "misclassified = np.where(y_pred!=y_test)[0]\n",
    "misclassified"
   ]
  },
  {
   "cell_type": "markdown",
   "id": "d029378b",
   "metadata": {},
   "source": [
    "### Posterior probability distribution"
   ]
  },
  {
   "cell_type": "code",
   "execution_count": 9,
   "id": "4426c533",
   "metadata": {},
   "outputs": [
    {
     "data": {
      "image/png": "[encoded data removed]",
      "text/plain": [
       "<Figure size 432x288 with 1 Axes>"
      ]
     },
     "metadata": {
      "needs_background": "light"
     },
     "output_type": "display_data"
    }
   ],
   "source": [
    "probs = y_prob[misclassified]\n",
    "\n",
    "plt.hist(probs, 5, width=0.07)\n",
    "\n",
    "plt.show()"
   ]
  },
  {
   "cell_type": "markdown",
   "id": "2fb002d9",
   "metadata": {},
   "source": [
    "## Similarity Metric "
   ]
  },
  {
   "cell_type": "markdown",
   "id": "2a716699",
   "metadata": {},
   "source": [
    "When a decision tree is fit to the training data, each internal node in the tree will be split into two further nodes based on the feature that maximises the information gain (or minimises the entropy). Once a split results in two nodes that are pure (only containing samples from a single class) no further information gain is possible: the two nodes are leaves, representing the ends of two paths through the tree. As each patient can take only one path through the decision tree, and all patients start in the same node (the root node), we can use these paths to find the similarity between any pair of patients:\n",
    "\n",
    "\n",
    "$S(i,j) = \\frac{P(i,j)}{\\sqrt{P(i)P(j)}}$.\n",
    "\n",
    "\n",
    "Here, $S(i,j)$ represents the similarity between patient $i$ and patient $j$ as a function of each patient's path, $P$, through the decision tree, where $P(i)$ correspond to the path length of patient $i$, $P(j)$ the path length of $j$ and $P(i,j)$ the length of the shared path of $i$ and $j$. \n",
    "\n",
    "Path length is measured using the information gain (change in entropy) at each split. Consider patient $z$, who takes a path through the decision tree which is comprised of a set of $N$ nodes, each passed sequentially and with index $n \\in [1,N]$, where $n=1$ represents the root node and $n=N$ the leaf node. If each node with index $n$ has $X_n$ patients passing through it, the length of the path of patient $z$, $P(z)$, is given by:\n",
    "\n",
    "\n",
    "$P(z)= \\sum_{n=1}^{N-1} X_{n+1} (H_n - H_{n+1} \\frac{X_{n+1}}{X_n})$, \n",
    "\n",
    "\n",
    "where $H_n$ is the entropy at node $n$ and the information gain at each split has been weighted by $X_{n+1}$, the total number of patients that move from node $n$ to node $n+1$.\n",
    "\n",
    "From the second equation it is clear that if patients $i$ and $j$ take exactly the same path through the decision tree their path lengths are equal: $P(i) = P(j) = P(i,j)$. Substituting this into the first equation it is clear that if two patients take identical paths the similarity between them is one. Conversely, if patients $i$ and $j$ diverge at the root node ($n=1$), their shared path contains only this node: $P(i,j) = 0$ and hence the similarity between them is equal to zero.\n",
    "\n",
    "As a random forest is composed of many decision trees, for each pair of patients we take the distance between them as the average over all trees in the forest. Using this measure of similarity, for each patient in each hospital we found the most similar patients that are treated differently."
   ]
  },
  {
   "cell_type": "markdown",
   "id": "5696b0d3",
   "metadata": {},
   "source": [
    "### Functions "
   ]
  },
  {
   "cell_type": "markdown",
   "id": "9c304fc7",
   "metadata": {},
   "source": [
    "####  Node weights"
   ]
  },
  {
   "cell_type": "code",
   "execution_count": 10,
   "id": "b17b9b22",
   "metadata": {},
   "outputs": [],
   "source": [
    "def find_information_gain(X_train, y_train, estimator):\n",
    "    \n",
    "    \"\"\"\n",
    "    Function to find the information gain for each branch in a tree\n",
    "    \n",
    "    Input\n",
    "    \n",
    "    X_train: (numpy array) features used to train the DecisionTree classifier\n",
    "    y_train: (numpy array) target used to train the DecisionTree classifier\n",
    "    estimator: (sklearn model) trained DecisionTree classifier\n",
    "    \n",
    "    Output\n",
    "    \n",
    "    info_gain: (numpy array) information gain associated with move to child \n",
    "                             node (node i) from parent node.\n",
    "    \"\"\"\n",
    "    \n",
    "    \n",
    "    # claculate the entropy of each node\n",
    "    \n",
    "    y_true = np.where(y_train==1)\n",
    "    y_false = np.where(y_train==0)\n",
    "    \n",
    "    X_true = X_train[y_true]\n",
    "    X_false = X_train[y_false]\n",
    "    \n",
    "    node_indicator_false = estimator.decision_path(X_false).toarray()\n",
    "    node_indicator_true = estimator.decision_path(X_true).toarray()\n",
    "    \n",
    "    total_passing_true = node_indicator_true.sum(axis=0)\n",
    "    total_passing_false = node_indicator_false.sum(axis=0)\n",
    "    \n",
    "    n_nodes = len(total_passing_true)\n",
    "    \n",
    "    entropies = np.zeros(n_nodes)\n",
    "    \n",
    "    left_child = estimator.tree_.children_left\n",
    "    right_child = estimator.tree_.children_right\n",
    "    \n",
    "    for i in range(n_nodes):\n",
    "        \n",
    "        true = total_passing_true[i]\n",
    "        false = total_passing_false[i]\n",
    "        \n",
    "        if true==0 and false==0:\n",
    "            \n",
    "            print('Node Not Passed')\n",
    "            \n",
    "            continue\n",
    "            \n",
    "        if true==0 or false==0:\n",
    "            \n",
    "            entropies[i] = 0\n",
    "            \n",
    "        else:\n",
    "            \n",
    "            entropies[i] = -(true/(true+false)) * np.log2(true/(true+false)) \\\n",
    "                            - (false/(true+false))*np.log2(false/(true+false))\n",
    "        \n",
    "\n",
    "            \n",
    "    # use the entropy to calculate the information gain for each node\n",
    "            \n",
    "    info_gain = np.zeros(n_nodes)\n",
    "    \n",
    "    \n",
    "    total_passing = estimator.decision_path(X_train).toarray().sum(axis=0)\n",
    "    \n",
    "    for i in range(1,n_nodes):\n",
    "        \n",
    "\n",
    "        loc_left = np.where(left_child==i)[0]\n",
    "        loc_right = np.where(right_child==i)[0]\n",
    "        \n",
    "        if len(loc_left==1):\n",
    "            \n",
    "            parent = loc_left[0]\n",
    "            \n",
    "            \n",
    "        elif len(loc_right==1):\n",
    "            \n",
    "            parent = loc_right[0]\n",
    "            \n",
    "        else:\n",
    "            \n",
    "            raise Exception(\"Cant find parent\")\n",
    "            \n",
    "            \n",
    "        info_gain[i] = entropies[parent] - \\\n",
    "                        total_passing[i]*entropies[i]/total_passing[parent]\n",
    "\n",
    "    \n",
    "        \n",
    "    return info_gain"
   ]
  },
  {
   "cell_type": "code",
   "execution_count": 11,
   "id": "17787553",
   "metadata": {},
   "outputs": [],
   "source": [
    "def find_node_weight(X_train, y_train, estimator):\n",
    "    \n",
    "    \"\"\"\n",
    "    Function to find the weight of a node. Weight is defined as the product\n",
    "    of the number of data points passing the node (flow) and the information\n",
    "    gain at the node.\n",
    "    \n",
    "    Input\n",
    "    \n",
    "    X_train: (numpy array) features used to train the DecisionTree classifier\n",
    "    y_train: (numpy array) target used to train the DecisionTree classifier\n",
    "    estimator: (sklearn model) trained DecisionTree classifier\n",
    "    \n",
    "    Output\n",
    "    \n",
    "    weight: (numpy array) weight (flows * info_gain) of each node\n",
    "    \n",
    "    \"\"\"\n",
    "    \n",
    "    node_indicator = estimator.decision_path(X_train).toarray()\n",
    "    \n",
    "    flows = node_indicator.sum(axis=0)\n",
    "\n",
    "    info_gain = find_information_gain(X_train, y_train, estimator)\n",
    "    \n",
    "    if len(flows) != len(info_gain):\n",
    "        \n",
    "        raise Exception(\"Length mismatch\")\n",
    "        \n",
    "    return flows*info_gain"
   ]
  },
  {
   "cell_type": "code",
   "execution_count": 12,
   "id": "f3d67081",
   "metadata": {},
   "outputs": [],
   "source": [
    "def find_forest_weight(X_train, y_train, forest):\n",
    "    \n",
    "    trees = forest.estimators_\n",
    "    \n",
    "    results = []\n",
    "    \n",
    "    for i,estimator in enumerate(trees):\n",
    "        \n",
    "        weight = find_node_weight(X_train, y_train, estimator)\n",
    "        \n",
    "        results.append(weight)\n",
    "        \n",
    "    return np.array(results)"
   ]
  },
  {
   "cell_type": "markdown",
   "id": "663f9cef",
   "metadata": {},
   "source": [
    "#### Caclulate Similarity "
   ]
  },
  {
   "cell_type": "code",
   "execution_count": 13,
   "id": "f9a56351",
   "metadata": {},
   "outputs": [],
   "source": [
    "def find_similar_patients_tree(patient, test_set, estimator, weights):\n",
    "    \n",
    "    \"\"\"\n",
    "    Function to calculate the similarity between a single patient and all other\n",
    "    patients in a data set using a single DecisionTree classifier\n",
    "    \n",
    "    Input\n",
    "    \n",
    "    patient:    index of comparison patient in test_set\n",
    "    test_set:   sub-set of n data points unseen by estimator. Must include \n",
    "                patient\n",
    "    estimator:  trained sklearn DecisionTreeClassifier\n",
    "    weights:    array of length n-nodes. \n",
    "    \n",
    "    Output\n",
    "    \n",
    "    similarity: (n-dim array) index of patients and similarity\n",
    "    \n",
    "    \"\"\"\n",
    "    \n",
    "    similarity = np.zeros(test_set.shape[0])\n",
    "    \n",
    "    paths = estimator.decision_path(test_set)\n",
    "    \n",
    "    patient_nodes = paths.toarray()[patient]\n",
    "    \n",
    "    for n in range(test_set.shape[0]):\n",
    "        \n",
    "        sample_ids = [patient, n]\n",
    "        \n",
    "        patient_paths = paths.toarray()[sample_ids]\n",
    "    \n",
    "        common_nodes = (patient_paths.sum(axis=0) ==\n",
    "                    len(sample_ids))\n",
    "        \n",
    "        common_node_weights = weights[common_nodes]\n",
    "        \n",
    "        path_length = sum(common_node_weights)\n",
    "        \n",
    "        p0_path_length = sum(patient_paths[0]*weights)\n",
    "        p1_path_length = sum(patient_paths[1]*weights)\n",
    "        \n",
    "        similar = path_length / np.sqrt(p0_path_length*p1_path_length)\n",
    "        \n",
    "        similarity[n] = similar\n",
    "        \n",
    "    return similarity"
   ]
  },
  {
   "cell_type": "code",
   "execution_count": 14,
   "id": "6492ca30",
   "metadata": {},
   "outputs": [],
   "source": [
    "def find_similar_patients(patient, test_set, forest, weights):\n",
    "    \n",
    "    \"\"\"\n",
    "    Function to calculate the similarity between a single patient and all other\n",
    "    patients in a data set using a RandomForest classifier\n",
    "    \n",
    "    Input\n",
    "    \n",
    "    patient:    index of comparison patient in test_set\n",
    "    test_set:   sub-set of n data points unseen by estimator. Must include \n",
    "                patient\n",
    "    forest:     trained sklearn RandomForestClassifier\n",
    "    weights:    array of length n-nodes. \n",
    "    \n",
    "    Output\n",
    "    \n",
    "    results: (n-dim array) similarity between patient and test_set for each tree\n",
    "                           in the RandomForest classifier  \n",
    "    \"\"\"\n",
    "    \n",
    "    trees = forest.estimators_\n",
    "    \n",
    "    results = np.zeros((len(trees), test_set.shape[0]))\n",
    "    \n",
    "    for i,estimator in enumerate(trees):\n",
    "        \n",
    "        similarity = find_similar_patients_tree(patient, test_set, estimator, weights[i])\n",
    "        \n",
    "        results[i] = similarity\n",
    "        \n",
    "    return results"
   ]
  },
  {
   "cell_type": "markdown",
   "id": "96f7229e",
   "metadata": {},
   "source": [
    "### Example hospital "
   ]
  },
  {
   "cell_type": "code",
   "execution_count": 15,
   "id": "f314c40a",
   "metadata": {},
   "outputs": [],
   "source": [
    "forest, threshold, train_patients, train_outcomes = hospital2model[hospital]"
   ]
  },
  {
   "cell_type": "code",
   "execution_count": 16,
   "id": "47ccace8",
   "metadata": {},
   "outputs": [],
   "source": [
    "weights = find_forest_weight(train_patients, train_outcomes, forest)"
   ]
  },
  {
   "cell_type": "code",
   "execution_count": 17,
   "id": "7ad40b9a",
   "metadata": {},
   "outputs": [
    {
     "data": {
      "text/plain": [
       "(100,)"
      ]
     },
     "execution_count": 17,
     "metadata": {},
     "output_type": "execute_result"
    }
   ],
   "source": [
    "weights.shape"
   ]
  },
  {
   "cell_type": "markdown",
   "id": "0faaa68d",
   "metadata": {},
   "source": [
    "### Pairwise similarity "
   ]
  },
  {
   "cell_type": "code",
   "execution_count": 18,
   "id": "13ba14c2",
   "metadata": {},
   "outputs": [],
   "source": [
    "test_patients = test_patients_df.drop(['StrokeTeam', 'S2Thrombolysis'], axis=1).values\n",
    "test_outcomes = test_patients_df['S2Thrombolysis'].values"
   ]
  },
  {
   "cell_type": "code",
   "execution_count": 19,
   "id": "5e25ef1f",
   "metadata": {},
   "outputs": [],
   "source": [
    "similarity = find_similar_patients(0, test_patients, forest, weights)"
   ]
  },
  {
   "cell_type": "code",
   "execution_count": 20,
   "id": "e3acbaf6",
   "metadata": {},
   "outputs": [
    {
     "data": {
      "text/plain": [
       "(100, 42)"
      ]
     },
     "execution_count": 20,
     "metadata": {},
     "output_type": "execute_result"
    }
   ],
   "source": [
    "similarity.shape"
   ]
  },
  {
   "cell_type": "markdown",
   "id": "a4bf3081",
   "metadata": {},
   "source": [
    "`similarity` contains one row for each decision tree in the random forest classifier. Each row contains the pairwise similarity between `patient` and all other patients. \n",
    "\n",
    "Note that the similarity between `patient` and itself (in this case, element `0` of each row) is always equal to 1."
   ]
  },
  {
   "cell_type": "code",
   "execution_count": 21,
   "id": "ada9719c",
   "metadata": {},
   "outputs": [],
   "source": [
    "# average similarity across all trees\n",
    "results = similarity.sum(axis=0)/100"
   ]
  },
  {
   "cell_type": "code",
   "execution_count": 22,
   "id": "8eb88182",
   "metadata": {},
   "outputs": [
    {
     "data": {
      "text/plain": [
       "array([1.        , 0.41878349, 0.41385524, 0.30315102, 0.28188906,\n",
       "       0.31645625, 0.44306756, 0.17333223, 0.35602158, 0.46386653,\n",
       "       0.2490115 , 0.33010815, 0.50437351, 0.12329451, 0.17538473,\n",
       "       0.19784455, 0.35274581, 0.29956862, 0.29864365, 0.2882998 ,\n",
       "       0.18215119, 0.39094488, 0.35923549, 0.39327842, 0.41762123,\n",
       "       0.48577199, 0.11948557, 0.21997094, 0.40880923, 0.50791922,\n",
       "       0.38785235, 0.30787927, 0.53550742, 0.42006776, 0.23841425,\n",
       "       0.3628097 , 0.20345056, 0.33015945, 0.16756539, 0.24487966,\n",
       "       0.16356513, 0.29071159])"
      ]
     },
     "execution_count": 22,
     "metadata": {},
     "output_type": "execute_result"
    }
   ],
   "source": [
    "results"
   ]
  },
  {
   "cell_type": "markdown",
   "id": "18c51af6",
   "metadata": {},
   "source": [
    "## Most similar patients with a different outcome "
   ]
  },
  {
   "cell_type": "markdown",
   "id": "ad6ccf03",
   "metadata": {},
   "source": [
    "### Identify patients with a predicted outcome different to their true outcome"
   ]
  },
  {
   "cell_type": "code",
   "execution_count": 23,
   "id": "c48eafbb",
   "metadata": {},
   "outputs": [],
   "source": [
    "predicted_outcome = forest.predict(test_patients)\n",
    "\n",
    "patient_index = np.where(predicted_outcome!=test_outcomes)[0]"
   ]
  },
  {
   "cell_type": "code",
   "execution_count": 24,
   "id": "4268bca3",
   "metadata": {},
   "outputs": [
    {
     "data": {
      "text/plain": [
       "array([ 8, 17, 20, 29, 39])"
      ]
     },
     "execution_count": 24,
     "metadata": {},
     "output_type": "execute_result"
    }
   ],
   "source": [
    "patient_index"
   ]
  },
  {
   "cell_type": "markdown",
   "id": "b66b5c40",
   "metadata": {},
   "source": [
    "Show actual outcomes for patients:"
   ]
  },
  {
   "cell_type": "code",
   "execution_count": 25,
   "id": "d98feee8",
   "metadata": {},
   "outputs": [
    {
     "name": "stdout",
     "output_type": "stream",
     "text": [
      "Actual: [0, 1, 1, 1, 1]\n"
     ]
    }
   ],
   "source": [
    "actual = [test_outcomes[i] for i in patient_index]\n",
    "\n",
    "print ('Actual:', actual)"
   ]
  },
  {
   "cell_type": "markdown",
   "id": "a478ae9f",
   "metadata": {},
   "source": [
    "### For each patient, find 5 most similar patients with a different outcome in training set "
   ]
  },
  {
   "cell_type": "code",
   "execution_count": 26,
   "id": "8202ce5c",
   "metadata": {},
   "outputs": [
    {
     "name": "stdout",
     "output_type": "stream",
     "text": [
      "CPU times: user 7.32 s, sys: 0 ns, total: 7.32 s\n",
      "Wall time: 7.32 s\n"
     ]
    }
   ],
   "source": [
    "%%time\n",
    "\n",
    "most_similar = []\n",
    "\n",
    "for i in patient_index:\n",
    "    \n",
    "    patient = test_patients[i]\n",
    "    \n",
    "    outcome = test_outcomes[i]\n",
    "    \n",
    "    opposite = np.where(train_outcomes != outcome)[0]\n",
    "    \n",
    "\n",
    "    X = np.vstack((patient, train_patients[opposite]))\n",
    "    y = np.concatenate(([outcome], train_outcomes[opposite]))\n",
    "\n",
    "    results = find_similar_patients(0, X, forest, weights)\n",
    "            \n",
    "    summed_results = results.sum(axis=0)[1:] #remove similarity between patient and itself\n",
    "            \n",
    "    five_indices = np.argpartition(summed_results, -5)[-5:]\n",
    "\n",
    "    similar_patients = train_patients[opposite][five_indices]\n",
    "\n",
    "    S = summed_results[five_indices]\n",
    "\n",
    "    most_similar.append([S, summed_results, outcome, i, patient, similar_patients])\n",
    "        "
   ]
  },
  {
   "cell_type": "markdown",
   "id": "2d1b54a8",
   "metadata": {},
   "source": [
    "### Get feature importances for hospital "
   ]
  },
  {
   "cell_type": "code",
   "execution_count": 27,
   "id": "829aeb19",
   "metadata": {},
   "outputs": [],
   "source": [
    "features = cohort.drop(['StrokeTeam', 'S2Thrombolysis'], axis=1).columns.values\n",
    "importances = forest.feature_importances_"
   ]
  },
  {
   "cell_type": "markdown",
   "id": "118489c3",
   "metadata": {},
   "source": [
    "## Example where thrombolysis was not given when expected"
   ]
  },
  {
   "cell_type": "code",
   "execution_count": 28,
   "id": "05c15010",
   "metadata": {},
   "outputs": [],
   "source": [
    "patient_of_interest = 0"
   ]
  },
  {
   "cell_type": "markdown",
   "id": "9b3a67b6",
   "metadata": {},
   "source": [
    "### Create dataframe for patient"
   ]
  },
  {
   "cell_type": "code",
   "execution_count": 29,
   "id": "483c51ed",
   "metadata": {},
   "outputs": [],
   "source": [
    "S, _, _, _, patient, similar_patients = most_similar[patient_of_interest]"
   ]
  },
  {
   "cell_type": "code",
   "execution_count": 30,
   "id": "211db419",
   "metadata": {},
   "outputs": [
    {
     "data": {
      "text/plain": [
       "array([0, 1, 3, 4, 2])"
      ]
     },
     "execution_count": 30,
     "metadata": {},
     "output_type": "execute_result"
    }
   ],
   "source": [
    "S_index = np.argsort(S)\n",
    "S_index"
   ]
  },
  {
   "cell_type": "code",
   "execution_count": 31,
   "id": "ef8779ef",
   "metadata": {},
   "outputs": [],
   "source": [
    "patient_df = pd.DataFrame(index = features)\n",
    "patient_df['Importance'] = importances\n",
    "patient_df['Patient'] = patient\n",
    "\n",
    "for i,s in enumerate(S_index):\n",
    "    \n",
    "    patient_df[str(i+1)] = similar_patients[s]"
   ]
  },
  {
   "cell_type": "markdown",
   "id": "1e08e6e4",
   "metadata": {},
   "source": [
    "### Sort dataframe according to feature importance "
   ]
  },
  {
   "cell_type": "code",
   "execution_count": 32,
   "id": "c0912e6a",
   "metadata": {},
   "outputs": [
    {
     "data": {
      "text/html": [
       "<div>\n",
       "<style scoped>\n",
       "    .dataframe tbody tr th:only-of-type {\n",
       "        vertical-align: middle;\n",
       "    }\n",
       "\n",
       "    .dataframe tbody tr th {\n",
       "        vertical-align: top;\n",
       "    }\n",
       "\n",
       "    .dataframe thead th {\n",
       "        text-align: right;\n",
       "    }\n",
       "</style>\n",
       "<table border=\"1\" class=\"dataframe\">\n",
       "  <thead>\n",
       "    <tr style=\"text-align: right;\">\n",
       "      <th></th>\n",
       "      <th>Patient</th>\n",
       "      <th>1</th>\n",
       "      <th>2</th>\n",
       "      <th>3</th>\n",
       "      <th>4</th>\n",
       "      <th>5</th>\n",
       "    </tr>\n",
       "  </thead>\n",
       "  <tbody>\n",
       "    <tr>\n",
       "      <th>S2BrainImagingTime_min</th>\n",
       "      <td>23.0</td>\n",
       "      <td>19.0</td>\n",
       "      <td>11.0</td>\n",
       "      <td>33.0</td>\n",
       "      <td>30.0</td>\n",
       "      <td>12.0</td>\n",
       "    </tr>\n",
       "    <tr>\n",
       "      <th>S2NihssArrival</th>\n",
       "      <td>4.0</td>\n",
       "      <td>5.0</td>\n",
       "      <td>6.0</td>\n",
       "      <td>9.0</td>\n",
       "      <td>6.0</td>\n",
       "      <td>8.0</td>\n",
       "    </tr>\n",
       "    <tr>\n",
       "      <th>S1OnsetToArrival_min</th>\n",
       "      <td>83.0</td>\n",
       "      <td>149.0</td>\n",
       "      <td>134.0</td>\n",
       "      <td>121.0</td>\n",
       "      <td>79.0</td>\n",
       "      <td>82.0</td>\n",
       "    </tr>\n",
       "    <tr>\n",
       "      <th>S2StrokeType_Primary Intracerebral Haemorrhage</th>\n",
       "      <td>0.0</td>\n",
       "      <td>0.0</td>\n",
       "      <td>0.0</td>\n",
       "      <td>0.0</td>\n",
       "      <td>0.0</td>\n",
       "      <td>0.0</td>\n",
       "    </tr>\n",
       "    <tr>\n",
       "      <th>S2RankinBeforeStroke</th>\n",
       "      <td>0.0</td>\n",
       "      <td>0.0</td>\n",
       "      <td>0.0</td>\n",
       "      <td>0.0</td>\n",
       "      <td>1.0</td>\n",
       "      <td>0.0</td>\n",
       "    </tr>\n",
       "    <tr>\n",
       "      <th>...</th>\n",
       "      <td>...</td>\n",
       "      <td>...</td>\n",
       "      <td>...</td>\n",
       "      <td>...</td>\n",
       "      <td>...</td>\n",
       "      <td>...</td>\n",
       "    </tr>\n",
       "    <tr>\n",
       "      <th>AFAnticoagulentHeparin_Yes</th>\n",
       "      <td>0.0</td>\n",
       "      <td>0.0</td>\n",
       "      <td>0.0</td>\n",
       "      <td>0.0</td>\n",
       "      <td>0.0</td>\n",
       "      <td>0.0</td>\n",
       "    </tr>\n",
       "    <tr>\n",
       "      <th>S1OnsetInHospital_Yes</th>\n",
       "      <td>0.0</td>\n",
       "      <td>0.0</td>\n",
       "      <td>0.0</td>\n",
       "      <td>0.0</td>\n",
       "      <td>0.0</td>\n",
       "      <td>0.0</td>\n",
       "    </tr>\n",
       "    <tr>\n",
       "      <th>S1OnsetInHospital_No</th>\n",
       "      <td>1.0</td>\n",
       "      <td>1.0</td>\n",
       "      <td>1.0</td>\n",
       "      <td>1.0</td>\n",
       "      <td>1.0</td>\n",
       "      <td>1.0</td>\n",
       "    </tr>\n",
       "    <tr>\n",
       "      <th>S1Ethnicity_Mixed</th>\n",
       "      <td>0.0</td>\n",
       "      <td>0.0</td>\n",
       "      <td>0.0</td>\n",
       "      <td>0.0</td>\n",
       "      <td>0.0</td>\n",
       "      <td>0.0</td>\n",
       "    </tr>\n",
       "    <tr>\n",
       "      <th>S1OnsetTimeType_Not known</th>\n",
       "      <td>0.0</td>\n",
       "      <td>0.0</td>\n",
       "      <td>0.0</td>\n",
       "      <td>0.0</td>\n",
       "      <td>0.0</td>\n",
       "      <td>0.0</td>\n",
       "    </tr>\n",
       "  </tbody>\n",
       "</table>\n",
       "<p>99 rows × 6 columns</p>\n",
       "</div>"
      ],
      "text/plain": [
       "                                                Patient      1      2      3  \\\n",
       "S2BrainImagingTime_min                             23.0   19.0   11.0   33.0   \n",
       "S2NihssArrival                                      4.0    5.0    6.0    9.0   \n",
       "S1OnsetToArrival_min                               83.0  149.0  134.0  121.0   \n",
       "S2StrokeType_Primary Intracerebral Haemorrhage      0.0    0.0    0.0    0.0   \n",
       "S2RankinBeforeStroke                                0.0    0.0    0.0    0.0   \n",
       "...                                                 ...    ...    ...    ...   \n",
       "AFAnticoagulentHeparin_Yes                          0.0    0.0    0.0    0.0   \n",
       "S1OnsetInHospital_Yes                               0.0    0.0    0.0    0.0   \n",
       "S1OnsetInHospital_No                                1.0    1.0    1.0    1.0   \n",
       "S1Ethnicity_Mixed                                   0.0    0.0    0.0    0.0   \n",
       "S1OnsetTimeType_Not known                           0.0    0.0    0.0    0.0   \n",
       "\n",
       "                                                   4     5  \n",
       "S2BrainImagingTime_min                          30.0  12.0  \n",
       "S2NihssArrival                                   6.0   8.0  \n",
       "S1OnsetToArrival_min                            79.0  82.0  \n",
       "S2StrokeType_Primary Intracerebral Haemorrhage   0.0   0.0  \n",
       "S2RankinBeforeStroke                             1.0   0.0  \n",
       "...                                              ...   ...  \n",
       "AFAnticoagulentHeparin_Yes                       0.0   0.0  \n",
       "S1OnsetInHospital_Yes                            0.0   0.0  \n",
       "S1OnsetInHospital_No                             1.0   1.0  \n",
       "S1Ethnicity_Mixed                                0.0   0.0  \n",
       "S1OnsetTimeType_Not known                        0.0   0.0  \n",
       "\n",
       "[99 rows x 6 columns]"
      ]
     },
     "execution_count": 32,
     "metadata": {},
     "output_type": "execute_result"
    }
   ],
   "source": [
    "patient_df = patient_df.sort_values(by='Importance', ascending=False)\n",
    "patient_df.drop(['Importance'], axis=1, inplace=True)\n",
    "patient_df.to_csv('./output/similar_patients_treated_differently_1.csv')\n",
    "\n",
    "patient_df"
   ]
  },
  {
   "cell_type": "markdown",
   "id": "af5231e6",
   "metadata": {},
   "source": [
    "### Rescale "
   ]
  },
  {
   "cell_type": "markdown",
   "id": "2ff60b2c",
   "metadata": {},
   "source": [
    "As some features, such as stroke to arrival time and age, have a much larger range than other features, we rescale them so that all features can be visualised on one axis"
   ]
  },
  {
   "cell_type": "code",
   "execution_count": 33,
   "id": "63089ac4",
   "metadata": {},
   "outputs": [],
   "source": [
    "def rescale(row, df, time=False, age=False):\n",
    "    \n",
    "    vals = df.iloc[row].values\n",
    "    \n",
    "    if len(set(vals))==1:\n",
    "        \n",
    "        rescaled=vals\n",
    "        \n",
    "    if time==True:\n",
    "        \n",
    "        rescaled=vals/60\n",
    "        \n",
    "    elif age==True:\n",
    "        \n",
    "        rescaled=vals/10\n",
    "    \n",
    "    else:\n",
    "        #rescaled = [(v - vals[0]) for v in vals]\n",
    "        rescaled = vals\n",
    "    \n",
    "    return rescaled"
   ]
  },
  {
   "cell_type": "code",
   "execution_count": 34,
   "id": "7bb89dd4",
   "metadata": {},
   "outputs": [],
   "source": [
    "rescaled_results = patient_df.copy()\n",
    "\n",
    "indx_list = rescaled_results.index.tolist()\n",
    "\n",
    "for i in range(len(rescaled_results)):\n",
    "    \n",
    "    indx = rescaled_results.index[i]\n",
    "    \n",
    "    if indx in ['S1OnsetToArrival_min']:#, 'S2BrainImagingTime_min']:\n",
    "        \n",
    "        rescaled = rescale(i,rescaled_results, time=True)\n",
    "        indx_list[i] = indx.split('_')[0] + '_hours'\n",
    "        \n",
    "    elif indx in ['S1AgeOnArrival']:\n",
    "        \n",
    "        rescaled = rescale(i,rescaled_results, age=True)\n",
    "        indx_list[i] = indx + '_decades'\n",
    "        \n",
    "    else:\n",
    "        rescaled = rescale(i,rescaled_results)\n",
    "    \n",
    "    rescaled_results.loc[indx]=rescaled\n",
    "    \n",
    "rescaled_results.index = indx_list"
   ]
  },
  {
   "cell_type": "markdown",
   "id": "543f73b9",
   "metadata": {},
   "source": [
    "### Plot "
   ]
  },
  {
   "cell_type": "code",
   "execution_count": 35,
   "id": "4a4cee5c",
   "metadata": {},
   "outputs": [
    {
     "data": {
      "image/png": "[encoded data removed]",
      "text/plain": [
       "<Figure size 576x576 with 1 Axes>"
      ]
     },
     "metadata": {
      "needs_background": "light"
     },
     "output_type": "display_data"
    }
   ],
   "source": [
    "rescaled_results.plot(kind='bar',  stacked=False, alpha=1, figsize=(8,8),\n",
    "                     xlabel='Feature', ylabel='Feature value')  \n",
    "\n",
    "plt.xlim(None,10.5)\n",
    "\n",
    "plt.tight_layout()\n",
    "\n",
    "plt.savefig('./figures/within_hospital_variability/5_similar_bar_patient_not_treated.jpg', dpi=300)\n",
    "plt.show()"
   ]
  },
  {
   "cell_type": "code",
   "execution_count": 36,
   "id": "6450df6c",
   "metadata": {},
   "outputs": [
    {
     "data": {
      "image/png": "[encoded data removed]",
      "text/plain": [
       "<Figure size 576x576 with 1 Axes>"
      ]
     },
     "metadata": {
      "needs_background": "light"
     },
     "output_type": "display_data"
    }
   ],
   "source": [
    "fig,ax = plt.subplots(figsize=(8,8))\n",
    "\n",
    "xvals = rescaled_results.index.values\n",
    "pvals = rescaled_results['Patient']\n",
    "mvals = [np.mean(rescaled_results.loc[feature].values[1:]) for feature in rescaled_results.index]\n",
    "lvals = [min(rescaled_results.loc[feature].values[1:]) for feature in rescaled_results.index]\n",
    "hvals = [max(rescaled_results.loc[feature].values[1:]) for feature in rescaled_results.index]\n",
    "\n",
    "plt.plot(xvals, mvals, 'r*', ms=10, label='Mean')\n",
    "plt.plot(xvals, lvals, 'b*', ms=10, label='Low')\n",
    "plt.plot(xvals, hvals, 'y*', ms=10, label='High')\n",
    "plt.plot(xvals, pvals, 'k*', ms=10, label='Patient')\n",
    "plt.fill_between(xvals, lvals, hvals, color='g', alpha=0.5)\n",
    "plt.xlim(-0.5,10.5)\n",
    "plt.xticks(rotation=90)\n",
    "plt.legend(loc='best')\n",
    "ax.set_xlabel('Feature')\n",
    "ax.set_ylabel('Feature value')\n",
    "plt.tight_layout()\n",
    "\n",
    "plt.savefig('./figures/within_hospital_variability/5_similar_range_patient_not_treated.jpg', dpi=300)\n",
    "\n",
    "plt.show()"
   ]
  },
  {
   "cell_type": "markdown",
   "id": "1ebede3a",
   "metadata": {},
   "source": [
    "## Example where thrombolysis was given when not expected"
   ]
  },
  {
   "cell_type": "code",
   "execution_count": 37,
   "id": "1d9497fd",
   "metadata": {},
   "outputs": [
    {
     "data": {
      "text/plain": [
       "array([0, 1, 2, 3, 4])"
      ]
     },
     "execution_count": 37,
     "metadata": {},
     "output_type": "execute_result"
    }
   ],
   "source": [
    "patient_of_interest = 1\n",
    "\n",
    "S, _, _, _, patient, similar_patients = most_similar[patient_of_interest]\n",
    "S_index = np.argsort(S)\n",
    "S_index"
   ]
  },
  {
   "cell_type": "code",
   "execution_count": 38,
   "id": "c614b30c",
   "metadata": {},
   "outputs": [
    {
     "data": {
      "text/html": [
       "<div>\n",
       "<style scoped>\n",
       "    .dataframe tbody tr th:only-of-type {\n",
       "        vertical-align: middle;\n",
       "    }\n",
       "\n",
       "    .dataframe tbody tr th {\n",
       "        vertical-align: top;\n",
       "    }\n",
       "\n",
       "    .dataframe thead th {\n",
       "        text-align: right;\n",
       "    }\n",
       "</style>\n",
       "<table border=\"1\" class=\"dataframe\">\n",
       "  <thead>\n",
       "    <tr style=\"text-align: right;\">\n",
       "      <th></th>\n",
       "      <th>Patient</th>\n",
       "      <th>1</th>\n",
       "      <th>2</th>\n",
       "      <th>3</th>\n",
       "      <th>4</th>\n",
       "      <th>5</th>\n",
       "    </tr>\n",
       "  </thead>\n",
       "  <tbody>\n",
       "    <tr>\n",
       "      <th>S2BrainImagingTime_min</th>\n",
       "      <td>40.0</td>\n",
       "      <td>88.0</td>\n",
       "      <td>40.0</td>\n",
       "      <td>27.0</td>\n",
       "      <td>51.0</td>\n",
       "      <td>35.0</td>\n",
       "    </tr>\n",
       "    <tr>\n",
       "      <th>S2NihssArrival</th>\n",
       "      <td>9.0</td>\n",
       "      <td>11.0</td>\n",
       "      <td>10.0</td>\n",
       "      <td>6.0</td>\n",
       "      <td>6.0</td>\n",
       "      <td>6.0</td>\n",
       "    </tr>\n",
       "    <tr>\n",
       "      <th>S1OnsetToArrival_min</th>\n",
       "      <td>105.0</td>\n",
       "      <td>67.0</td>\n",
       "      <td>122.0</td>\n",
       "      <td>83.0</td>\n",
       "      <td>75.0</td>\n",
       "      <td>160.0</td>\n",
       "    </tr>\n",
       "    <tr>\n",
       "      <th>S2StrokeType_Primary Intracerebral Haemorrhage</th>\n",
       "      <td>0.0</td>\n",
       "      <td>0.0</td>\n",
       "      <td>0.0</td>\n",
       "      <td>0.0</td>\n",
       "      <td>0.0</td>\n",
       "      <td>0.0</td>\n",
       "    </tr>\n",
       "    <tr>\n",
       "      <th>S2RankinBeforeStroke</th>\n",
       "      <td>0.0</td>\n",
       "      <td>0.0</td>\n",
       "      <td>4.0</td>\n",
       "      <td>0.0</td>\n",
       "      <td>3.0</td>\n",
       "      <td>0.0</td>\n",
       "    </tr>\n",
       "    <tr>\n",
       "      <th>...</th>\n",
       "      <td>...</td>\n",
       "      <td>...</td>\n",
       "      <td>...</td>\n",
       "      <td>...</td>\n",
       "      <td>...</td>\n",
       "      <td>...</td>\n",
       "    </tr>\n",
       "    <tr>\n",
       "      <th>AFAnticoagulentHeparin_Yes</th>\n",
       "      <td>0.0</td>\n",
       "      <td>0.0</td>\n",
       "      <td>0.0</td>\n",
       "      <td>0.0</td>\n",
       "      <td>0.0</td>\n",
       "      <td>0.0</td>\n",
       "    </tr>\n",
       "    <tr>\n",
       "      <th>S1OnsetInHospital_Yes</th>\n",
       "      <td>0.0</td>\n",
       "      <td>0.0</td>\n",
       "      <td>0.0</td>\n",
       "      <td>0.0</td>\n",
       "      <td>0.0</td>\n",
       "      <td>0.0</td>\n",
       "    </tr>\n",
       "    <tr>\n",
       "      <th>S1OnsetInHospital_No</th>\n",
       "      <td>1.0</td>\n",
       "      <td>1.0</td>\n",
       "      <td>1.0</td>\n",
       "      <td>1.0</td>\n",
       "      <td>1.0</td>\n",
       "      <td>1.0</td>\n",
       "    </tr>\n",
       "    <tr>\n",
       "      <th>S1Ethnicity_Mixed</th>\n",
       "      <td>0.0</td>\n",
       "      <td>0.0</td>\n",
       "      <td>0.0</td>\n",
       "      <td>0.0</td>\n",
       "      <td>0.0</td>\n",
       "      <td>0.0</td>\n",
       "    </tr>\n",
       "    <tr>\n",
       "      <th>S1OnsetTimeType_Not known</th>\n",
       "      <td>0.0</td>\n",
       "      <td>0.0</td>\n",
       "      <td>0.0</td>\n",
       "      <td>0.0</td>\n",
       "      <td>0.0</td>\n",
       "      <td>0.0</td>\n",
       "    </tr>\n",
       "  </tbody>\n",
       "</table>\n",
       "<p>99 rows × 6 columns</p>\n",
       "</div>"
      ],
      "text/plain": [
       "                                                Patient     1      2     3  \\\n",
       "S2BrainImagingTime_min                             40.0  88.0   40.0  27.0   \n",
       "S2NihssArrival                                      9.0  11.0   10.0   6.0   \n",
       "S1OnsetToArrival_min                              105.0  67.0  122.0  83.0   \n",
       "S2StrokeType_Primary Intracerebral Haemorrhage      0.0   0.0    0.0   0.0   \n",
       "S2RankinBeforeStroke                                0.0   0.0    4.0   0.0   \n",
       "...                                                 ...   ...    ...   ...   \n",
       "AFAnticoagulentHeparin_Yes                          0.0   0.0    0.0   0.0   \n",
       "S1OnsetInHospital_Yes                               0.0   0.0    0.0   0.0   \n",
       "S1OnsetInHospital_No                                1.0   1.0    1.0   1.0   \n",
       "S1Ethnicity_Mixed                                   0.0   0.0    0.0   0.0   \n",
       "S1OnsetTimeType_Not known                           0.0   0.0    0.0   0.0   \n",
       "\n",
       "                                                   4      5  \n",
       "S2BrainImagingTime_min                          51.0   35.0  \n",
       "S2NihssArrival                                   6.0    6.0  \n",
       "S1OnsetToArrival_min                            75.0  160.0  \n",
       "S2StrokeType_Primary Intracerebral Haemorrhage   0.0    0.0  \n",
       "S2RankinBeforeStroke                             3.0    0.0  \n",
       "...                                              ...    ...  \n",
       "AFAnticoagulentHeparin_Yes                       0.0    0.0  \n",
       "S1OnsetInHospital_Yes                            0.0    0.0  \n",
       "S1OnsetInHospital_No                             1.0    1.0  \n",
       "S1Ethnicity_Mixed                                0.0    0.0  \n",
       "S1OnsetTimeType_Not known                        0.0    0.0  \n",
       "\n",
       "[99 rows x 6 columns]"
      ]
     },
     "execution_count": 38,
     "metadata": {},
     "output_type": "execute_result"
    }
   ],
   "source": [
    "patient_df = pd.DataFrame(index = features)\n",
    "patient_df['Importance'] = importances\n",
    "patient_df['Patient'] = patient\n",
    "\n",
    "for i,s in enumerate(S_index):\n",
    "    patient_df[str(i+1)] = similar_patients[s]\n",
    "    \n",
    "patient_df = patient_df.sort_values(by='Importance', ascending=False)\n",
    "patient_df.drop(['Importance'], axis=1, inplace=True)\n",
    "patient_df.to_csv('./output/similar_patients_treated_differently_2.csv')\n",
    "\n",
    "patient_df"
   ]
  },
  {
   "cell_type": "markdown",
   "id": "00baf916",
   "metadata": {},
   "source": [
    "Rescale:"
   ]
  },
  {
   "cell_type": "code",
   "execution_count": 39,
   "id": "5d6dc308",
   "metadata": {},
   "outputs": [],
   "source": [
    "rescaled_results = patient_df.copy()\n",
    "\n",
    "indx_list = rescaled_results.index.tolist()\n",
    "\n",
    "for i in range(len(rescaled_results)):\n",
    "    \n",
    "    indx = rescaled_results.index[i]\n",
    "    \n",
    "    if indx in ['S1OnsetToArrival_min']:#, 'S2BrainImagingTime_min']:\n",
    "        \n",
    "        rescaled = rescale(i,rescaled_results, time=True)\n",
    "        indx_list[i] = indx.split('_')[0] + '_hours'\n",
    "        \n",
    "    elif indx in ['S1AgeOnArrival']:\n",
    "        \n",
    "        rescaled = rescale(i,rescaled_results, age=True)\n",
    "        indx_list[i] = indx + '_decades'\n",
    "        \n",
    "    else:\n",
    "        rescaled = rescale(i,rescaled_results)\n",
    "    \n",
    "    rescaled_results.loc[indx]=rescaled\n",
    "    \n",
    "rescaled_results.index = indx_list"
   ]
  },
  {
   "cell_type": "markdown",
   "id": "34cbca51",
   "metadata": {},
   "source": [
    "Plot"
   ]
  },
  {
   "cell_type": "code",
   "execution_count": 40,
   "id": "b5c894c0",
   "metadata": {},
   "outputs": [
    {
     "data": {
      "image/png": "[encoded data removed]",
      "text/plain": [
       "<Figure size 576x576 with 1 Axes>"
      ]
     },
     "metadata": {
      "needs_background": "light"
     },
     "output_type": "display_data"
    }
   ],
   "source": [
    "rescaled_results.plot(kind='bar',  stacked=False, alpha=1, figsize=(8,8),\n",
    "                      xlabel='Feature', ylabel='Feature value')\n",
    "\n",
    "plt.xlim(None,10.5)\n",
    "\n",
    "plt.tight_layout()\n",
    "\n",
    "plt.savefig('./figures/within_hospital_variability/5_similar_bar_patient_treated.jpg', dpi=300)\n",
    "plt.show()"
   ]
  },
  {
   "cell_type": "code",
   "execution_count": 41,
   "id": "7b76e90d",
   "metadata": {},
   "outputs": [
    {
     "data": {
      "image/png": "[encoded data removed]",
      "text/plain": [
       "<Figure size 576x576 with 1 Axes>"
      ]
     },
     "metadata": {
      "needs_background": "light"
     },
     "output_type": "display_data"
    }
   ],
   "source": [
    "fig,ax = plt.subplots(figsize=(8,8))\n",
    "\n",
    "xvals = rescaled_results.index.values\n",
    "pvals = rescaled_results['Patient']\n",
    "mvals = [np.mean(rescaled_results.loc[feature].values[1:]) for feature in rescaled_results.index]\n",
    "lvals = [min(rescaled_results.loc[feature].values[1:]) for feature in rescaled_results.index]\n",
    "hvals = [max(rescaled_results.loc[feature].values[1:]) for feature in rescaled_results.index]\n",
    "\n",
    "plt.plot(xvals, mvals, 'r*', ms=10, label='Mean')\n",
    "plt.plot(xvals, lvals, 'b*', ms=10, label='Low')\n",
    "plt.plot(xvals, hvals, 'y*', ms=10, label='High')\n",
    "plt.plot(xvals, pvals, 'k*', ms=10, label='Patient')\n",
    "plt.fill_between(xvals, lvals, hvals, color='g', alpha=0.5)\n",
    "plt.xlim(-0.5,10.5)\n",
    "plt.xticks(rotation=90)\n",
    "plt.legend(loc='best')\n",
    "ax.set_xlabel('Feature')\n",
    "ax.set_ylabel('Feature value')\n",
    "\n",
    "plt.tight_layout()\n",
    "\n",
    "plt.savefig('./figures/within_hospital_variability/5_similar_range_patient_treated.jpg', dpi=300)\n",
    "\n",
    "plt.show()"
   ]
  },
  {
   "cell_type": "markdown",
   "id": "355b7c28",
   "metadata": {},
   "source": [
    "## Observations\n",
    "\n",
    "- Misclassifications indicate that there is variability in clinical decision making within a hospital\n",
    "- We can use the structure of the Random Forest classifier to define a similarity metric\n",
    "- For patients that are incorrectly classified, we can find similar patients that were treated differently, further demonstrating variation in decision making within a hospital"
   ]
  }
 ],
 "metadata": {
  "kernelspec": {
   "display_name": "Python 3 (ipykernel)",
   "language": "python",
   "name": "python3"
  },
  "language_info": {
   "codemirror_mode": {
    "name": "ipython",
    "version": 3
   },
   "file_extension": ".py",
   "mimetype": "text/x-python",
   "name": "python",
   "nbconvert_exporter": "python",
   "pygments_lexer": "ipython3",
   "version": "3.8.2"
  }
 },
 "nbformat": 4,
 "nbformat_minor": 5
}
