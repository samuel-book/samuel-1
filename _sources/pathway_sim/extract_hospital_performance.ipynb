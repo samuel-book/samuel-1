{
 "cells": [
  {
   "cell_type": "markdown",
   "metadata": {},
   "source": [
    "# Extract hospital performance for pathway model"
   ]
  },
  {
   "cell_type": "markdown",
   "metadata": {},
   "source": [
    "## Aims\n",
    "\n",
    "* Extract and save hospital performance for pathway simulation model\n",
    "* Create breakdowns by weekend/weekday/day/night"
   ]
  },
  {
   "cell_type": "markdown",
   "metadata": {},
   "source": [
    "## Import libraries"
   ]
  },
  {
   "cell_type": "code",
   "execution_count": 1,
   "metadata": {},
   "outputs": [],
   "source": [
    "import numpy as np\n",
    "import pandas as pd"
   ]
  },
  {
   "cell_type": "markdown",
   "metadata": {},
   "source": [
    "## Load data\n",
    "\n",
    "* Load data\n",
    "* Restrict data to fields necessary for pathway extraction\n",
    "* Remove in-hospital admissions"
   ]
  },
  {
   "cell_type": "code",
   "execution_count": 2,
   "metadata": {},
   "outputs": [],
   "source": [
    "# Load data\n",
    "data_loaded = pd.read_csv(\n",
    "    '../data/2019-11-04-HQIP303-Exeter_MA.csv', low_memory=False)\n",
    "\n",
    "# Number of years data covers\n",
    "data_years = 3.0"
   ]
  },
  {
   "cell_type": "code",
   "execution_count": 3,
   "metadata": {},
   "outputs": [],
   "source": [
    "# Restrict fields\n",
    "used_fields = [\n",
    "    'StrokeTeam',\n",
    "    'MoreEqual80y',\n",
    "    'S1Gender',\n",
    "    'S1OnsetInHospital',\n",
    "    'S1OnsetToArrival_min',\n",
    "    'S1AdmissionHour',\n",
    "    'S1AdmissionDay',\n",
    "    'S1OnsetTimeType',\n",
    "    'S2BrainImagingTime_min',\n",
    "    'S2StrokeType',\n",
    "    'S2Thrombolysis',\n",
    "    'S2ThrombolysisTime_min']\n",
    "\n",
    "data_loaded = data_loaded[used_fields]"
   ]
  },
  {
   "cell_type": "code",
   "execution_count": 4,
   "metadata": {},
   "outputs": [],
   "source": [
    "# Remove in hospital admissions\n",
    "mask = data_loaded['S1OnsetInHospital'] == 'No'\n",
    "data_loaded = data_loaded[mask]"
   ]
  },
  {
   "cell_type": "markdown",
   "metadata": {},
   "source": [
    "## Extract hospital performance"
   ]
  },
  {
   "cell_type": "code",
   "execution_count": 5,
   "metadata": {},
   "outputs": [],
   "source": [
    "def analyse_by_team(input_data):\n",
    "    \n",
    "    # Copy data\n",
    "    data = input_data.copy()\n",
    "    \n",
    "    # Set up results lists\n",
    "    stroke_team = []\n",
    "    admissions = []\n",
    "    age_80_plus = []\n",
    "    onset_known = []\n",
    "    known_arrival_within_4hrs = []\n",
    "    onset_arrival_mins_mu = []\n",
    "    onset_arrival_mins_sigma = []\n",
    "    scan_within_4_hrs = []\n",
    "    arrival_scan_arrival_mins_mu = []\n",
    "    arrival_scan_arrival_mins_sigma = []\n",
    "    onset_scan_4_hrs = []\n",
    "    scan_needle_mins_mu = []\n",
    "    scan_needle_mins_sigma = []\n",
    "    thrombolysis_rate = []\n",
    "    eligible = []\n",
    "    \n",
    "    # Split data by stroke team\n",
    "    groups = data.groupby('StrokeTeam') # creates a new object of groups of data\n",
    "    group_count = 0\n",
    "    for index, group_df in groups: # each group has an index + dataframe of data\n",
    "        group_count += 1\n",
    "\n",
    "        # Record stroke team\n",
    "        stroke_team.append(index)\n",
    "\n",
    "        # Record admission numbers\n",
    "        admissions.append(group_df.shape[0])\n",
    "\n",
    "        # Get thrombolysis rate\n",
    "        thrombolysed = group_df['S2Thrombolysis'] == 'Yes'\n",
    "        thrombolysis_rate.append(thrombolysed.mean())\n",
    "\n",
    "        # Record onset known proportion and remove rest\n",
    "        f = lambda x: x in ['Precise', 'Best estimate']\n",
    "        mask = group_df['S1OnsetTimeType'].apply(f)\n",
    "        onset_known.append(mask.mean())\n",
    "        group_df = group_df[mask]\n",
    "\n",
    "        # Record onset <4 hours and remove rest\n",
    "        mask = group_df['S1OnsetToArrival_min'] <= 240\n",
    "        known_arrival_within_4hrs.append(mask.mean())\n",
    "        group_df = group_df[mask]\n",
    "\n",
    "        # Calc proportion 80+ (of those arriving within 4 hours)\n",
    "        age_filter = group_df['MoreEqual80y'] == 'Yes'\n",
    "        age_80_plus.append(age_filter.mean())\n",
    "\n",
    "        # Log mean/sd of onset to arrival\n",
    "        ln_onset_to_arrival = np.log(group_df['S1OnsetToArrival_min'])\n",
    "        onset_arrival_mins_mu.append(ln_onset_to_arrival.mean())\n",
    "        onset_arrival_mins_sigma.append(ln_onset_to_arrival.std())\n",
    "\n",
    "        # Record scan within 4 hours of arrival (and remove the rest)\n",
    "        mask = group_df['S2BrainImagingTime_min'] <= 240\n",
    "        scan_within_4_hrs.append(mask.mean())\n",
    "        group_df = group_df[mask]\n",
    "        \n",
    "        # Log mean/sd of arrival to scan\n",
    "        ln_arrival_to_scan = np.log(group_df['S2BrainImagingTime_min'])\n",
    "        arrival_scan_arrival_mins_mu.append(ln_arrival_to_scan.mean())\n",
    "        arrival_scan_arrival_mins_sigma.append(ln_arrival_to_scan.std())\n",
    "        \n",
    "        # Record onset to scan in 4 hours and remove rest\n",
    "        mask = (group_df['S1OnsetToArrival_min'] + \n",
    "                group_df['S2BrainImagingTime_min']) <= 240\n",
    "        onset_scan_4_hrs.append(mask.mean())\n",
    "        group_df = group_df[mask]\n",
    "\n",
    "        # Thrombolysis given (to remaining patients)\n",
    "        thrombolysed = group_df['S2Thrombolysis'] == 'Yes'\n",
    "        eligible.append(thrombolysed.mean())\n",
    "\n",
    "        # Scan to need (Replace any zero scan to needle times with 1)\n",
    "        mask = group_df['S2ThrombolysisTime_min'] > 0\n",
    "        thrombolysed = group_df[mask]\n",
    "        scan_to_needle = (thrombolysed['S2ThrombolysisTime_min'] - \n",
    "                          thrombolysed['S2BrainImagingTime_min'])\n",
    "        mask = scan_to_needle == 0\n",
    "        scan_to_needle[mask] = 1\n",
    "        ln_scan_to_needle = np.log(scan_to_needle)\n",
    "        scan_needle_mins_mu.append(ln_scan_to_needle.mean())\n",
    "        scan_needle_mins_sigma.append(ln_scan_to_needle.std())\n",
    "        \n",
    "    df = pd.DataFrame()\n",
    "    df['stroke_team'] = stroke_team\n",
    "    df['thrombolysis_rate'] = thrombolysis_rate\n",
    "    df['admissions'] = admissions\n",
    "    df['admissions'] = df['admissions'] /data_years\n",
    "    df['80_plus'] = age_80_plus\n",
    "    df['onset_known'] = onset_known\n",
    "    df['known_arrival_within_4hrs'] = known_arrival_within_4hrs\n",
    "    df['onset_arrival_mins_mu'] = onset_arrival_mins_mu\n",
    "    df['onset_arrival_mins_sigma'] = onset_arrival_mins_sigma\n",
    "    df['scan_within_4_hrs'] = scan_within_4_hrs\n",
    "    df['arrival_scan_arrival_mins_mu'] = arrival_scan_arrival_mins_mu\n",
    "    df['arrival_scan_arrival_mins_sigma'] = arrival_scan_arrival_mins_sigma\n",
    "    df['onset_scan_4_hrs'] = onset_scan_4_hrs\n",
    "    df['eligable'] = eligible\n",
    "    df['scan_needle_mins_mu'] = scan_needle_mins_mu\n",
    "    df['scan_needle_mins_sigma'] = scan_needle_mins_sigma\n",
    "    \n",
    "    return df\n",
    "    "
   ]
  },
  {
   "cell_type": "code",
   "execution_count": 6,
   "metadata": {},
   "outputs": [
    {
     "data": {
      "text/html": [
       "<div>\n",
       "<style scoped>\n",
       "    .dataframe tbody tr th:only-of-type {\n",
       "        vertical-align: middle;\n",
       "    }\n",
       "\n",
       "    .dataframe tbody tr th {\n",
       "        vertical-align: top;\n",
       "    }\n",
       "\n",
       "    .dataframe thead th {\n",
       "        text-align: right;\n",
       "    }\n",
       "</style>\n",
       "<table border=\"1\" class=\"dataframe\">\n",
       "  <thead>\n",
       "    <tr style=\"text-align: right;\">\n",
       "      <th></th>\n",
       "      <th>2</th>\n",
       "      <th>4</th>\n",
       "      <th>6</th>\n",
       "      <th>7</th>\n",
       "      <th>9</th>\n",
       "    </tr>\n",
       "  </thead>\n",
       "  <tbody>\n",
       "    <tr>\n",
       "      <th>stroke_team</th>\n",
       "      <td>AGNOF1041H</td>\n",
       "      <td>AKCGO9726K</td>\n",
       "      <td>AOBTM3098N</td>\n",
       "      <td>APXEE8191H</td>\n",
       "      <td>ATDID5461S</td>\n",
       "    </tr>\n",
       "    <tr>\n",
       "      <th>thrombolysis_rate</th>\n",
       "      <td>0.154839</td>\n",
       "      <td>0.158892</td>\n",
       "      <td>0.085885</td>\n",
       "      <td>0.098634</td>\n",
       "      <td>0.090689</td>\n",
       "    </tr>\n",
       "    <tr>\n",
       "      <th>admissions</th>\n",
       "      <td>671.666667</td>\n",
       "      <td>1143.333333</td>\n",
       "      <td>500.666667</td>\n",
       "      <td>439.333333</td>\n",
       "      <td>275.666667</td>\n",
       "    </tr>\n",
       "    <tr>\n",
       "      <th>80_plus</th>\n",
       "      <td>0.425459</td>\n",
       "      <td>0.395658</td>\n",
       "      <td>0.48547</td>\n",
       "      <td>0.515679</td>\n",
       "      <td>0.533546</td>\n",
       "    </tr>\n",
       "    <tr>\n",
       "      <th>onset_known</th>\n",
       "      <td>0.635236</td>\n",
       "      <td>0.970845</td>\n",
       "      <td>0.619174</td>\n",
       "      <td>0.716237</td>\n",
       "      <td>0.573156</td>\n",
       "    </tr>\n",
       "    <tr>\n",
       "      <th>known_arrival_within_4hrs</th>\n",
       "      <td>0.68125</td>\n",
       "      <td>0.428829</td>\n",
       "      <td>0.629032</td>\n",
       "      <td>0.608051</td>\n",
       "      <td>0.660338</td>\n",
       "    </tr>\n",
       "    <tr>\n",
       "      <th>onset_arrival_mins_mu</th>\n",
       "      <td>4.576874</td>\n",
       "      <td>4.625486</td>\n",
       "      <td>4.603918</td>\n",
       "      <td>4.590357</td>\n",
       "      <td>4.427826</td>\n",
       "    </tr>\n",
       "    <tr>\n",
       "      <th>onset_arrival_mins_sigma</th>\n",
       "      <td>0.557598</td>\n",
       "      <td>0.597451</td>\n",
       "      <td>0.584882</td>\n",
       "      <td>0.496452</td>\n",
       "      <td>0.591373</td>\n",
       "    </tr>\n",
       "    <tr>\n",
       "      <th>scan_within_4_hrs</th>\n",
       "      <td>0.965596</td>\n",
       "      <td>0.955882</td>\n",
       "      <td>0.935043</td>\n",
       "      <td>0.966899</td>\n",
       "      <td>0.878594</td>\n",
       "    </tr>\n",
       "    <tr>\n",
       "      <th>arrival_scan_arrival_mins_mu</th>\n",
       "      <td>1.6657</td>\n",
       "      <td>2.834183</td>\n",
       "      <td>3.471419</td>\n",
       "      <td>3.31293</td>\n",
       "      <td>4.12569</td>\n",
       "    </tr>\n",
       "    <tr>\n",
       "      <th>arrival_scan_arrival_mins_sigma</th>\n",
       "      <td>1.497966</td>\n",
       "      <td>0.999719</td>\n",
       "      <td>1.254744</td>\n",
       "      <td>0.714465</td>\n",
       "      <td>0.549301</td>\n",
       "    </tr>\n",
       "    <tr>\n",
       "      <th>onset_scan_4_hrs</th>\n",
       "      <td>0.935867</td>\n",
       "      <td>0.908425</td>\n",
       "      <td>0.846435</td>\n",
       "      <td>0.904505</td>\n",
       "      <td>0.865455</td>\n",
       "    </tr>\n",
       "    <tr>\n",
       "      <th>eligable</th>\n",
       "      <td>0.388325</td>\n",
       "      <td>0.419355</td>\n",
       "      <td>0.267819</td>\n",
       "      <td>0.258964</td>\n",
       "      <td>0.315126</td>\n",
       "    </tr>\n",
       "    <tr>\n",
       "      <th>scan_needle_mins_mu</th>\n",
       "      <td>3.669602</td>\n",
       "      <td>2.904479</td>\n",
       "      <td>3.694918</td>\n",
       "      <td>3.585094</td>\n",
       "      <td>3.497262</td>\n",
       "    </tr>\n",
       "    <tr>\n",
       "      <th>scan_needle_mins_sigma</th>\n",
       "      <td>0.664462</td>\n",
       "      <td>0.874818</td>\n",
       "      <td>0.518929</td>\n",
       "      <td>0.751204</td>\n",
       "      <td>0.608126</td>\n",
       "    </tr>\n",
       "  </tbody>\n",
       "</table>\n",
       "</div>"
      ],
      "text/plain": [
       "                                          2            4           6  \\\n",
       "stroke_team                      AGNOF1041H   AKCGO9726K  AOBTM3098N   \n",
       "thrombolysis_rate                  0.154839     0.158892    0.085885   \n",
       "admissions                       671.666667  1143.333333  500.666667   \n",
       "80_plus                            0.425459     0.395658     0.48547   \n",
       "onset_known                        0.635236     0.970845    0.619174   \n",
       "known_arrival_within_4hrs           0.68125     0.428829    0.629032   \n",
       "onset_arrival_mins_mu              4.576874     4.625486    4.603918   \n",
       "onset_arrival_mins_sigma           0.557598     0.597451    0.584882   \n",
       "scan_within_4_hrs                  0.965596     0.955882    0.935043   \n",
       "arrival_scan_arrival_mins_mu         1.6657     2.834183    3.471419   \n",
       "arrival_scan_arrival_mins_sigma    1.497966     0.999719    1.254744   \n",
       "onset_scan_4_hrs                   0.935867     0.908425    0.846435   \n",
       "eligable                           0.388325     0.419355    0.267819   \n",
       "scan_needle_mins_mu                3.669602     2.904479    3.694918   \n",
       "scan_needle_mins_sigma             0.664462     0.874818    0.518929   \n",
       "\n",
       "                                          7           9  \n",
       "stroke_team                      APXEE8191H  ATDID5461S  \n",
       "thrombolysis_rate                  0.098634    0.090689  \n",
       "admissions                       439.333333  275.666667  \n",
       "80_plus                            0.515679    0.533546  \n",
       "onset_known                        0.716237    0.573156  \n",
       "known_arrival_within_4hrs          0.608051    0.660338  \n",
       "onset_arrival_mins_mu              4.590357    4.427826  \n",
       "onset_arrival_mins_sigma           0.496452    0.591373  \n",
       "scan_within_4_hrs                  0.966899    0.878594  \n",
       "arrival_scan_arrival_mins_mu        3.31293     4.12569  \n",
       "arrival_scan_arrival_mins_sigma    0.714465    0.549301  \n",
       "onset_scan_4_hrs                   0.904505    0.865455  \n",
       "eligable                           0.258964    0.315126  \n",
       "scan_needle_mins_mu                3.585094    3.497262  \n",
       "scan_needle_mins_sigma             0.751204    0.608126  "
      ]
     },
     "execution_count": 6,
     "metadata": {},
     "output_type": "execute_result"
    }
   ],
   "source": [
    "df_all = analyse_by_team(data_loaded)\n",
    "\n",
    "# Limit to hosp with > 100 admissions/year and >10 thrombolysis in total\n",
    "admissions = df_all['admissions']\n",
    "thrombolysed = admissions * df_all['thrombolysis_rate']\n",
    "mask = (admissions >= 100) & (thrombolysed >= 3.3333)\n",
    "df_all = df_all[mask]\n",
    "\n",
    "# Save\n",
    "df_all.to_csv('hosp_performance_output/hospital_performance.csv', index=False)\n",
    "\n",
    "# Show data for five hopsitals\n",
    "df_all.head().T"
   ]
  },
  {
   "cell_type": "markdown",
   "metadata": {},
   "source": [
    "### Limit full data to units with at least 300 admissions"
   ]
  },
  {
   "cell_type": "code",
   "execution_count": 7,
   "metadata": {},
   "outputs": [],
   "source": [
    "units_with_300_admissions = list(set(df_all['stroke_team']))\n",
    "mask = data_loaded['StrokeTeam'].isin(units_with_300_admissions)\n",
    "data_restricted = data_loaded[mask]"
   ]
  },
  {
   "cell_type": "markdown",
   "metadata": {},
   "source": [
    "### Produce results for day/night and weekday/weekend"
   ]
  },
  {
   "cell_type": "code",
   "execution_count": 8,
   "metadata": {},
   "outputs": [],
   "source": [
    "day_time_values = ['09:00 to 11:59', '12:00 to 14:59', '15:00 to 17:59']\n",
    "values = data_restricted['S1AdmissionHour'].isin(day_time_values)\n",
    "data_restricted = data_restricted.assign(day_time=values)    "
   ]
  },
  {
   "cell_type": "code",
   "execution_count": 9,
   "metadata": {},
   "outputs": [],
   "source": [
    "weekdays = ['Monday', 'Tuesday', 'Wednesday', 'Thursday', 'Friday']\n",
    "values = data_restricted['S1AdmissionDay'].isin(weekdays)\n",
    "data_restricted = data_restricted.assign(mon_fri=values)"
   ]
  },
  {
   "cell_type": "markdown",
   "metadata": {},
   "source": [
    "Weekday"
   ]
  },
  {
   "cell_type": "code",
   "execution_count": 10,
   "metadata": {},
   "outputs": [],
   "source": [
    "mask = data_restricted['mon_fri']\n",
    "df = data_restricted[mask]\n",
    "df = analyse_by_team(df)\n",
    "df.to_csv(\n",
    "    'hosp_performance_output/hospital_performance_weekday.csv', index=False)"
   ]
  },
  {
   "cell_type": "markdown",
   "metadata": {},
   "source": [
    "Weekday day"
   ]
  },
  {
   "cell_type": "code",
   "execution_count": 11,
   "metadata": {},
   "outputs": [],
   "source": [
    "mask = data_restricted['day_time'] & data_restricted['mon_fri']\n",
    "df = data_restricted[mask]\n",
    "df = analyse_by_team(df)\n",
    "df.to_csv(\n",
    "    'hosp_performance_output/hospital_performance_weekday_day.csv', index=False)"
   ]
  },
  {
   "cell_type": "markdown",
   "metadata": {},
   "source": [
    "Weekday night"
   ]
  },
  {
   "cell_type": "code",
   "execution_count": 12,
   "metadata": {},
   "outputs": [],
   "source": [
    "mask = data_restricted['day_time'] == False & data_restricted['mon_fri']\n",
    "df = data_restricted[mask]\n",
    "df = analyse_by_team(df)\n",
    "df.to_csv(\n",
    "    'hosp_performance_output/hospital_performance_weekday_night.csv', index=False)"
   ]
  },
  {
   "cell_type": "markdown",
   "metadata": {},
   "source": [
    "Weekend"
   ]
  },
  {
   "cell_type": "code",
   "execution_count": 13,
   "metadata": {},
   "outputs": [],
   "source": [
    "mask = data_restricted['mon_fri'] == False\n",
    "df = data_restricted[mask]\n",
    "df = analyse_by_team(df)\n",
    "df.to_csv(\n",
    "    'hosp_performance_output/hospital_performance_weekend.csv', index=False)"
   ]
  },
  {
   "cell_type": "markdown",
   "metadata": {},
   "source": [
    "Weekend day"
   ]
  },
  {
   "cell_type": "code",
   "execution_count": 14,
   "metadata": {},
   "outputs": [],
   "source": [
    "mask = data_restricted['day_time'] & data_restricted['mon_fri'] == False\n",
    "df = data_restricted[mask]\n",
    "df = analyse_by_team(df)\n",
    "df.to_csv(\n",
    "    'hosp_performance_output/hospital_performance_weekend_day.csv', index=False)"
   ]
  },
  {
   "cell_type": "markdown",
   "metadata": {},
   "source": [
    "Weekend night"
   ]
  },
  {
   "cell_type": "code",
   "execution_count": 15,
   "metadata": {},
   "outputs": [],
   "source": [
    "mask = (\n",
    "    data_restricted['day_time'] == False) & (data_restricted['mon_fri'] == False)\n",
    "df = data_restricted[mask]\n",
    "df = analyse_by_team(df)\n",
    "df.to_csv(\n",
    "    'hosp_performance_output/hospital_performance_weekend_night.csv', index=False)"
   ]
  }
 ],
 "metadata": {
  "kernelspec": {
   "display_name": "Python 3",
   "language": "python",
   "name": "python3"
  },
  "language_info": {
   "codemirror_mode": {
    "name": "ipython",
    "version": 3
   },
   "file_extension": ".py",
   "mimetype": "text/x-python",
   "name": "python",
   "nbconvert_exporter": "python",
   "pygments_lexer": "ipython3",
   "version": "3.8.2"
  }
 },
 "nbformat": 4,
 "nbformat_minor": 4
}
