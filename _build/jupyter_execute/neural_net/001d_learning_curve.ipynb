{
 "cells": [
  {
   "cell_type": "markdown",
   "id": "fff809ba",
   "metadata": {},
   "source": [
    "# Fully connected TensorFlow model - Learning curve \n",
    "\n",
    "## Aims\n",
    "\n",
    "* Ascertain the relationship between training set size and model accuracy\n",
    "\n",
    "## Basic methodology\n",
    "\n",
    "* Models are fitted to a single fold of previously split k-fold training and test data sets. \n",
    "\n",
    "* MinMax scaling is used (all features are scaled 0-1 based on the fature min/max).\n",
    "\n",
    "* Model has two hidden layers, each with the number of neurones being 2x the number of features. Prior studies show performance of the network is similar across all models with this complexity or more. A dropout value of 0.5 is used based on previous exploration.\n",
    "\n",
    "* A batch size of 32 is used (\"Friends don't let friends use minibatches larger than 32\". Yan LeCun on paper: arxiv.org/abs/1804.07612)\n",
    "\n",
    "* 30 Training epochs are used as previously established.\n",
    "\n",
    "* Adjust size of training set\n",
    "\n",
    "Model structure:\n",
    "\n",
    "* Input layer\n",
    "* Dense layer (# neurones = 2x features, ReLu activation)\n",
    "* Batch normalisation \n",
    "* Dropout layer\n",
    "* Dense layer (# neurones = 2x features, ReLu activation)\n",
    "* Batch normalisation \n",
    "* Dropout layer\n",
    "* Output layer (single sigmoid activation)"
   ]
  },
  {
   "cell_type": "markdown",
   "id": "a607f0f3",
   "metadata": {},
   "source": [
    "## Import libraries"
   ]
  },
  {
   "cell_type": "code",
   "execution_count": 1,
   "id": "4f32c01b",
   "metadata": {},
   "outputs": [],
   "source": [
    "# Turn warnings off to keep notebook tidy\n",
    "import warnings\n",
    "warnings.filterwarnings(\"ignore\")\n",
    "\n",
    "import matplotlib.pyplot as plt\n",
    "import numpy as np\n",
    "import os\n",
    "import pandas as pd\n",
    "\n",
    "# sklearn for pre-processing\n",
    "from sklearn.preprocessing import MinMaxScaler\n",
    "\n",
    "# TensorFlow api model\n",
    "from tensorflow import keras\n",
    "from tensorflow.keras import layers\n",
    "from tensorflow.keras.models import Model\n",
    "from tensorflow.keras.optimizers import Adam\n",
    "from tensorflow.keras import backend as K\n",
    "from tensorflow.keras.losses import binary_crossentropy"
   ]
  },
  {
   "cell_type": "markdown",
   "id": "5771c754",
   "metadata": {},
   "source": [
    "## Function to scale data (minmax scaling)"
   ]
  },
  {
   "cell_type": "code",
   "execution_count": 2,
   "id": "526905d8",
   "metadata": {},
   "outputs": [],
   "source": [
    "def scale_data(X_train, X_test):\n",
    "    \"\"\"Scale data 0-1 based on min and max in training set\"\"\"\n",
    "    \n",
    "    # Initialise a new scaling object for normalising input data\n",
    "    sc = MinMaxScaler()\n",
    "\n",
    "    # Set up the scaler just on the training set\n",
    "    sc.fit(X_train)\n",
    "\n",
    "    # Apply the scaler to the training and test sets\n",
    "    train_sc = sc.transform(X_train)\n",
    "    test_sc = sc.transform(X_test)\n",
    "    \n",
    "    return train_sc, test_sc  "
   ]
  },
  {
   "cell_type": "markdown",
   "id": "78ea362d",
   "metadata": {},
   "source": [
    "## Define neural net"
   ]
  },
  {
   "cell_type": "code",
   "execution_count": 3,
   "id": "741baebb",
   "metadata": {},
   "outputs": [],
   "source": [
    "def make_net(number_features, expansion=2, learning_rate=0.003, dropout=0.5):\n",
    "    \n",
    "    # Clear Tensorflow\n",
    "    K.clear_session()\n",
    "    \n",
    "    # Input layer\n",
    "    inputs = layers.Input(shape=number_features)\n",
    "    \n",
    "    # Dense layer 1\n",
    "    dense_1 = layers.Dense(\n",
    "        number_features * expansion, activation='relu')(inputs)\n",
    "    norm_1 = layers.BatchNormalization()(dense_1)\n",
    "    dropout_1 = layers.Dropout(dropout)(norm_1)\n",
    "    \n",
    "    # Dense layer 2\n",
    "    dense_2 = layers.Dense(\n",
    "        number_features * expansion, activation='relu')(dropout_1)\n",
    "    norm_2 = layers.BatchNormalization()(dense_2)\n",
    "    dropout_2 = layers.Dropout(dropout)(norm_2)    \n",
    " \n",
    "    # Outpout (single sigmoid)\n",
    "    outputs = layers.Dense(1, activation='sigmoid')(dropout_2)\n",
    "    \n",
    "    # Build net\n",
    "    net = Model(inputs, outputs)\n",
    "    \n",
    "    # Compiling model\n",
    "    opt = Adam(lr=learning_rate)\n",
    "    net.compile(loss='binary_crossentropy',\n",
    "    optimizer=opt,\n",
    "    metrics=['accuracy'])\n",
    "    return net"
   ]
  },
  {
   "cell_type": "markdown",
   "id": "6e34ec0a",
   "metadata": {},
   "source": [
    "## Run k-fold validation with varying training set sizes"
   ]
  },
  {
   "cell_type": "code",
   "execution_count": 4,
   "id": "97dd7eda",
   "metadata": {},
   "outputs": [
    {
     "name": "stdout",
     "output_type": "stream",
     "text": [
      "Training set size 50, accuracy: 0.669\n",
      "Training set size 100, accuracy: 0.713\n",
      "Training set size 250, accuracy: 0.761\n",
      "Training set size 500, accuracy: 0.759\n",
      "Training set size 1000, accuracy: 0.765\n",
      "Training set size 2500, accuracy: 0.794\n",
      "Training set size 5000, accuracy: 0.808\n",
      "Training set size 10000, accuracy: 0.823\n",
      "Training set size 15000, accuracy: 0.828\n",
      "Training set size 20000, accuracy: 0.834\n",
      "Training set size 25000, accuracy: 0.837\n",
      "Training set size 30000, accuracy: 0.837\n",
      "Training set size 35000, accuracy: 0.840\n",
      "Training set size 40000, accuracy: 0.834\n",
      "Training set size 45000, accuracy: 0.839\n",
      "Training set size 50000, accuracy: 0.839\n",
      "Training set size 55000, accuracy: 0.840\n",
      "Training set size 60000, accuracy: 0.839\n",
      "Training set size 65000, accuracy: 0.843\n",
      "Training set size 70000, accuracy: 0.844\n"
     ]
    }
   ],
   "source": [
    "# Set up list to collect results\n",
    "results_training_size = []\n",
    "results_accuracy = []\n",
    "results_all_accuracy = []\n",
    "\n",
    "# Get maximum training size (number of training records)\n",
    "train_data = pd.read_csv(f'../data/kfold_5fold/train_0.csv')\n",
    "max_training_size = train_data.shape[0]\n",
    "\n",
    "# Construct training sizes (values closer at lower end)\n",
    "train_sizes = [50, 100, 250, 500, 1000, 2500]\n",
    "for i in range (5000, max_training_size, 5000):\n",
    "    train_sizes.append(i)\n",
    "    \n",
    "# Loop through training sizes\n",
    "for train_size in train_sizes:\n",
    "    \n",
    "    # Record accuracy across k-fold replicates\n",
    "    replicate_accuracy = []\n",
    "\n",
    "    for k in range(5):\n",
    "        \n",
    "        # Load data\n",
    "        train = pd.read_csv(f'../data/kfold_5fold/train_{k}.csv')\n",
    "        test = pd.read_csv(f'../data/kfold_5fold/test_{k}.csv')\n",
    "        \n",
    "        # OneHot encode stroke team\n",
    "        coded = pd.get_dummies(train['StrokeTeam'])\n",
    "        train = pd.concat([train, coded], axis=1)\n",
    "        train.drop('StrokeTeam', inplace=True, axis=1)\n",
    "        coded = pd.get_dummies(test['StrokeTeam'])\n",
    "        test = pd.concat([test, coded], axis=1)\n",
    "        test.drop('StrokeTeam', inplace=True, axis=1)\n",
    "        \n",
    "        # Sample from training data\n",
    "        train = train.sample(n=train_size)\n",
    "\n",
    "        # Split into X, y\n",
    "        X_train_df = train.drop('S2Thrombolysis',axis=1) \n",
    "        y_train_df = train['S2Thrombolysis']\n",
    "        X_test_df = test.drop('S2Thrombolysis',axis=1) \n",
    "        y_test_df = test['S2Thrombolysis'] \n",
    "\n",
    "        # Convert to NumPy\n",
    "        X_train = X_train_df.values\n",
    "        X_test = X_test_df.values\n",
    "        y_train = y_train_df.values\n",
    "        y_test = y_test_df.values\n",
    "        \n",
    "        # Scale data\n",
    "        X_train_sc, X_test_sc = scale_data(X_train, X_test)\n",
    "\n",
    "        # Define network\n",
    "        number_features = X_train_sc.shape[1]\n",
    "        model = make_net(number_features)\n",
    "       \n",
    "        # Train model (including class weights)\n",
    "        history = model.fit(X_train_sc,\n",
    "                            y_train,\n",
    "                            epochs=30,\n",
    "                            batch_size=32,\n",
    "                            validation_data=(X_test_sc, y_test),\n",
    "                            verbose=0)\n",
    "\n",
    "        # Predict test set\n",
    "        probability = model.predict(X_test_sc)\n",
    "        y_pred_test = probability >= 0.5\n",
    "        y_pred_test = y_pred_test.flatten()\n",
    "        accuracy_test = np.mean(y_pred_test == y_test)\n",
    "        replicate_accuracy.append(accuracy_test)\n",
    "        results_all_accuracy.append(accuracy_test)\n",
    "    \n",
    "    # Store mean accuracy across the k-fold splits\n",
    "    mean_accuracy = np.mean(accuracy_test)\n",
    "    results_accuracy.append(mean_accuracy)\n",
    "    results_training_size.append(train_size)\n",
    "    \n",
    "    # Print output\n",
    "    print (f'Training set size {train_size}, accuracy: {mean_accuracy:0.3f}')\n",
    "\n",
    "k_fold_accuracy = np.array(results_all_accuracy).reshape(len(train_sizes), 5)    "
   ]
  },
  {
   "cell_type": "code",
   "execution_count": 5,
   "id": "f9da2543",
   "metadata": {},
   "outputs": [
    {
     "data": {
      "image/png": "[encoded data removed]",
      "text/plain": [
       "<Figure size 720x360 with 2 Axes>"
      ]
     },
     "metadata": {
      "filenames": {
       "image/png": "/home/michael/Dropbox/02_Git/GitHub_Pages/samuel-1/_build/jupyter_execute/neural_net/001d_learning_curve_9_0.png"
      },
      "needs_background": "light"
     },
     "output_type": "display_data"
    }
   ],
   "source": [
    "fig = plt.figure(figsize=(10,5))\n",
    "\n",
    "ax1 = fig.add_subplot(121)\n",
    "\n",
    "for i in range(5):\n",
    "    ax1.plot(results_training_size, k_fold_accuracy[:, i])\n",
    "\n",
    "ax1.set_xlabel('Training set size')\n",
    "ax1.set_ylabel('Accuracy')\n",
    "\n",
    "# Focus on first 5000\n",
    "ax2 = fig.add_subplot(122)\n",
    "for i in range(5):\n",
    "    ax2.plot(results_training_size, k_fold_accuracy[:, i])\n",
    "\n",
    "ax2.set_xlabel('Training set size')\n",
    "ax2.set_ylabel('Accuracy')\n",
    "ax2.set_xlim(0, 5000)\n",
    "\n",
    "plt.tight_layout()\n",
    "plt.savefig('./output/nn_fc_learning_curve.jpg', dpi=300)\n",
    "plt.show()"
   ]
  },
  {
   "cell_type": "markdown",
   "id": "5ead445f",
   "metadata": {},
   "source": [
    "## Observations\n",
    "\n",
    "* Training accuracy rises, and then increases only slightly over 25,000 training samples."
   ]
  }
 ],
 "metadata": {
  "kernelspec": {
   "display_name": "Python 3",
   "language": "python",
   "name": "python3"
  },
  "language_info": {
   "codemirror_mode": {
    "name": "ipython",
    "version": 3
   },
   "file_extension": ".py",
   "mimetype": "text/x-python",
   "name": "python",
   "nbconvert_exporter": "python",
   "pygments_lexer": "ipython3",
   "version": "3.8.2"
  }
 },
 "nbformat": 4,
 "nbformat_minor": 5
}