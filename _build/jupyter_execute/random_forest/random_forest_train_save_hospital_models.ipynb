{
 "cells": [
  {
   "cell_type": "markdown",
   "metadata": {},
   "source": [
    "# Train and save hospital-level models"
   ]
  },
  {
   "cell_type": "markdown",
   "metadata": {},
   "source": [
    "## Aims\n",
    "\n",
    "* Train models for each hospital.\n",
    "\n",
    "Note: Models are trained on all data for maximum accuracy. These models are used for counter-factual experiments (what if patient went to another hospital)."
   ]
  },
  {
   "cell_type": "markdown",
   "metadata": {},
   "source": [
    "## Import libraries"
   ]
  },
  {
   "cell_type": "code",
   "execution_count": 1,
   "metadata": {},
   "outputs": [],
   "source": [
    "# Turn warnings off to keep notebook tidy\n",
    "import warnings\n",
    "warnings.filterwarnings(\"ignore\")\n",
    "\n",
    "import os\n",
    "import pandas as pd\n",
    "import numpy as np\n",
    "import pickle as pkl\n",
    "import matplotlib.pyplot as plt\n",
    "\n",
    "import sklearn as sk\n",
    "from sklearn.ensemble import RandomForestClassifier\n",
    "from sklearn.model_selection import StratifiedKFold"
   ]
  },
  {
   "cell_type": "markdown",
   "metadata": {},
   "source": [
    "## Load data\n",
    "\n",
    "Create combined data set by combining cohort train/test"
   ]
  },
  {
   "cell_type": "code",
   "execution_count": 2,
   "metadata": {},
   "outputs": [],
   "source": [
    "data = pd.concat([\n",
    "    pd.read_csv('./../data/10k_training_test/cohort_10000_train.csv'),\n",
    "    pd.read_csv('./../data/10k_training_test/cohort_10000_test.csv')],\n",
    "    axis=0)\n",
    "\n",
    "data = data.sample(frac=1.0, random_state=42)"
   ]
  },
  {
   "cell_type": "markdown",
   "metadata": {},
   "source": [
    "## Functions"
   ]
  },
  {
   "cell_type": "markdown",
   "metadata": {},
   "source": [
    "### Find model probability threshold to match predicted and actual thrombolysis use"
   ]
  },
  {
   "cell_type": "code",
   "execution_count": 3,
   "metadata": {},
   "outputs": [],
   "source": [
    "def find_threshold(probabilities, true_rate):\n",
    "    \n",
    "    \"\"\"\n",
    "    Find classification threshold to calibrate model\n",
    "    \"\"\"\n",
    "    \n",
    "    index = (1-true_rate)*len(probabilities)\n",
    "    \n",
    "    threshold = sorted(probabilities)[int(index)]\n",
    "    \n",
    "    return threshold"
   ]
  },
  {
   "cell_type": "markdown",
   "metadata": {},
   "source": [
    "## Train hospital-level models\n",
    "\n",
    "Get threshold of classification by using k-fold splits: train hospital level model on k-fold splits, get probabilities of classification for test sets, and use these together to get probability threshold that gives the same net thrombolysis use as the observed data. Then refit on all data for a given hospital, and return that fit and the hospital model."
   ]
  },
  {
   "cell_type": "code",
   "execution_count": 4,
   "metadata": {},
   "outputs": [],
   "source": [
    "def train_hospital(data, hospital):\n",
    "\n",
    "    # Get data for given hospital\n",
    "    patients = data.loc[data['StrokeTeam'] == hospital]\n",
    "    \n",
    "    # Get X and y\n",
    "    y = patients['S2Thrombolysis']\n",
    "    X = patients.drop(['StrokeTeam','S2Thrombolysis'], axis=1)\n",
    "    \n",
    "    # Split 5-fold\n",
    "    skf = StratifiedKFold(n_splits = 5, random_state=42)\n",
    "    skf.get_n_splits(X, y)\n",
    "    \n",
    "    # Set up list for predicted test probabilities\n",
    "    y_probs=[]\n",
    "    \n",
    "    # Train on 5-fold splits and get probabilities\n",
    "    for train_index, test_index in skf.split(X, y):\n",
    "        \n",
    "        X_train, X_test = X.iloc[train_index], X.iloc[test_index]\n",
    "        y_train, y_test = y.iloc[train_index], y.iloc[test_index]\n",
    "\n",
    "        forest = RandomForestClassifier(n_estimators=100, n_jobs=-1,\n",
    "                                        class_weight='balanced', random_state=0)\n",
    "\n",
    "\n",
    "        forest.fit(X_train, y_train)\n",
    "\n",
    "        y_prob = forest.predict_proba(X_test)[:,1]\n",
    "        \n",
    "        y_probs.extend(y_prob)\n",
    "        \n",
    "    # Get observed thrombolysis use rate\n",
    "    true_rate = sum(y)/len(y) \n",
    "\n",
    "    # Find threshold of probability to match observed thrombolysis use\n",
    "    threshold = find_threshold(y_probs, true_rate)\n",
    "\n",
    "    # Refit on all data for hospital\n",
    "    forest = RandomForestClassifier(n_estimators=100, n_jobs=-1,\n",
    "                                        class_weight='balanced', random_state=0)\n",
    "\n",
    "    forest.fit(X.values, y.values)\n",
    "\n",
    "    # Return fit, threshold, and X/y for given hospitalk\n",
    "    return [forest, threshold, X.values, y.values]"
   ]
  },
  {
   "cell_type": "markdown",
   "metadata": {},
   "source": [
    "## Train model on each hospital (and save models)\n",
    "\n",
    "Note: train_save is a variable used to avoid retraining models when publishing Jupyter Book. If new saved models are needed change this variable to True"
   ]
  },
  {
   "cell_type": "code",
   "execution_count": 5,
   "metadata": {},
   "outputs": [],
   "source": [
    "# Cahnge this to True to refit and save models\n",
    "train_save = False"
   ]
  },
  {
   "cell_type": "code",
   "execution_count": 6,
   "metadata": {},
   "outputs": [],
   "source": [
    "if train_save:\n",
    "\n",
    "    # Get hospitals\n",
    "    hospitals = list(set(data['StrokeTeam'].values))\n",
    "\n",
    "    # Set up dictionsary for models\n",
    "    hospital2model = {}\n",
    "\n",
    "    # Train models\n",
    "    for hospital in hospitals:\n",
    "        hospital2model[hospital] = train_hospital(data, hospital)\n",
    "    \n",
    "    # Save model, threshold and data\n",
    "    with open ('./models/trained_hospital_models.pkl', 'wb') as f:\n",
    "        pkl.dump(hospital2model, f)  "
   ]
  }
 ],
 "metadata": {
  "kernelspec": {
   "display_name": "Python 3",
   "language": "python",
   "name": "python3"
  },
  "language_info": {
   "codemirror_mode": {
    "name": "ipython",
    "version": 3
   },
   "file_extension": ".py",
   "mimetype": "text/x-python",
   "name": "python",
   "nbconvert_exporter": "python",
   "pygments_lexer": "ipython3",
   "version": "3.8.5"
  }
 },
 "nbformat": 4,
 "nbformat_minor": 4
}