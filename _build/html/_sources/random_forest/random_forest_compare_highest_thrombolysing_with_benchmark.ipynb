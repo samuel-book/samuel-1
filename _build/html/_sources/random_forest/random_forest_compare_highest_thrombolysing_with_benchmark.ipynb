{
 "cells": [
  {
   "cell_type": "markdown",
   "metadata": {},
   "source": [
    "# How would thrombolysis use change if clinical decisions were made by hospitals with the highest current thrombolysis rate?"
   ]
  },
  {
   "cell_type": "markdown",
   "metadata": {},
   "source": [
    "## Aims\n",
    "\n",
    "* Investigate changes in thrombolysis use (for patients arriving within 4 hours of known onset) if the decision to thrombolyse is made by the 30 hospitals with the highest current thrombolysis rate.\n",
    "\n",
    "* Compare this to changes in thrombolysis use when the decision is made by a benchmark set of hospitals (those 30 hospitals which have the highest preidcted thrombolysis use in a standard corhort of patients; see separate NoteBook)"
   ]
  },
  {
   "cell_type": "markdown",
   "metadata": {},
   "source": [
    "## Import libraries "
   ]
  },
  {
   "cell_type": "code",
   "execution_count": 1,
   "metadata": {},
   "outputs": [],
   "source": [
    "# Turn warnings off to keep notebook tidy\n",
    "import warnings\n",
    "warnings.filterwarnings(\"ignore\")"
   ]
  },
  {
   "cell_type": "code",
   "execution_count": 2,
   "metadata": {},
   "outputs": [],
   "source": [
    "import os\n",
    "import matplotlib.pyplot as plt\n",
    "import numpy as np\n",
    "import pandas as pd\n",
    "import pickle as pkl\n",
    "\n",
    "import matplotlib.cm as cm\n",
    "import matplotlib.colors as colors\n",
    "from matplotlib.lines import Line2D\n",
    "\n",
    "from sklearn.ensemble import RandomForestClassifier\n",
    "from sklearn.metrics import auc\n",
    "from sklearn.metrics import roc_curve"
   ]
  },
  {
   "cell_type": "markdown",
   "metadata": {},
   "source": [
    "### Load pre-trained hospital models into dictionary `hospital2model` \n",
    "\n",
    "keys = hospitals\n",
    "\n",
    "values = trained_classifier, threshold, patients, outcomes"
   ]
  },
  {
   "cell_type": "code",
   "execution_count": 3,
   "metadata": {},
   "outputs": [],
   "source": [
    "with open ('./models/trained_hospital_models.pkl', 'rb') as f:\n",
    "    hospital2model = pkl.load(f)"
   ]
  },
  {
   "cell_type": "markdown",
   "metadata": {},
   "source": [
    "## Load data\n",
    "\n",
    "Create combined data set by combining cohort train/test"
   ]
  },
  {
   "cell_type": "code",
   "execution_count": 4,
   "metadata": {},
   "outputs": [],
   "source": [
    "data = pd.concat([\n",
    "    pd.read_csv('./../data/10k_training_test/cohort_10000_train.csv'),\n",
    "    pd.read_csv('./../data/10k_training_test/cohort_10000_test.csv')],\n",
    "    axis=0)\n",
    "\n",
    "data = data.sample(frac=1.0, random_state=42)\n",
    "\n",
    "hospitals = list(set(data['StrokeTeam'].values))"
   ]
  },
  {
   "cell_type": "markdown",
   "metadata": {},
   "source": [
    "## Find 30 hospitals with highest thrombolysis rate\n",
    "\n",
    "These are the hospitals with highest actual thrombolysis use."
   ]
  },
  {
   "cell_type": "code",
   "execution_count": 5,
   "metadata": {},
   "outputs": [],
   "source": [
    "hospitals = list(hospital2model.keys())"
   ]
  },
  {
   "cell_type": "code",
   "execution_count": 6,
   "metadata": {},
   "outputs": [],
   "source": [
    "rates = []\n",
    "\n",
    "for h in hospitals:\n",
    "    \n",
    "    patients = data.loc[data['StrokeTeam']==h]\n",
    "    \n",
    "    rate = sum(patients['S2Thrombolysis'].values)/len(patients)\n",
    "    \n",
    "    rates.append([h,rate])"
   ]
  },
  {
   "cell_type": "code",
   "execution_count": 7,
   "metadata": {},
   "outputs": [],
   "source": [
    "rates = sorted(rates, key=lambda x: x[1], reverse=True)"
   ]
  },
  {
   "cell_type": "code",
   "execution_count": 8,
   "metadata": {},
   "outputs": [],
   "source": [
    "sorted_hospitals, true_rates = zip(*rates)"
   ]
  },
  {
   "cell_type": "code",
   "execution_count": 9,
   "metadata": {},
   "outputs": [],
   "source": [
    "top_hospitals = sorted_hospitals[:30]"
   ]
  },
  {
   "cell_type": "markdown",
   "metadata": {},
   "source": [
    "## Put patients from all other hospitals through top hospitals "
   ]
  },
  {
   "cell_type": "code",
   "execution_count": 10,
   "metadata": {},
   "outputs": [],
   "source": [
    "columns = np.concatenate((['Hospital','True', 'Majority'], top_hospitals)) \n",
    "\n",
    "results_top = pd.DataFrame(columns = columns)\n",
    "\n",
    "\n",
    "for hospital in hospitals:\n",
    "    \n",
    "    patients = data.loc[data['StrokeTeam']==hospital]\n",
    "    \n",
    "    y = patients['S2Thrombolysis'].values\n",
    "    X = patients.drop(['StrokeTeam', 'S2Thrombolysis'], axis=1)\n",
    "    \n",
    "    hospital_results = pd.DataFrame(columns = columns)           \n",
    "        \n",
    "    for top_hospital in top_hospitals:\n",
    "\n",
    "        model, threshold, _, _ = hospital2model[top_hospital]\n",
    "        \n",
    "        y_prob = model.predict_proba(X)[:,1]\n",
    "        \n",
    "        y_pred = [1 if p >= threshold else 0 for p in y_prob]\n",
    "\n",
    "        hospital_results[top_hospital] = y_pred\n",
    "\n",
    "        \n",
    "    hospital_results['Hospital'] = [hospital for person in y]\n",
    "    hospital_results['True'] = y\n",
    "    \n",
    "\n",
    "    results_top = results_top.append(hospital_results, ignore_index=True)"
   ]
  },
  {
   "cell_type": "markdown",
   "metadata": {},
   "source": [
    "### Add majority outcome "
   ]
  },
  {
   "cell_type": "code",
   "execution_count": 11,
   "metadata": {},
   "outputs": [],
   "source": [
    "majority_threshold = 15/30\n",
    "\n",
    "for index,row in results_top.iterrows():\n",
    "    \n",
    "\n",
    "    no = sum([1 for val in row[3:].values if val ==0])\n",
    "    yes = sum(row[3:].values)\n",
    "    \n",
    "    \n",
    "    if yes/(no+yes)>=majority_threshold:\n",
    "        \n",
    "        results_top.loc[index, 'Majority'] = 1\n",
    "        \n",
    "    else:\n",
    "        \n",
    "        results_top.loc[index, 'Majority'] = 0"
   ]
  },
  {
   "cell_type": "markdown",
   "metadata": {},
   "source": [
    "### Find new thrombolysis rates\n",
    "\n",
    "Find thrombolysis use rates for each hospital if the decision to thrombolyse for their patients was made by a majority vote of 30 hospitals with the current highest thrombolysis use."
   ]
  },
  {
   "cell_type": "code",
   "execution_count": 12,
   "metadata": {},
   "outputs": [
    {
     "data": {
      "text/html": [
       "<div>\n",
       "<style scoped>\n",
       "    .dataframe tbody tr th:only-of-type {\n",
       "        vertical-align: middle;\n",
       "    }\n",
       "\n",
       "    .dataframe tbody tr th {\n",
       "        vertical-align: top;\n",
       "    }\n",
       "\n",
       "    .dataframe thead th {\n",
       "        text-align: right;\n",
       "    }\n",
       "</style>\n",
       "<table border=\"1\" class=\"dataframe\">\n",
       "  <thead>\n",
       "    <tr style=\"text-align: right;\">\n",
       "      <th></th>\n",
       "      <th>True</th>\n",
       "      <th>Majority</th>\n",
       "      <th>admissions</th>\n",
       "      <th>top_30</th>\n",
       "    </tr>\n",
       "    <tr>\n",
       "      <th>Hospital</th>\n",
       "      <th></th>\n",
       "      <th></th>\n",
       "      <th></th>\n",
       "      <th></th>\n",
       "    </tr>\n",
       "  </thead>\n",
       "  <tbody>\n",
       "    <tr>\n",
       "      <th>AGNOF1041H</th>\n",
       "      <td>0.352064</td>\n",
       "      <td>0.433486</td>\n",
       "      <td>872</td>\n",
       "      <td>True</td>\n",
       "    </tr>\n",
       "    <tr>\n",
       "      <th>AKCGO9726K</th>\n",
       "      <td>0.369748</td>\n",
       "      <td>0.313725</td>\n",
       "      <td>1428</td>\n",
       "      <td>True</td>\n",
       "    </tr>\n",
       "    <tr>\n",
       "      <th>AOBTM3098N</th>\n",
       "      <td>0.218803</td>\n",
       "      <td>0.305983</td>\n",
       "      <td>585</td>\n",
       "      <td>False</td>\n",
       "    </tr>\n",
       "    <tr>\n",
       "      <th>APXEE8191H</th>\n",
       "      <td>0.226481</td>\n",
       "      <td>0.238676</td>\n",
       "      <td>574</td>\n",
       "      <td>False</td>\n",
       "    </tr>\n",
       "    <tr>\n",
       "      <th>ATDID5461S</th>\n",
       "      <td>0.239617</td>\n",
       "      <td>0.255591</td>\n",
       "      <td>313</td>\n",
       "      <td>False</td>\n",
       "    </tr>\n",
       "    <tr>\n",
       "      <th>...</th>\n",
       "      <td>...</td>\n",
       "      <td>...</td>\n",
       "      <td>...</td>\n",
       "      <td>...</td>\n",
       "    </tr>\n",
       "    <tr>\n",
       "      <th>YPKYH1768F</th>\n",
       "      <td>0.246057</td>\n",
       "      <td>0.312303</td>\n",
       "      <td>317</td>\n",
       "      <td>False</td>\n",
       "    </tr>\n",
       "    <tr>\n",
       "      <th>YQMZV4284N</th>\n",
       "      <td>0.236170</td>\n",
       "      <td>0.236170</td>\n",
       "      <td>470</td>\n",
       "      <td>False</td>\n",
       "    </tr>\n",
       "    <tr>\n",
       "      <th>ZBVSO0975W</th>\n",
       "      <td>0.250000</td>\n",
       "      <td>0.363426</td>\n",
       "      <td>432</td>\n",
       "      <td>False</td>\n",
       "    </tr>\n",
       "    <tr>\n",
       "      <th>ZHCLE1578P</th>\n",
       "      <td>0.223639</td>\n",
       "      <td>0.164966</td>\n",
       "      <td>1176</td>\n",
       "      <td>False</td>\n",
       "    </tr>\n",
       "    <tr>\n",
       "      <th>ZRRCV7012C</th>\n",
       "      <td>0.157447</td>\n",
       "      <td>0.259574</td>\n",
       "      <td>705</td>\n",
       "      <td>False</td>\n",
       "    </tr>\n",
       "  </tbody>\n",
       "</table>\n",
       "<p>132 rows × 4 columns</p>\n",
       "</div>"
      ],
      "text/plain": [
       "                True  Majority  admissions  top_30\n",
       "Hospital                                          \n",
       "AGNOF1041H  0.352064  0.433486         872    True\n",
       "AKCGO9726K  0.369748  0.313725        1428    True\n",
       "AOBTM3098N  0.218803  0.305983         585   False\n",
       "APXEE8191H  0.226481  0.238676         574   False\n",
       "ATDID5461S  0.239617  0.255591         313   False\n",
       "...              ...       ...         ...     ...\n",
       "YPKYH1768F  0.246057  0.312303         317   False\n",
       "YQMZV4284N  0.236170  0.236170         470   False\n",
       "ZBVSO0975W  0.250000  0.363426         432   False\n",
       "ZHCLE1578P  0.223639  0.164966        1176   False\n",
       "ZRRCV7012C  0.157447  0.259574         705   False\n",
       "\n",
       "[132 rows x 4 columns]"
      ]
     },
     "execution_count": 12,
     "metadata": {},
     "output_type": "execute_result"
    }
   ],
   "source": [
    "# Get current and 'top 30 majority' vote thrombolysis use rates\n",
    "top_30_results = (results_top.groupby('Hospital')['True', 'Majority'].sum() /\n",
    "                  results_top.groupby('Hospital')['True', 'Majority'].count())\n",
    "\n",
    "# Add in admissions\n",
    "top_30_results['admissions'] = results_top.groupby('Hospital').count()['True']\n",
    "\n",
    "# Add in whether hospital is in top 30\n",
    "top_30_results['top_30'] = [x in top_hospitals for x in top_30_results.index ]\n",
    "\n",
    "# Show DataFrame\n",
    "top_30_results"
   ]
  },
  {
   "cell_type": "markdown",
   "metadata": {},
   "source": [
    "### Plot  "
   ]
  },
  {
   "cell_type": "code",
   "execution_count": 13,
   "metadata": {},
   "outputs": [
    {
     "data": {
      "image/png": "[encoded data removed]",
      "text/plain": [
       "<Figure size 360x360 with 1 Axes>"
      ]
     },
     "metadata": {
      "needs_background": "light"
     },
     "output_type": "display_data"
    }
   ],
   "source": [
    "fig = plt.figure(figsize=(5,5))\n",
    "ax = fig.add_subplot()\n",
    "\n",
    "# Plot non-benchmark hospitals in blue\n",
    "mask = top_30_results['top_30'] == False\n",
    "non_bench = top_30_results[mask]\n",
    "\n",
    "for i, val in non_bench.iterrows():\n",
    "    # Plot lines\n",
    "    ax.plot([non_bench['True'] * 100,\n",
    "             non_bench['True'] * 100],\n",
    "            [non_bench['True'] * 100,\n",
    "             non_bench['Majority'] * 100],\n",
    "            color='b', lw=0.5, alpha=0.6)\n",
    "    \n",
    "    # Add markers separately\n",
    "    ax.scatter(non_bench['True'] * 100, \n",
    "               non_bench['True'] * 100,\n",
    "               marker='o',\n",
    "               color='b',\n",
    "               zorder=2)\n",
    "    \n",
    "    ax.scatter(non_bench['True'] * 100, \n",
    "               non_bench['Majority'] * 100,\n",
    "               marker='_',\n",
    "               color='b',\n",
    "               zorder=2) \n",
    "\n",
    "# Plot benchmark hospitals in red\n",
    "# Plot non-benchmark hospitals in blue\n",
    "mask = top_30_results['top_30'] == True\n",
    "bench = top_30_results[mask]\n",
    "\n",
    "for i, val in bench.iterrows():\n",
    "    # Plot lines\n",
    "    ax.plot([bench['True'] * 100,\n",
    "             bench['True'] * 100],\n",
    "            [bench['True'] * 100,\n",
    "             bench['Majority'] * 100],\n",
    "            color='r', lw=0.5, alpha=0.6)\n",
    "    \n",
    "    # Add markers separately\n",
    "    ax.scatter(bench['True'] * 100, \n",
    "               bench['True'] * 100,\n",
    "               marker='o',\n",
    "               color='r',\n",
    "               zorder=2)\n",
    "    \n",
    "    ax.scatter(bench['True'] * 100, \n",
    "               bench['Majority'] * 100,\n",
    "               marker='_',\n",
    "               color='r',\n",
    "               zorder=2) \n",
    "\n",
    "\n",
    "# Add mods \n",
    "ax.set_xlabel('Actual thrombolysis rate (%)')\n",
    "ax.set_ylabel('Predicted benchmark thrombolysis rate (%)')\n",
    "ax.set_xlim(0, 57)\n",
    "ax.set_ylim(0, 57)\n",
    "\n",
    "custom_lines = [Line2D([0], [0], color='r', alpha=0.6, lw=2),\n",
    "                Line2D([0], [0], color='b', alpha = 0.6,lw=2)]\n",
    "\n",
    "plt.legend(custom_lines, ['Current top 30', 'Outside current top 30'],\n",
    "          loc='lower right')\n",
    "\n",
    "plt.tight_layout()\n",
    "plt.savefig('output/top_30_actual_thrombolysis.jpg', dpi=300)\n",
    "\n",
    "plt.show()"
   ]
  },
  {
   "cell_type": "markdown",
   "metadata": {},
   "source": [
    "### Calculated weighted average\n",
    "\n",
    "Weight thrombolysis by admission numbers"
   ]
  },
  {
   "cell_type": "code",
   "execution_count": 14,
   "metadata": {},
   "outputs": [],
   "source": [
    "base_rates = (\n",
    "    (top_30_results['True'] * top_30_results['admissions']).sum() / \n",
    "    top_30_results['admissions'].sum())\n",
    "\n",
    "top_30_rates = (\n",
    "    (top_30_results['Majority'] * top_30_results['admissions']).sum() /\n",
    "    top_30_results['admissions'].sum())"
   ]
  },
  {
   "cell_type": "code",
   "execution_count": 15,
   "metadata": {},
   "outputs": [
    {
     "name": "stdout",
     "output_type": "stream",
     "text": [
      "Baseline thrombolysis: 29.5\n",
      "Top 30 decision thrombolysis: 32.7\n",
      "Ratio of top 30 deiciions to base rate: 1.108\n"
     ]
    }
   ],
   "source": [
    "print (f'Baseline thrombolysis: {base_rates*100:0.1f}')\n",
    "print (f'Top 30 decision thrombolysis: {top_30_rates*100:0.1f}')\n",
    "ratio = top_30_rates / base_rates\n",
    "print (f'Ratio of top 30 deiciions to base rate: {ratio:0.3f}')"
   ]
  },
  {
   "cell_type": "markdown",
   "metadata": {},
   "source": [
    "## Observations\n",
    "\n",
    "* When the decision to thrombolyse is made by a majority vote of the top thrombolysing hospitals, the overall thrombolysis rate increases from 29.5% to 32.7%.\n",
    "\n",
    "* The change in thrombolysis use is signifcantly smaller than if the comparitor hospitals are those 30 hospitals which have the highest preidcted thrombolysis use in a standard corhort of patients (where thrombolysis use is predicted to rise to 36.9%).\n",
    "\n",
    "* The thrombolysis rate does not increase in all hospitals."
   ]
  }
 ],
 "metadata": {
  "kernelspec": {
   "display_name": "Python 3",
   "language": "python",
   "name": "python3"
  },
  "language_info": {
   "codemirror_mode": {
    "name": "ipython",
    "version": 3
   },
   "file_extension": ".py",
   "mimetype": "text/x-python",
   "name": "python",
   "nbconvert_exporter": "python",
   "pygments_lexer": "ipython3",
   "version": "3.8.5"
  }
 },
 "nbformat": 4,
 "nbformat_minor": 5
}
